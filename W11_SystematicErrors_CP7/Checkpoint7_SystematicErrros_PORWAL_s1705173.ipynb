{
 "cells": [
  {
   "cell_type": "code",
   "execution_count": 1,
   "id": "72362264",
   "metadata": {},
   "outputs": [],
   "source": [
    "import numpy as np\n",
    "import matplotlib.pyplot as plt\n",
    "from iminuit import Minuit as Min"
   ]
  },
  {
   "cell_type": "code",
   "execution_count": 2,
   "id": "3202bcfc",
   "metadata": {},
   "outputs": [
    {
     "data": {
      "text/plain": [
       "(100000,)"
      ]
     },
     "execution_count": 2,
     "metadata": {},
     "output_type": "execute_result"
    }
   ],
   "source": [
    "data = np.loadtxt('datafile-expresonance.txt')\n",
    "shape = data.shape\n",
    "shape"
   ]
  },
  {
   "cell_type": "code",
   "execution_count": 3,
   "id": "750ee203",
   "metadata": {},
   "outputs": [
    {
     "data": {
      "image/png": "[encoded data removed]",
      "text/plain": [
       "<Figure size 432x288 with 1 Axes>"
      ]
     },
     "metadata": {
      "needs_background": "light"
     },
     "output_type": "display_data"
    }
   ],
   "source": [
    "hist = plt.hist(data, density = True, bins = int(np.sqrt(shape)))\n",
    "plt.xlabel('lifetime')\n",
    "plt.ylabel('freq.')\n",
    "plt.title('lifetime histogram')\n",
    "plt.show()"
   ]
  },
  {
   "cell_type": "markdown",
   "id": "ce896dbb",
   "metadata": {},
   "source": [
    "## CP Part 1"
   ]
  },
  {
   "cell_type": "code",
   "execution_count": 4,
   "id": "3ef7f179",
   "metadata": {},
   "outputs": [],
   "source": [
    "#Parameters\n",
    "min_A = 0.\n",
    "max_A = 10.\n",
    "sigma = .2\n",
    "exp_F = 0.98\n",
    "exp_M = 2.5\n",
    "exp_A = 5.\n",
    "#F,A,M are to be fit"
   ]
  },
  {
   "cell_type": "code",
   "execution_count": 5,
   "id": "cb6c9133",
   "metadata": {},
   "outputs": [],
   "source": [
    "def bgd(m,A):\n",
    "    #Normalised exponential background\n",
    "    if A == 0:\n",
    "        return 0.\n",
    "    norm = A*(np.exp(-min_A/A) - np.exp(-max_A/A))\n",
    "    return np.exp(-m/A)/norm\n",
    "\n",
    "def signal(m,M):\n",
    "    #Normalise signal background\n",
    "    res = np.exp(-0.5*(m-M)**2/sigma**2)/(sigma*np.sqrt(2*np.pi))\n",
    "    return res #/np.sum(res)\n",
    "\n",
    "def pdf(m,F,A,M):\n",
    "    #Total pdf\n",
    "    P       = F*bgd(m,A) + (1-F)*signal(m,M)\n",
    "    P[P<=0] = 1e-8\n",
    "    return P\n",
    "\n",
    "def NLL(F,A,M):\n",
    "    #Function to fit using minuit\n",
    "    return -np.sum(np.log(pdf(current_data,F,A,M)))"
   ]
  },
  {
   "cell_type": "code",
   "execution_count": 6,
   "id": "e1fb0f8b",
   "metadata": {},
   "outputs": [],
   "source": [
    "#Using minuit to fit negative log likelihood function for parameters\n",
    "def minuitfit(F_i, A_i,M_i):\n",
    "    #Function to fit minuit and return results\n",
    "    pNames = ['F','A','M']\n",
    "    start = {\n",
    "    pNames[0]:F_i,\n",
    "    pNames[1]:A_i,\n",
    "    pNames[2]:M_i\n",
    "    }\n",
    "    minim = Min(NLL,**start)\n",
    "    minim.errordef = .5\n",
    "    minim.limits = [(0,1),(min_A,max_A),None]\n",
    "    result = minim.migrad()\n",
    "    return result"
   ]
  },
  {
   "cell_type": "code",
   "execution_count": 7,
   "id": "b1faf75e",
   "metadata": {
    "scrolled": true
   },
   "outputs": [
    {
     "name": "stdout",
     "output_type": "stream",
     "text": [
      "[7.83638931 2.63155278 0.85325719 2.7245098  0.18853175]\n"
     ]
    },
    {
     "data": {
      "text/html": [
       "<table>\n",
       "    <tr>\n",
       "        <th colspan=\"5\" style=\"text-align:center\" title=\"Minimizer\"> Migrad </th>\n",
       "    </tr>\n",
       "    <tr>\n",
       "        <td colspan=\"2\" style=\"text-align:left\" title=\"Minimum value of function\"> FCN = 2.146e+05 </td>\n",
       "        <td colspan=\"3\" style=\"text-align:center\" title=\"No. of function evaluations in last call and total number\"> Nfcn = 99 </td>\n",
       "    </tr>\n",
       "    <tr>\n",
       "        <td colspan=\"2\" style=\"text-align:left\" title=\"Estimated distance to minimum and goal\"> EDM = 1.39e-05 (Goal: 0.0001) </td>\n",
       "        <td colspan=\"3\" style=\"text-align:center\" title=\"No. of gradient evaluations in last call and total number\">  </td>\n",
       "    </tr>\n",
       "    <tr>\n",
       "        <td colspan=\"2\" style=\"text-align:center;background-color:#92CCA6;color:black\"> Valid Minimum </td>\n",
       "        <td colspan=\"3\" style=\"text-align:center;background-color:#92CCA6;color:black\"> No Parameters at limit </td>\n",
       "    </tr>\n",
       "    <tr>\n",
       "        <td colspan=\"2\" style=\"text-align:center;background-color:#92CCA6;color:black\"> Below EDM threshold (goal x 10) </td>\n",
       "        <td colspan=\"3\" style=\"text-align:center;background-color:#92CCA6;color:black\"> Below call limit </td>\n",
       "    </tr>\n",
       "    <tr>\n",
       "        <td style=\"text-align:center;background-color:#92CCA6;color:black\"> Covariance </td>\n",
       "        <td style=\"text-align:center;background-color:#92CCA6;color:black\"> Hesse ok </td>\n",
       "        <td style=\"text-align:center;background-color:#92CCA6;color:black\" title=\"Is covariance matrix accurate?\"> Accurate </td>\n",
       "        <td style=\"text-align:center;background-color:#92CCA6;color:black\" title=\"Is covariance matrix positive definite?\"> Pos. def. </td>\n",
       "        <td style=\"text-align:center;background-color:#92CCA6;color:black\" title=\"Was positive definiteness enforced by Minuit?\"> Not forced </td>\n",
       "    </tr>\n",
       "</table><table>\n",
       "    <tr>\n",
       "        <td></td>\n",
       "        <th title=\"Variable name\"> Name </th>\n",
       "        <th title=\"Value of parameter\"> Value </th>\n",
       "        <th title=\"Hesse error\"> Hesse Error </th>\n",
       "        <th title=\"Minos lower error\"> Minos Error- </th>\n",
       "        <th title=\"Minos upper error\"> Minos Error+ </th>\n",
       "        <th title=\"Lower limit of the parameter\"> Limit- </th>\n",
       "        <th title=\"Upper limit of the parameter\"> Limit+ </th>\n",
       "        <th title=\"Is the parameter fixed in the fit\"> Fixed </th>\n",
       "    </tr>\n",
       "    <tr>\n",
       "        <th> 0 </th>\n",
       "        <td> F </td>\n",
       "        <td> 0.9796 </td>\n",
       "        <td> 0.0012 </td>\n",
       "        <td>  </td>\n",
       "        <td>  </td>\n",
       "        <td> 0 </td>\n",
       "        <td> 1 </td>\n",
       "        <td>  </td>\n",
       "    </tr>\n",
       "    <tr>\n",
       "        <th> 1 </th>\n",
       "        <td> A </td>\n",
       "        <td> 5.008 </td>\n",
       "        <td> 0.031 </td>\n",
       "        <td>  </td>\n",
       "        <td>  </td>\n",
       "        <td> 0 </td>\n",
       "        <td> 10 </td>\n",
       "        <td>  </td>\n",
       "    </tr>\n",
       "    <tr>\n",
       "        <th> 2 </th>\n",
       "        <td> M </td>\n",
       "        <td> 2.499 </td>\n",
       "        <td> 0.015 </td>\n",
       "        <td>  </td>\n",
       "        <td>  </td>\n",
       "        <td>  </td>\n",
       "        <td>  </td>\n",
       "        <td>  </td>\n",
       "    </tr>\n",
       "</table><table>\n",
       "    <tr>\n",
       "        <td></td>\n",
       "        <th> F </th>\n",
       "        <th> A </th>\n",
       "        <th> M </th>\n",
       "    </tr>\n",
       "    <tr>\n",
       "        <th> F </th>\n",
       "        <td> 1.33e-06 </td>\n",
       "        <td style=\"background-color:rgb(235,235,250);color:black\"> -3.99e-06 <strong>(-0.112)</strong> </td>\n",
       "        <td style=\"background-color:rgb(250,244,244);color:black\"> 6.98e-07 <strong>(0.041)</strong> </td>\n",
       "    </tr>\n",
       "    <tr>\n",
       "        <th> A </th>\n",
       "        <td style=\"background-color:rgb(235,235,250);color:black\"> -3.99e-06 <strong>(-0.112)</strong> </td>\n",
       "        <td> 0.000945 </td>\n",
       "        <td style=\"background-color:rgb(245,245,250);color:black\"> -1.7e-05 <strong>(-0.038)</strong> </td>\n",
       "    </tr>\n",
       "    <tr>\n",
       "        <th> M </th>\n",
       "        <td style=\"background-color:rgb(250,244,244);color:black\"> 6.98e-07 <strong>(0.041)</strong> </td>\n",
       "        <td style=\"background-color:rgb(245,245,250);color:black\"> -1.7e-05 <strong>(-0.038)</strong> </td>\n",
       "        <td> 0.000212 </td>\n",
       "    </tr>\n",
       "</table>"
      ],
      "text/plain": [
       "┌─────────────────────────────────────────────────────────────────────────┐\n",
       "│                                Migrad                                   │\n",
       "├──────────────────────────────────┬──────────────────────────────────────┤\n",
       "│ FCN = 2.146e+05                  │              Nfcn = 99               │\n",
       "│ EDM = 1.39e-05 (Goal: 0.0001)    │                                      │\n",
       "├──────────────────────────────────┼──────────────────────────────────────┤\n",
       "│          Valid Minimum           │        No Parameters at limit        │\n",
       "├──────────────────────────────────┼──────────────────────────────────────┤\n",
       "│ Below EDM threshold (goal x 10)  │           Below call limit           │\n",
       "├───────────────┬──────────────────┼───────────┬─────────────┬────────────┤\n",
       "│  Covariance   │     Hesse ok     │ Accurate  │  Pos. def.  │ Not forced │\n",
       "└───────────────┴──────────────────┴───────────┴─────────────┴────────────┘\n",
       "┌───┬──────┬───────────┬───────────┬────────────┬────────────┬─────────┬─────────┬───────┐\n",
       "│   │ Name │   Value   │ Hesse Err │ Minos Err- │ Minos Err+ │ Limit-  │ Limit+  │ Fixed │\n",
       "├───┼──────┼───────────┼───────────┼────────────┼────────────┼─────────┼─────────┼───────┤\n",
       "│ 0 │ F    │  0.9796   │  0.0012   │            │            │    0    │    1    │       │\n",
       "│ 1 │ A    │   5.008   │   0.031   │            │            │    0    │   10    │       │\n",
       "│ 2 │ M    │   2.499   │   0.015   │            │            │         │         │       │\n",
       "└───┴──────┴───────────┴───────────┴────────────┴────────────┴─────────┴─────────┴───────┘\n",
       "┌───┬───────────────────────────────┐\n",
       "│   │         F         A         M │\n",
       "├───┼───────────────────────────────┤\n",
       "│ F │  1.33e-06 -3.99e-06  6.98e-07 │\n",
       "│ A │ -3.99e-06  0.000945  -1.7e-05 │\n",
       "│ M │  6.98e-07  -1.7e-05  0.000212 │\n",
       "└───┴───────────────────────────────┘"
      ]
     },
     "execution_count": 7,
     "metadata": {},
     "output_type": "execute_result"
    }
   ],
   "source": [
    "current_data = data\n",
    "print(current_data[:5])\n",
    "result1 = minuitfit(.9,4.,2.)\n",
    "result1"
   ]
  },
  {
   "cell_type": "code",
   "execution_count": 8,
   "id": "b92dd270",
   "metadata": {},
   "outputs": [
    {
     "data": {
      "text/plain": [
       "array([0.97960646, 5.00800617, 2.49857008])"
      ]
     },
     "execution_count": 8,
     "metadata": {},
     "output_type": "execute_result"
    }
   ],
   "source": [
    "np.array(result1.values)"
   ]
  },
  {
   "cell_type": "code",
   "execution_count": 9,
   "id": "f535151f",
   "metadata": {},
   "outputs": [
    {
     "data": {
      "text/plain": [
       "array([0.00115521, 0.03074838, 0.01457016])"
      ]
     },
     "execution_count": 9,
     "metadata": {},
     "output_type": "execute_result"
    }
   ],
   "source": [
    "np.array(result1.errors)"
   ]
  },
  {
   "cell_type": "markdown",
   "id": "5a93e106",
   "metadata": {},
   "source": [
    "The results are below:\n",
    "\n",
    "F = 0.9796 +/- 0.0012 (2 sig digs)\n",
    "\n",
    "A = 5.008  +/- 0.031  (^)\n",
    "\n",
    "M = 2.499  +/- 0.015  (^)\n",
    "\n",
    "These results are very close to and within error range of the expected values"
   ]
  },
  {
   "cell_type": "markdown",
   "id": "979c751c",
   "metadata": {},
   "source": [
    "## CP Part 2"
   ]
  },
  {
   "cell_type": "markdown",
   "id": "605c567b",
   "metadata": {},
   "source": [
    "### NEED TO REDO WITH THE FOLLOWING:\n",
    "- CREATE A FUNCTION TO JUST FIT M\n",
    "- VARY F AND A IN THE ERROR RANGES AND FIT FOR M\n",
    "- USE THE GAUSSIAN SHIFTS TO DETERMINE THE \n"
   ]
  },
  {
   "cell_type": "code",
   "execution_count": 10,
   "id": "5da7937e",
   "metadata": {},
   "outputs": [],
   "source": [
    "#Data generator\n",
    "def gen_data(N,mini = 0.,maxi = 10.,inc = 0.01):\n",
    "    data_gen = []\n",
    "    m_range = np.arange(mini,maxi,inc)\n",
    "    dist_sig = signal(m_range,exp_M)\n",
    "    dist_sig = dist_sig/np.sum(dist_sig)\n",
    "    dist_bgd = bgd(m_range,exp_A)\n",
    "    dist_bgd = dist_bgd/np.sum(dist_bgd)\n",
    "    while(len(data_gen)<N):\n",
    "        rnd = np.random.random()\n",
    "        #print(rnd)\n",
    "        if(rnd<exp_F):\n",
    "            data_gen.append(np.random.choice(m_range,p = dist_bgd))\n",
    "        else:\n",
    "            data_gen.append(np.random.choice(m_range,p = dist_sig))\n",
    "    return np.array(data_gen)"
   ]
  },
  {
   "cell_type": "code",
   "execution_count": 11,
   "id": "0828d273",
   "metadata": {},
   "outputs": [
    {
     "name": "stdout",
     "output_type": "stream",
     "text": [
      "[1.18 9.59 0.36 7.22 2.42]\n",
      "[6.64 6.04 1.22 4.05 2.34]\n",
      "[5.39 4.09 3.18 0.45 0.94]\n",
      "[0.63 8.56 3.82 6.42 3.45]\n",
      "[8.43 0.46 3.56 7.93 7.48]\n"
     ]
    },
    {
     "data": {
      "text/plain": [
       "(5, 10000)"
      ]
     },
     "execution_count": 11,
     "metadata": {},
     "output_type": "execute_result"
    }
   ],
   "source": [
    "datasets = []\n",
    "for i in range(5):\n",
    "    dat = gen_data(10000)\n",
    "    print(dat[:5])\n",
    "    datasets.append(dat)\n",
    "    \n",
    "datasets = np.array(datasets)\n",
    "datasets.shape\n"
   ]
  },
  {
   "cell_type": "code",
   "execution_count": 12,
   "id": "ee2dd3bf",
   "metadata": {},
   "outputs": [
    {
     "data": {
      "text/plain": [
       "\"\\n#Testing data generator\\nwhile(True):\\n    data_gen = gen_data(10000)\\n    hist = plt.hist(data_gen, density = True, bins = int(np.sqrt(data_gen.shape[0])))\\n    plt.xlabel('lifetime')\\n    plt.ylabel('freq.')\\n    plt.title('lifetime histogram')\\n    plt.show()\\n    \\n    current_data = data_gen\\n    res_test = minuitfit(.9,4.,2.)\\n    print(res_test.values)\\n\""
      ]
     },
     "execution_count": 12,
     "metadata": {},
     "output_type": "execute_result"
    }
   ],
   "source": [
    "'''\n",
    "#Testing data generator\n",
    "while(True):\n",
    "    data_gen = gen_data(10000)\n",
    "    hist = plt.hist(data_gen, density = True, bins = int(np.sqrt(data_gen.shape[0])))\n",
    "    plt.xlabel('lifetime')\n",
    "    plt.ylabel('freq.')\n",
    "    plt.title('lifetime histogram')\n",
    "    plt.show()\n",
    "    \n",
    "    current_data = data_gen\n",
    "    res_test = minuitfit(.9,4.,2.)\n",
    "    print(res_test.values)\n",
    "'''"
   ]
  },
  {
   "cell_type": "code",
   "execution_count": 13,
   "id": "e3c43448",
   "metadata": {
    "scrolled": true
   },
   "outputs": [
    {
     "data": {
      "text/plain": [
       "\"\\ndef gen_Ms(n_samples):\\n    Ms = []\\n    for i in range(n_samples):\\n        if(np.mod(i+1,10) == 0):\\n            print('sample ',(i+1),' generated')\\n        current_data = gen_data(10000)\\n        #print(current_data[:5])\\n        res_temp = minuitfit(.9,4.,2.)\\n        vals = res_temp.values\\n        #print(vals)\\n        M = vals[2]\\n        Ms.append(M)\\n    return np.array(Ms)\\n\""
      ]
     },
     "execution_count": 13,
     "metadata": {},
     "output_type": "execute_result"
    }
   ],
   "source": [
    "#Toy data generation, and M value estimation\n",
    "'''\n",
    "def gen_Ms(n_samples):\n",
    "    Ms = []\n",
    "    for i in range(n_samples):\n",
    "        if(np.mod(i+1,10) == 0):\n",
    "            print('sample ',(i+1),' generated')\n",
    "        current_data = gen_data(10000)\n",
    "        #print(current_data[:5])\n",
    "        res_temp = minuitfit(.9,4.,2.)\n",
    "        vals = res_temp.values\n",
    "        #print(vals)\n",
    "        M = vals[2]\n",
    "        Ms.append(M)\n",
    "    return np.array(Ms)\n",
    "'''\n"
   ]
  },
  {
   "cell_type": "markdown",
   "id": "21cbd5e9",
   "metadata": {},
   "source": [
    "while(True):\n",
    "    gen_data(100)\n",
    "    "
   ]
  },
  {
   "cell_type": "markdown",
   "id": "e246fa79",
   "metadata": {},
   "source": [
    "Ms = gen_Ms(100)\n",
    "shifts = Ms - exp_M\n"
   ]
  },
  {
   "cell_type": "markdown",
   "id": "c59f9ed1",
   "metadata": {},
   "source": [
    "shifts"
   ]
  },
  {
   "cell_type": "code",
   "execution_count": null,
   "id": "998e1734",
   "metadata": {},
   "outputs": [],
   "source": []
  }
 ],
 "metadata": {
  "kernelspec": {
   "display_name": "Python 3 (ipykernel)",
   "language": "python",
   "name": "python3"
  },
  "language_info": {
   "codemirror_mode": {
    "name": "ipython",
    "version": 3
   },
   "file_extension": ".py",
   "mimetype": "text/x-python",
   "name": "python",
   "nbconvert_exporter": "python",
   "pygments_lexer": "ipython3",
   "version": "3.7.10"
  }
 },
 "nbformat": 4,
 "nbformat_minor": 5
}
