{
 "cells": [
  {
   "cell_type": "markdown",
   "metadata": {},
   "source": [
    "# Checkpoint 1: Neural networks and deep learning\n",
    "---\n",
    "*Responsible:* Guillermo Hamity (<ghamity@ed.ac.uk>)\n",
    "\n",
    "In this checkpoint exercise, we will use neural networks to predict the **type** of weather *given* the available ground observations. You will be using observation data from **June 2019** across all UK Met Office weather stations.\n",
    "\n",
    "### Notes on the Dataset\n",
    "* You will be using weather observation data from the UK Met Office Datapoint service\n",
    "* Ground observations are made hourly at weather stations across the length of the UK \n",
    "* The data sample covers data from June 2019\n",
    "* Data collections for each day starts at 6.30pm. All observation data is listed in one day blocks\n",
    "* The time value column refers to the number of minutes after midnight \n",
    "* `Null` values for some features are expected (e.g. Wind Gust)\n",
    "* Data import and preparation is already provided \n",
    "\n",
    "\n",
    "This week, I am not providing example notebooks like `lecture2.ipynb` and `data-science-tools.ipynb` for Unit 2, though these may still be useful to you. Instead, I am **providing the imports for all of the modules and classes that you should need.** Think of these as LEGO blocks; you have the ones you need but may look up how to \"assemble\" them.\n",
    "\n",
    "### Notes on assessment\n",
    "* Try and calculate the answers to the exercises provided. If you are unable to complete the question, describe which approach you _would_ have taken to solve the problem\n",
    "* Code must be understandable and reproducible. Before grading the notebook kernel **may** be restarted and re-run, so make sure that your code can run from start to finish without any (unintentional) errors\n",
    "* If you are unsure on how to proceed please **ask one of the TAs** during the workshop\n",
    "- Notebooks should be submitted by **10am on Friday 9 October 2021** \n",
    "- This CP exercise sheet is divided into **6 sections**, corresponding to parts of the lecture, giving a maximum of **10 marks** in total:\n",
    "\n",
    "| <p align='left'> Title                         | <p align='left'> Exercise nos. | <p align='left'> Number of marks |\n",
    "| ------------------------------------- | ----- | --- |\n",
    "| <p align='left'> 1. Conceptual questions               | <p align='left'>  1–5  | <p align='left'> 2.5 |\n",
    "| <p align='left'> 2. Data preprocessing and RandomForest                | <p align='left'>  6–9  | <p align='left'> 2.5 |\n",
    "| <p align='left'> 3. Neural networks in `scikit-learn`  | <p align='left'>  10–11 | <p align='left'> 1.5 | \n",
    "| <p align='left'> 4. Neural networks in `Keras`         | <p align='left'> 12–13 | <p align='left'> 2 |\n",
    "| <p align='left'> 5. Regularisation                     | <p align='left'> 14–15 | <p align='left'> 1.5 |\n",
    "| <p align='left'> 6. Bonus: Hyperparameter optimisation | <p align='left'> 16 | <p align='left'> 1.0 (\\*bonus\\*) |\n",
    "| <p align='left'> **Total** | | <p align='left'> **10 + 1** |\n",
    "\n",
    "- The total number of marks allocated for this CP is 10,\n",
    "    - 1 additional mark can be given (maximimally up to 10 marks in total) for \"bonus\" exercise on hyperparameter optimisation. If you are pressed for time, focus on the first five sections; those are the core ones.\n",
    "    - Half marks may be deducted for code legibility (i.e. very difficult to tell what you are doing), or for badly formated plots (i.e. no legends, axis labels etc.). The TAs will use their discression for this so comment code when applicable and keep relevant information in your plots.\n",
    "\n",
    "_Note:_ You can suppress double-printing of plots from the `plot` module by either _(a)_ adding a semicolon after the function call (_i.e._ `plot.<method>(...);`), or _(b)_ by capturing the return `pyplot.Figure` object as a variable (_i.e._ `fig = plot.<method>(...)`)."
   ]
  },
  {
   "cell_type": "markdown",
   "metadata": {},
   "source": [
    "## Preamble"
   ]
  },
  {
   "cell_type": "code",
   "execution_count": 1,
   "metadata": {},
   "outputs": [
    {
     "name": "stderr",
     "output_type": "stream",
     "text": [
      "C:\\Users\\Sahaj Porwal\\anaconda3\\envs\\daml\\lib\\site-packages\\tensorflow\\python\\framework\\dtypes.py:516: FutureWarning: Passing (type, 1) or '1type' as a synonym of type is deprecated; in a future version of numpy, it will be understood as (type, (1,)) / '(1,)type'.\n",
      "  _np_qint8 = np.dtype([(\"qint8\", np.int8, 1)])\n",
      "C:\\Users\\Sahaj Porwal\\anaconda3\\envs\\daml\\lib\\site-packages\\tensorflow\\python\\framework\\dtypes.py:517: FutureWarning: Passing (type, 1) or '1type' as a synonym of type is deprecated; in a future version of numpy, it will be understood as (type, (1,)) / '(1,)type'.\n",
      "  _np_quint8 = np.dtype([(\"quint8\", np.uint8, 1)])\n",
      "C:\\Users\\Sahaj Porwal\\anaconda3\\envs\\daml\\lib\\site-packages\\tensorflow\\python\\framework\\dtypes.py:518: FutureWarning: Passing (type, 1) or '1type' as a synonym of type is deprecated; in a future version of numpy, it will be understood as (type, (1,)) / '(1,)type'.\n",
      "  _np_qint16 = np.dtype([(\"qint16\", np.int16, 1)])\n",
      "C:\\Users\\Sahaj Porwal\\anaconda3\\envs\\daml\\lib\\site-packages\\tensorflow\\python\\framework\\dtypes.py:519: FutureWarning: Passing (type, 1) or '1type' as a synonym of type is deprecated; in a future version of numpy, it will be understood as (type, (1,)) / '(1,)type'.\n",
      "  _np_quint16 = np.dtype([(\"quint16\", np.uint16, 1)])\n",
      "C:\\Users\\Sahaj Porwal\\anaconda3\\envs\\daml\\lib\\site-packages\\tensorflow\\python\\framework\\dtypes.py:520: FutureWarning: Passing (type, 1) or '1type' as a synonym of type is deprecated; in a future version of numpy, it will be understood as (type, (1,)) / '(1,)type'.\n",
      "  _np_qint32 = np.dtype([(\"qint32\", np.int32, 1)])\n",
      "C:\\Users\\Sahaj Porwal\\anaconda3\\envs\\daml\\lib\\site-packages\\tensorflow\\python\\framework\\dtypes.py:525: FutureWarning: Passing (type, 1) or '1type' as a synonym of type is deprecated; in a future version of numpy, it will be understood as (type, (1,)) / '(1,)type'.\n",
      "  np_resource = np.dtype([(\"resource\", np.ubyte, 1)])\n",
      "C:\\Users\\Sahaj Porwal\\anaconda3\\envs\\daml\\lib\\site-packages\\tensorboard\\compat\\tensorflow_stub\\dtypes.py:541: FutureWarning: Passing (type, 1) or '1type' as a synonym of type is deprecated; in a future version of numpy, it will be understood as (type, (1,)) / '(1,)type'.\n",
      "  _np_qint8 = np.dtype([(\"qint8\", np.int8, 1)])\n",
      "C:\\Users\\Sahaj Porwal\\anaconda3\\envs\\daml\\lib\\site-packages\\tensorboard\\compat\\tensorflow_stub\\dtypes.py:542: FutureWarning: Passing (type, 1) or '1type' as a synonym of type is deprecated; in a future version of numpy, it will be understood as (type, (1,)) / '(1,)type'.\n",
      "  _np_quint8 = np.dtype([(\"quint8\", np.uint8, 1)])\n",
      "C:\\Users\\Sahaj Porwal\\anaconda3\\envs\\daml\\lib\\site-packages\\tensorboard\\compat\\tensorflow_stub\\dtypes.py:543: FutureWarning: Passing (type, 1) or '1type' as a synonym of type is deprecated; in a future version of numpy, it will be understood as (type, (1,)) / '(1,)type'.\n",
      "  _np_qint16 = np.dtype([(\"qint16\", np.int16, 1)])\n",
      "C:\\Users\\Sahaj Porwal\\anaconda3\\envs\\daml\\lib\\site-packages\\tensorboard\\compat\\tensorflow_stub\\dtypes.py:544: FutureWarning: Passing (type, 1) or '1type' as a synonym of type is deprecated; in a future version of numpy, it will be understood as (type, (1,)) / '(1,)type'.\n",
      "  _np_quint16 = np.dtype([(\"quint16\", np.uint16, 1)])\n",
      "C:\\Users\\Sahaj Porwal\\anaconda3\\envs\\daml\\lib\\site-packages\\tensorboard\\compat\\tensorflow_stub\\dtypes.py:545: FutureWarning: Passing (type, 1) or '1type' as a synonym of type is deprecated; in a future version of numpy, it will be understood as (type, (1,)) / '(1,)type'.\n",
      "  _np_qint32 = np.dtype([(\"qint32\", np.int32, 1)])\n",
      "C:\\Users\\Sahaj Porwal\\anaconda3\\envs\\daml\\lib\\site-packages\\tensorboard\\compat\\tensorflow_stub\\dtypes.py:550: FutureWarning: Passing (type, 1) or '1type' as a synonym of type is deprecated; in a future version of numpy, it will be understood as (type, (1,)) / '(1,)type'.\n",
      "  np_resource = np.dtype([(\"resource\", np.ubyte, 1)])\n"
     ]
    }
   ],
   "source": [
    "# Standard import(s)\n",
    "import numpy as np\n",
    "import pandas as pd\n",
    "import random as rn\n",
    "import sklearn\n",
    "import tensorflow as tf\n",
    "import matplotlib.pyplot as plt\n",
    "import seaborn as sns\n",
    "import os\n",
    "%matplotlib inline\n",
    "\n",
    "# Suppress unnecessary ConvergenceWarnings and DeprecationWarnings\n",
    "import warnings\n",
    "from sklearn.exceptions import ConvergenceWarning\n",
    "warnings.filterwarnings(action='ignore', category=ConvergenceWarning)\n",
    "warnings.filterwarnings(action='ignore', category=DeprecationWarning)\n",
    "\n",
    "# Set a random seed variable to make workbook reproducible\n",
    "seed=5\n",
    "np.random.seed(seed)\n",
    "rn.seed(seed)\n",
    "os.environ['PYTHONHASHSEED']=str(seed)\n",
    "tf.compat.v1.set_random_seed(seed)\n",
    "\n",
    "# Switch off multi-threading for TensorFlow\n",
    "from tensorflow.python.keras import backend as K\n",
    "config = tf.compat.v1.ConfigProto(intra_op_parallelism_threads=1,\n",
    "                                  inter_op_parallelism_threads=1)\n",
    "sess = tf.compat.v1.Session(graph=tf.compat.v1.get_default_graph(), config=config)\n",
    "K.set_session(sess)"
   ]
  },
  {
   "cell_type": "code",
   "execution_count": 2,
   "metadata": {},
   "outputs": [
    {
     "data": {
      "text/html": [
       "<div>\n",
       "<style scoped>\n",
       "    .dataframe tbody tr th:only-of-type {\n",
       "        vertical-align: middle;\n",
       "    }\n",
       "\n",
       "    .dataframe tbody tr th {\n",
       "        vertical-align: top;\n",
       "    }\n",
       "\n",
       "    .dataframe thead th {\n",
       "        text-align: right;\n",
       "    }\n",
       "</style>\n",
       "<table border=\"1\" class=\"dataframe\">\n",
       "  <thead>\n",
       "    <tr style=\"text-align: right;\">\n",
       "      <th></th>\n",
       "      <th>StationID</th>\n",
       "      <th>StationName</th>\n",
       "      <th>Elevation</th>\n",
       "      <th>Latitude</th>\n",
       "      <th>Longitude</th>\n",
       "      <th>Date</th>\n",
       "      <th>Time</th>\n",
       "      <th>Gust</th>\n",
       "      <th>Temperature</th>\n",
       "      <th>Visibility</th>\n",
       "      <th>WindDirection</th>\n",
       "      <th>WindSpeed</th>\n",
       "      <th>Pressure</th>\n",
       "      <th>PressureTrend</th>\n",
       "      <th>DewPoint</th>\n",
       "      <th>Humidity</th>\n",
       "      <th>Type</th>\n",
       "    </tr>\n",
       "  </thead>\n",
       "  <tbody>\n",
       "    <tr>\n",
       "      <th>0</th>\n",
       "      <td>3002</td>\n",
       "      <td>BALTASOUND</td>\n",
       "      <td>15.0</td>\n",
       "      <td>60.749</td>\n",
       "      <td>-0.854</td>\n",
       "      <td>2018-05-31</td>\n",
       "      <td>1020</td>\n",
       "      <td>NaN</td>\n",
       "      <td>16.1</td>\n",
       "      <td>30000.0</td>\n",
       "      <td>E</td>\n",
       "      <td>8.0</td>\n",
       "      <td>1019.0</td>\n",
       "      <td>F</td>\n",
       "      <td>11.6</td>\n",
       "      <td>74.5</td>\n",
       "      <td>0</td>\n",
       "    </tr>\n",
       "    <tr>\n",
       "      <th>1</th>\n",
       "      <td>3002</td>\n",
       "      <td>BALTASOUND</td>\n",
       "      <td>15.0</td>\n",
       "      <td>60.749</td>\n",
       "      <td>-0.854</td>\n",
       "      <td>2018-05-31</td>\n",
       "      <td>1080</td>\n",
       "      <td>NaN</td>\n",
       "      <td>14.9</td>\n",
       "      <td>22000.0</td>\n",
       "      <td>E</td>\n",
       "      <td>8.0</td>\n",
       "      <td>1019.0</td>\n",
       "      <td>F</td>\n",
       "      <td>11.8</td>\n",
       "      <td>81.5</td>\n",
       "      <td>0</td>\n",
       "    </tr>\n",
       "    <tr>\n",
       "      <th>2</th>\n",
       "      <td>3002</td>\n",
       "      <td>BALTASOUND</td>\n",
       "      <td>15.0</td>\n",
       "      <td>60.749</td>\n",
       "      <td>-0.854</td>\n",
       "      <td>2018-05-31</td>\n",
       "      <td>1140</td>\n",
       "      <td>NaN</td>\n",
       "      <td>14.0</td>\n",
       "      <td>14000.0</td>\n",
       "      <td>E</td>\n",
       "      <td>6.0</td>\n",
       "      <td>1018.0</td>\n",
       "      <td>F</td>\n",
       "      <td>11.6</td>\n",
       "      <td>85.4</td>\n",
       "      <td>0</td>\n",
       "    </tr>\n",
       "    <tr>\n",
       "      <th>3</th>\n",
       "      <td>3002</td>\n",
       "      <td>BALTASOUND</td>\n",
       "      <td>15.0</td>\n",
       "      <td>60.749</td>\n",
       "      <td>-0.854</td>\n",
       "      <td>2018-05-31</td>\n",
       "      <td>1200</td>\n",
       "      <td>NaN</td>\n",
       "      <td>12.9</td>\n",
       "      <td>12000.0</td>\n",
       "      <td>ENE</td>\n",
       "      <td>2.0</td>\n",
       "      <td>1019.0</td>\n",
       "      <td>R</td>\n",
       "      <td>11.0</td>\n",
       "      <td>88.1</td>\n",
       "      <td>0</td>\n",
       "    </tr>\n",
       "    <tr>\n",
       "      <th>4</th>\n",
       "      <td>3002</td>\n",
       "      <td>BALTASOUND</td>\n",
       "      <td>15.0</td>\n",
       "      <td>60.749</td>\n",
       "      <td>-0.854</td>\n",
       "      <td>2018-05-31</td>\n",
       "      <td>1260</td>\n",
       "      <td>NaN</td>\n",
       "      <td>12.0</td>\n",
       "      <td>9000.0</td>\n",
       "      <td>E</td>\n",
       "      <td>2.0</td>\n",
       "      <td>1019.0</td>\n",
       "      <td>R</td>\n",
       "      <td>10.9</td>\n",
       "      <td>92.9</td>\n",
       "      <td>1</td>\n",
       "    </tr>\n",
       "  </tbody>\n",
       "</table>\n",
       "</div>"
      ],
      "text/plain": [
       "   StationID StationName  Elevation  Latitude  Longitude        Date  Time  \\\n",
       "0       3002  BALTASOUND       15.0    60.749     -0.854  2018-05-31  1020   \n",
       "1       3002  BALTASOUND       15.0    60.749     -0.854  2018-05-31  1080   \n",
       "2       3002  BALTASOUND       15.0    60.749     -0.854  2018-05-31  1140   \n",
       "3       3002  BALTASOUND       15.0    60.749     -0.854  2018-05-31  1200   \n",
       "4       3002  BALTASOUND       15.0    60.749     -0.854  2018-05-31  1260   \n",
       "\n",
       "   Gust  Temperature  Visibility WindDirection  WindSpeed  Pressure  \\\n",
       "0   NaN         16.1     30000.0             E        8.0    1019.0   \n",
       "1   NaN         14.9     22000.0             E        8.0    1019.0   \n",
       "2   NaN         14.0     14000.0             E        6.0    1018.0   \n",
       "3   NaN         12.9     12000.0           ENE        2.0    1019.0   \n",
       "4   NaN         12.0      9000.0             E        2.0    1019.0   \n",
       "\n",
       "  PressureTrend  DewPoint  Humidity  Type  \n",
       "0             F      11.6      74.5     0  \n",
       "1             F      11.8      81.5     0  \n",
       "2             F      11.6      85.4     0  \n",
       "3             R      11.0      88.1     0  \n",
       "4             R      10.9      92.9     1  "
      ]
     },
     "execution_count": 2,
     "metadata": {},
     "output_type": "execute_result"
    }
   ],
   "source": [
    "# Load in the prepared weather data\n",
    "obs = pd.read_csv('weather.csv')\n",
    "obs.head()"
   ]
  },
  {
   "cell_type": "code",
   "execution_count": 3,
   "metadata": {},
   "outputs": [
    {
     "data": {
      "text/plain": [
       "(106553, 17)"
      ]
     },
     "execution_count": 3,
     "metadata": {},
     "output_type": "execute_result"
    }
   ],
   "source": [
    "obs.shape"
   ]
  },
  {
   "cell_type": "code",
   "execution_count": 4,
   "metadata": {},
   "outputs": [
    {
     "data": {
      "text/html": [
       "<div>\n",
       "<style scoped>\n",
       "    .dataframe tbody tr th:only-of-type {\n",
       "        vertical-align: middle;\n",
       "    }\n",
       "\n",
       "    .dataframe tbody tr th {\n",
       "        vertical-align: top;\n",
       "    }\n",
       "\n",
       "    .dataframe thead th {\n",
       "        text-align: right;\n",
       "    }\n",
       "</style>\n",
       "<table border=\"1\" class=\"dataframe\">\n",
       "  <thead>\n",
       "    <tr style=\"text-align: right;\">\n",
       "      <th></th>\n",
       "      <th>StationID</th>\n",
       "      <th>Elevation</th>\n",
       "      <th>Latitude</th>\n",
       "      <th>Longitude</th>\n",
       "      <th>Time</th>\n",
       "      <th>Gust</th>\n",
       "      <th>Temperature</th>\n",
       "      <th>Visibility</th>\n",
       "      <th>WindSpeed</th>\n",
       "      <th>Pressure</th>\n",
       "      <th>DewPoint</th>\n",
       "      <th>Humidity</th>\n",
       "      <th>Type</th>\n",
       "    </tr>\n",
       "  </thead>\n",
       "  <tbody>\n",
       "    <tr>\n",
       "      <th>count</th>\n",
       "      <td>106553.000000</td>\n",
       "      <td>106553.000000</td>\n",
       "      <td>106553.000000</td>\n",
       "      <td>106553.000000</td>\n",
       "      <td>106553.000000</td>\n",
       "      <td>7703.000000</td>\n",
       "      <td>106442.000000</td>\n",
       "      <td>92662.000000</td>\n",
       "      <td>102060.000000</td>\n",
       "      <td>99530.000000</td>\n",
       "      <td>106402.000000</td>\n",
       "      <td>106397.000000</td>\n",
       "      <td>106553.00000</td>\n",
       "    </tr>\n",
       "    <tr>\n",
       "      <th>mean</th>\n",
       "      <td>6147.845636</td>\n",
       "      <td>114.466594</td>\n",
       "      <td>53.673022</td>\n",
       "      <td>-2.829034</td>\n",
       "      <td>702.914418</td>\n",
       "      <td>33.043749</td>\n",
       "      <td>14.958912</td>\n",
       "      <td>25698.164404</td>\n",
       "      <td>8.999510</td>\n",
       "      <td>1018.748337</td>\n",
       "      <td>10.348008</td>\n",
       "      <td>76.185240</td>\n",
       "      <td>0.99603</td>\n",
       "    </tr>\n",
       "    <tr>\n",
       "      <th>std</th>\n",
       "      <td>15821.503845</td>\n",
       "      <td>171.669120</td>\n",
       "      <td>2.466079</td>\n",
       "      <td>2.269594</td>\n",
       "      <td>412.057262</td>\n",
       "      <td>13.424855</td>\n",
       "      <td>4.294516</td>\n",
       "      <td>14263.873943</td>\n",
       "      <td>6.087882</td>\n",
       "      <td>6.327468</td>\n",
       "      <td>3.120565</td>\n",
       "      <td>17.208653</td>\n",
       "      <td>0.92971</td>\n",
       "    </tr>\n",
       "    <tr>\n",
       "      <th>min</th>\n",
       "      <td>3002.000000</td>\n",
       "      <td>2.000000</td>\n",
       "      <td>49.207900</td>\n",
       "      <td>-10.250000</td>\n",
       "      <td>0.000000</td>\n",
       "      <td>0.000000</td>\n",
       "      <td>-1.200000</td>\n",
       "      <td>20.000000</td>\n",
       "      <td>0.000000</td>\n",
       "      <td>976.000000</td>\n",
       "      <td>-28.200000</td>\n",
       "      <td>0.800000</td>\n",
       "      <td>0.00000</td>\n",
       "    </tr>\n",
       "    <tr>\n",
       "      <th>25%</th>\n",
       "      <td>3204.000000</td>\n",
       "      <td>20.000000</td>\n",
       "      <td>51.565000</td>\n",
       "      <td>-4.149000</td>\n",
       "      <td>360.000000</td>\n",
       "      <td>29.000000</td>\n",
       "      <td>12.000000</td>\n",
       "      <td>14000.000000</td>\n",
       "      <td>5.000000</td>\n",
       "      <td>1015.000000</td>\n",
       "      <td>8.400000</td>\n",
       "      <td>65.300000</td>\n",
       "      <td>0.00000</td>\n",
       "    </tr>\n",
       "    <tr>\n",
       "      <th>50%</th>\n",
       "      <td>3414.000000</td>\n",
       "      <td>65.000000</td>\n",
       "      <td>53.175000</td>\n",
       "      <td>-2.663000</td>\n",
       "      <td>720.000000</td>\n",
       "      <td>32.000000</td>\n",
       "      <td>14.500000</td>\n",
       "      <td>25000.000000</td>\n",
       "      <td>8.000000</td>\n",
       "      <td>1018.000000</td>\n",
       "      <td>10.500000</td>\n",
       "      <td>79.200000</td>\n",
       "      <td>1.00000</td>\n",
       "    </tr>\n",
       "    <tr>\n",
       "      <th>75%</th>\n",
       "      <td>3769.000000</td>\n",
       "      <td>132.000000</td>\n",
       "      <td>55.285000</td>\n",
       "      <td>-1.097000</td>\n",
       "      <td>1020.000000</td>\n",
       "      <td>39.000000</td>\n",
       "      <td>17.500000</td>\n",
       "      <td>35000.000000</td>\n",
       "      <td>11.000000</td>\n",
       "      <td>1024.000000</td>\n",
       "      <td>12.500000</td>\n",
       "      <td>90.000000</td>\n",
       "      <td>1.00000</td>\n",
       "    </tr>\n",
       "    <tr>\n",
       "      <th>max</th>\n",
       "      <td>99142.000000</td>\n",
       "      <td>1245.000000</td>\n",
       "      <td>60.749000</td>\n",
       "      <td>1.348000</td>\n",
       "      <td>1380.000000</td>\n",
       "      <td>105.000000</td>\n",
       "      <td>31.600000</td>\n",
       "      <td>75000.000000</td>\n",
       "      <td>81.000000</td>\n",
       "      <td>1036.000000</td>\n",
       "      <td>22.700000</td>\n",
       "      <td>100.000000</td>\n",
       "      <td>3.00000</td>\n",
       "    </tr>\n",
       "  </tbody>\n",
       "</table>\n",
       "</div>"
      ],
      "text/plain": [
       "           StationID      Elevation       Latitude      Longitude  \\\n",
       "count  106553.000000  106553.000000  106553.000000  106553.000000   \n",
       "mean     6147.845636     114.466594      53.673022      -2.829034   \n",
       "std     15821.503845     171.669120       2.466079       2.269594   \n",
       "min      3002.000000       2.000000      49.207900     -10.250000   \n",
       "25%      3204.000000      20.000000      51.565000      -4.149000   \n",
       "50%      3414.000000      65.000000      53.175000      -2.663000   \n",
       "75%      3769.000000     132.000000      55.285000      -1.097000   \n",
       "max     99142.000000    1245.000000      60.749000       1.348000   \n",
       "\n",
       "                Time         Gust    Temperature    Visibility      WindSpeed  \\\n",
       "count  106553.000000  7703.000000  106442.000000  92662.000000  102060.000000   \n",
       "mean      702.914418    33.043749      14.958912  25698.164404       8.999510   \n",
       "std       412.057262    13.424855       4.294516  14263.873943       6.087882   \n",
       "min         0.000000     0.000000      -1.200000     20.000000       0.000000   \n",
       "25%       360.000000    29.000000      12.000000  14000.000000       5.000000   \n",
       "50%       720.000000    32.000000      14.500000  25000.000000       8.000000   \n",
       "75%      1020.000000    39.000000      17.500000  35000.000000      11.000000   \n",
       "max      1380.000000   105.000000      31.600000  75000.000000      81.000000   \n",
       "\n",
       "           Pressure       DewPoint       Humidity          Type  \n",
       "count  99530.000000  106402.000000  106397.000000  106553.00000  \n",
       "mean    1018.748337      10.348008      76.185240       0.99603  \n",
       "std        6.327468       3.120565      17.208653       0.92971  \n",
       "min      976.000000     -28.200000       0.800000       0.00000  \n",
       "25%     1015.000000       8.400000      65.300000       0.00000  \n",
       "50%     1018.000000      10.500000      79.200000       1.00000  \n",
       "75%     1024.000000      12.500000      90.000000       1.00000  \n",
       "max     1036.000000      22.700000     100.000000       3.00000  "
      ]
     },
     "execution_count": 4,
     "metadata": {},
     "output_type": "execute_result"
    }
   ],
   "source": [
    "obs.describe()"
   ]
  },
  {
   "cell_type": "markdown",
   "metadata": {},
   "source": [
    "For this exercise we will use **8** input features (provided) and clean the data:"
   ]
  },
  {
   "cell_type": "code",
   "execution_count": 5,
   "metadata": {},
   "outputs": [],
   "source": [
    "# Define 8 input feature variables, 1 target variable data, and names of the 3 weather types\n",
    "features = ['Latitude', 'Elevation', 'Temperature', 'Visibility', 'WindSpeed', 'Pressure', 'Humidity', 'WindDirection']\n",
    "output   = ['Type']\n",
    "wtype    = ['Clear', 'Cloudy', 'Precip']"
   ]
  },
  {
   "cell_type": "markdown",
   "metadata": {},
   "source": [
    "Define derived dataset containing only the relevant columns and rows."
   ]
  },
  {
   "cell_type": "code",
   "execution_count": 6,
   "metadata": {},
   "outputs": [
    {
     "data": {
      "text/plain": [
       "(86313, 9)"
      ]
     },
     "execution_count": 6,
     "metadata": {},
     "output_type": "execute_result"
    }
   ],
   "source": [
    "# Reduce to feature and type columns\n",
    "dataset = obs[features + output]\n",
    "\n",
    "# Drop duplicates and null values \n",
    "dataset = dataset.drop_duplicates().dropna()\n",
    "\n",
    "# Drop unrecorded weather type\n",
    "dataset = dataset[dataset.Type != 3]\n",
    "\n",
    "# Check shape \n",
    "dataset.shape"
   ]
  },
  {
   "cell_type": "markdown",
   "metadata": {},
   "source": [
    "## 1. Conceptual questions (2.5 Marks)\n",
    "---\n",
    "This section covers **5** exercises on conceptual understanding of neural networks."
   ]
  },
  {
   "cell_type": "markdown",
   "metadata": {},
   "source": [
    "#### 1. Which are the most used activation functions and why do we (typically) need non-linear activation functions in neural networks? (0.5 mark)"
   ]
  },
  {
   "cell_type": "markdown",
   "metadata": {},
   "source": [
    "The most used activation functions are: \n",
    "* Sigmoid\n",
    "* ReLU\n",
    "* Softmax\n",
    "* tanh"
   ]
  },
  {
   "cell_type": "markdown",
   "metadata": {},
   "source": [
    "Activation functions in neural networks are generally non-linear to more precisely represent decision boundaries(in feature space) of the mapping from input features to required targets. ie. so that the decision boundary is non-linear to better model the distribution of data.\n",
    "Linear functions also defeat the purpose of multiple hidden layers in a neural network as compounding linear functions can only result in another linear function.\n",
    "Backpropagation is not possible for linear activation functions, which is a key feature for neural networks."
   ]
  },
  {
   "cell_type": "markdown",
   "metadata": {},
   "source": [
    "#### 2. Why do we need deep neural networks and which are the main differences between deep and shallow learning? (0.5 Mark)"
   ]
  },
  {
   "cell_type": "markdown",
   "metadata": {},
   "source": [
    "Deep neural networks are needed as they are able to abstract the features of the input and to understand the contribution of those features in the outputs, and makes predictions based on these. While older learning algorithms reach a plateau of efficiency in performace vs the amount of data, theoretically a deep learning algorithm can infinitely learn more about a system given more and more data."
   ]
  },
  {
   "cell_type": "markdown",
   "metadata": {},
   "source": [
    "Deep Learning | Shallow Learning\n",
    ":--------------:|:-----------------:\n",
    "Can effectively utilise high-dimensional data | Cannot utilise features of high-dimensional data\n",
    "Network learns relevant features for the problem | Manual selection of features\n",
    "Can do selection of best subset of features and deep combination simultaneously | Need to manually select features and then use simple algorithms to get output"
   ]
  },
  {
   "cell_type": "markdown",
   "metadata": {},
   "source": [
    "#### 3. Discuss the Bias-variance trade-off and its relation to underfitting and overfitting of a model. Which are the caractheristics of an ideal model?  (0.5 mark)"
   ]
  },
  {
   "cell_type": "markdown",
   "metadata": {},
   "source": [
    "The bias-variance trade-off is an essential concept in understanding how well predictive learning models are working. It is the idea of measuring how well the model is able to predict targets from the data used to train it vs how well it can predict new targets given unseen inpuut data.\n",
    "\n",
    "An ideal model would have both low variance and low bias, ie. it is able to reproduce the training targets as well as able to predict targets for new data equally well.\n",
    "\n",
    "In practice this is very difficult to achieve and more often than not, models give underfitting or overfitting:\n",
    "+ Underfitting: high bias, low variance, ie. the model does not predict much of anything and is very highly swayed by small variation in input features.\n",
    "+ Overfitting: low bias, high variance, ie. the model is very heavily leaning towards the training data, and is not able to effectively model decision boundaries, particularly with outliers."
   ]
  },
  {
   "cell_type": "markdown",
   "metadata": {},
   "source": [
    "#### 4. Given a neural network with 4 input nodes, 2 layers with 5 nodes each, and 1 output node, what is the total number of free (trainable) parameters in the network? Does it matter which activation function(s) are used?  (0.5 mark)\n",
    "\n",
    "61 training parameters: 25 in the first hidden layer, 30 in the second, 6 for the output\n",
    "(the below was run after importing keras functions later).\n",
    "\n",
    "This is independent of the activation function used.\n",
    "\n"
   ]
  },
  {
   "cell_type": "code",
   "execution_count": 7,
   "metadata": {},
   "outputs": [
    {
     "data": {
      "text/plain": [
       "\"\\nac= 'softmax'\\ninput = Input(shape = (4,))\\nl1 = Dense(5, activation = ac)(input)\\nl2 = Dense(5, activation = ac)(l1)\\noutput = Dense(1,activation = ac)(l2)\\nmodel = Model(input, output)\\nmodel.compile('adam', loss = 'mean_squared_error')\\nmodel.summary()\\n\""
      ]
     },
     "execution_count": 7,
     "metadata": {},
     "output_type": "execute_result"
    }
   ],
   "source": [
    "'''\n",
    "ac= 'softmax'\n",
    "input = Input(shape = (4,))\n",
    "l1 = Dense(5, activation = ac)(input)\n",
    "l2 = Dense(5, activation = ac)(l1)\n",
    "output = Dense(1,activation = ac)(l2)\n",
    "model = Model(input, output)\n",
    "model.compile('adam', loss = 'mean_squared_error')\n",
    "model.summary()\n",
    "'''"
   ]
  },
  {
   "cell_type": "markdown",
   "metadata": {},
   "source": [
    "#### 5. What are appropriate choice for _(a)_ the number of output nodes and _(b)_ output activation function(s) for each of the following tasks, and why? (0.5 mark)"
   ]
  },
  {
   "cell_type": "markdown",
   "metadata": {},
   "source": [
    "1. Regression of the $x$, $y$, and $z$ coordinates of a single particle in an arbitrary coordinate system\n",
    "\n",
    "Ans. 3, for the three coordinations; ReLU, since the coordinate system is arbitrary, and the problem is of regression.\n",
    "\n",
    "2. Regression of particle energy of a single particle\n",
    "\n",
    "Ans. 1, for the energy; ReLU, good for regression of non-negative quantities such as energy\n",
    "\n",
    "3. Classification of two processes (signal vs. background)\n",
    "\n",
    "Ans. 1, since binary decision; Sigmoid, as it is a binary classification\n",
    "\n",
    "4. Classification among *N* classes (dog vs. cat vs. fish vs. ...)\n",
    "\n",
    "Ans. 1, if the classes are mutually exclusive, however if it is possible to be from multiple of the *N* classes, then N; Softmax, multiclass classification problem"
   ]
  },
  {
   "cell_type": "markdown",
   "metadata": {},
   "source": [
    "## 2. Data preprocessing and RTs (2.5 mark)\n",
    "---\n",
    "This section covers **4** exercises on data preparation, feature standardisation, and dataset splitting."
   ]
  },
  {
   "cell_type": "code",
   "execution_count": 8,
   "metadata": {},
   "outputs": [],
   "source": [
    "# Relevant import(s) for this section\n",
    "from sklearn import tree\n",
    "from sklearn.tree import DecisionTreeClassifier, plot_tree\n",
    "from sklearn.tree import export_graphviz\n",
    "from sklearn.model_selection import train_test_split # Import train_test_split function\n",
    "from sklearn import metrics # Import scikit-learn metrics module for accuracy calculation\n",
    "from sklearn import preprocessing # Import preprocessing for String-Int conversion\n",
    "from sklearn.compose import ColumnTransformer\n",
    "from sklearn.preprocessing import OneHotEncoder, StandardScaler, MinMaxScaler\n",
    "from sklearn.model_selection import train_test_split"
   ]
  },
  {
   "cell_type": "markdown",
   "metadata": {},
   "source": [
    "---\n",
    "**_Comment on target format and one-hot encoding:_** By default, the target column (`Type`) contains one integer (0, 1, or 2) for each example, the integer specifying one of three possible types of weather. However, for doing multi-class classification (which this is), we want our neural network to have one output node per class (_i.e._ 3 output nodes in this case), such that the activation of each output node is interpreted as the likelihood for a given sample being of the type in question. Therefore, the target should also be a 3-element vector for each sample; this vector should be all zeros, except for a $1$ at the index corresponding to the type in question. This is called **one-hot encoding**, and a few examples are shown below:\n",
    "\n",
    "- type = 0 $\\to$ one-hot = $[1, 0, 0]$ for 3 classes\n",
    "- type = 1 $\\to$ one-hot = $[0, 1, 0]$ for 3 classes\n",
    "- type = 2 $\\to$ one-hot = $[0, 0, 1]$ for 3 classes\n",
    "\n",
    "This is the target towards which a neural network classifier is trained: That is, ideally, for an example of type 0, the network will output a large activation ($\\approx 1$) on the first output node (interpreted as a large likelihood for the first weather type), and very small activations ($\\ll 1$) on the two other output nodes (intepreted as small likelihoods for the two other weather types); and so on.\n",
    "\n",
    "The same type of one-hot encoding can be performed for any number of target classes $N_{c}$, which just results in $N_{c}$-element target vectors with a single non-zero entry each.\n",
    "\n",
    "To be user friendly, however, `scikit-learn` allows us to use integer targets for multi-class classification — it does the one-hot encoding for us \"under the hood.\" Similarly, `keras`, _can_ also allow us to use integer targets for multi-class classification, provided we use the appropropriate loss (`sparse_categorical_crossentropy`). Otherwise (if we use `categorical_crossentropy` loss), it expects one-hot encoded targets. Which approach you choose is up to you — but now you know what goes on.\n",
    "\n",
    "---"
   ]
  },
  {
   "cell_type": "markdown",
   "metadata": {},
   "source": [
    "#### 6. Prepare the feature and target arrays (0.5 mark)\n",
    "- Randomly sample **3,500** observations per weather type (**10,500** observations in total) from `dataset` into a new `pandas.DataFrame`; call it `sample`.\n",
    "- One-hot encode the **wind direction** variable (_i.e._ $N$ to $[1, 0, \\ldots, 0]$, $NNE$ to $[0, 1, \\ldots, 0]$, _etc._ ), to allow us to input it to the neural network. The exact order of the encoding (_i.e._ which direction corresponds to which index) doesn't matter. *Hint:*\n",
    "  - *Either:* Use the scikit-learn `ColumnTransformer` with the `OneHotEncoder` applied to the `WindDirection` column, and let the remainder of the features pass through un-transformed.\n",
    "  - *Or:* Use the `OneHotEncoder` class directly on the `WindDirection` column (use `sparse=False` in the `OneHotEncoder` constructor), and then concatenate with a `numpy.array` containing the remaining features.\n",
    "- Define `numpy.arrays` named `X` and `y` containing the training features (the 7 unmodified ones plus the one-hot encoded wind directions) and target, respectively.\n",
    "- Argue whether the shapes of `X` and `y` are as expected/as they should be."
   ]
  },
  {
   "cell_type": "code",
   "execution_count": 9,
   "metadata": {},
   "outputs": [
    {
     "name": "stdout",
     "output_type": "stream",
     "text": [
      "[0 1 1 ... 2 1 0]\n",
      "(3500,)\n",
      "[[ 54.501   255.       13.9     ...   0.        0.        0.     ]\n",
      " [ 57.725   265.       11.7     ...   0.        0.        0.     ]\n",
      " [ 53.12755 298.       16.1     ...   0.        0.        0.     ]\n",
      " ...\n",
      " [ 52.949    21.       15.3     ...   0.        0.        0.     ]\n",
      " [ 53.259    77.       12.      ...   0.        0.        0.     ]\n",
      " [ 56.497     9.       15.5     ...   0.        0.        0.     ]]\n",
      "(3500, 23)\n"
     ]
    }
   ],
   "source": [
    "sample = dataset.sample(3500).copy()\n",
    "sample.describe()\n",
    "\n",
    "#Saving targets\n",
    "y = sample['Type'].to_numpy()\n",
    "sampletemp = sample.drop('Type',axis = 1).copy()\n",
    "\n",
    "#Transforming Wind Direction with Column Transformer\n",
    "trans = ColumnTransformer(transformers=[('WindDirection', OneHotEncoder(),[7])])\n",
    "\n",
    "\n",
    "#Getting the one-hot encoded values\n",
    "train_type = trans.fit_transform(sample)\n",
    "sampletemp = sampletemp.drop('WindDirection', axis = 1)\n",
    "\n",
    "#Creating X with training features\n",
    "X= np.append(sampletemp.to_numpy(),train_type.A,axis = 1)\n",
    "\n",
    "\n",
    "print(y)\n",
    "print(y.shape)\n",
    "\n",
    "print(X)\n",
    "print(X.shape)"
   ]
  },
  {
   "cell_type": "markdown",
   "metadata": {},
   "source": [
    "The shapes of X(3500x23) and y(3500x) are as expected. X contains the 3500 observations for 7 features and one-hot encoded wind direction for 16 different directions, totalling 23 columns. y contains the 1 Type output value."
   ]
  },
  {
   "cell_type": "markdown",
   "metadata": {},
   "source": [
    "#### 7. Train a Random Forest and evaluate the performance (1 mark)\n",
    "\n",
    "Decision trees work well with a mixture of features (of different scales, and bot binary and continuos), so we will train a random forest to do the job of categorisation.\n",
    "\n",
    "You are given the train test split:"
   ]
  },
  {
   "cell_type": "code",
   "execution_count": 10,
   "metadata": {},
   "outputs": [
    {
     "name": "stdout",
     "output_type": "stream",
     "text": [
      "(2450, 23) (1050, 23)\n"
     ]
    }
   ],
   "source": [
    "#Import random fosets and confusion matrix metric\n",
    "from sklearn.ensemble import RandomForestClassifier\n",
    "from sklearn.metrics import confusion_matrix\n",
    "\n",
    "# split dataset into training set and test set\n",
    "x_train, x_test, y_train, y_test = train_test_split(X, y, test_size=0.3, random_state=1) # 70% training and 30% test\n",
    "print(x_train.shape,x_test.shape)"
   ]
  },
  {
   "cell_type": "markdown",
   "metadata": {},
   "source": [
    "1. Train a RandomForestClassifier with 1000 estimators, `gini` seperation criteria, and max depth 4.\n",
    "2. Check the overal accuaracy on the testing set"
   ]
  },
  {
   "cell_type": "code",
   "execution_count": 11,
   "metadata": {},
   "outputs": [
    {
     "name": "stdout",
     "output_type": "stream",
     "text": [
      "Training set accuracy =  0.7673469387755102\n",
      "Testing set accuracy =  0.76\n"
     ]
    }
   ],
   "source": [
    "rfc = RandomForestClassifier(n_estimators=1000, criterion = 'gini', max_depth=4)\n",
    "rfc.fit(x_train, y_train)\n",
    "\n",
    "predtrain = rfc.predict(x_train)\n",
    "predtest = rfc.predict(x_test)\n",
    "\n",
    "print('Training set accuracy = ',np.count_nonzero(y_train==predtrain)/x_train.shape[0])\n",
    "print('Testing set accuracy = ',np.count_nonzero(y_test==predtest)/x_test.shape[0])"
   ]
  },
  {
   "cell_type": "markdown",
   "metadata": {},
   "source": [
    "3. Use the confusion_matrix method to return the confusion matrix normalised over the true lables, i.e. sum over rows should sum to 100%. Use the given colormap to plot the confusion matrix in a heatmap.\n",
    "    - Define the axis tick names to represent Clear, Cloudy or Precip\n",
    "    - Use suitable x and y axis labels\n",
    "    \n",
    "4. What are the true positive rates for clear, cloudy and perp? What is the probability that rain is forcast given that the day is clear?\n",
    "5. Which features does the random forest deem the most important?"
   ]
  },
  {
   "cell_type": "code",
   "execution_count": 12,
   "metadata": {},
   "outputs": [
    {
     "name": "stdout",
     "output_type": "stream",
     "text": [
      "[[0.53693182 0.46306818 0.        ]\n",
      " [0.06307692 0.93692308 0.        ]\n",
      " [0.         1.         0.        ]]\n"
     ]
    },
    {
     "data": {
      "text/plain": [
       "<AxesSubplot:>"
      ]
     },
     "execution_count": 12,
     "metadata": {},
     "output_type": "execute_result"
    },
    {
     "data": {
      "image/png": "[encoded data removed]",
      "text/plain": [
       "<Figure size 432x288 with 2 Axes>"
      ]
     },
     "metadata": {
      "needs_background": "light"
     },
     "output_type": "display_data"
    }
   ],
   "source": [
    "cm = confusion_matrix(y_test, predtest, normalize = 'true')\n",
    "print(cm)\n",
    "sns.heatmap(cm, xticklabels = ['Clear','Cloudy','Precip'], yticklabels = ['Clear','Cloudy','Precip'],annot = True)"
   ]
  },
  {
   "cell_type": "markdown",
   "metadata": {},
   "source": [
    "True Positives: 0.54, 0.94, 0 respectively for Clear, Cloudy, Precip\n",
    "\n",
    "Clear Day, rain forecast = 0.0 %\n"
   ]
  },
  {
   "cell_type": "code",
   "execution_count": 13,
   "metadata": {},
   "outputs": [
    {
     "name": "stdout",
     "output_type": "stream",
     "text": [
      "[0.04701251 0.02024071 0.14814418 0.11602611 0.064543   0.36485694\n",
      " 0.15634321 0.0059376  0.00399139 0.00718063 0.0018997  0.00441068\n",
      " 0.00061084 0.00151381 0.00361648 0.00275327 0.00058307 0.00056936\n",
      " 0.00820998 0.01440267 0.003979   0.00202899 0.02114587]\n",
      "Latitude \t 0.047012512658362975\n",
      "Elevation \t 0.020240705415222483\n",
      "Temperature \t 0.1481441757400583\n",
      "Visibility \t 0.11602610552325428\n",
      "WindSpeed \t 0.0645430030110477\n",
      "Pressure \t 0.3648569409899646\n",
      "Humidity \t 0.156343206721397\n"
     ]
    }
   ],
   "source": [
    "print(rfc.feature_importances_)\n",
    "for i in range(len(sampletemp.columns)):\n",
    "    print(sampletemp.columns[i],'\\t',rfc.feature_importances_[i])"
   ]
  },
  {
   "cell_type": "markdown",
   "metadata": {},
   "source": [
    "First 7 importance values are for the original unmodified feature inputs. Importance values for the one-hot encoded wind directions are smaller than these. The classifier considers the most important features as:\n",
    "+ Pressure\n",
    "+ Humidity\n",
    "+ Temperature\n",
    "+ Visibility"
   ]
  },
  {
   "cell_type": "code",
   "execution_count": 14,
   "metadata": {},
   "outputs": [],
   "source": [
    "# Given plotting example for feature importance\n",
    "#plt.barh(range(23), rfc.feature_importances_)\n",
    "#plt.yticks(range(23), list(range(16))+features[:-1])"
   ]
  },
  {
   "cell_type": "markdown",
   "metadata": {},
   "source": [
    "#### 8. Standardise the relevant features (0.5 mark)\n",
    "\n",
    "_Note:_ You shouldn't standardise the one-hot encoded wind directions; they already have the desired format. Perform a sanity check to make sure that the resulting features have the expected distributional properties (mean and standard deviation; or minimum and maximum value).\n",
    "- Hint:\n",
    "\n",
    "    - Use the scikit-learn `StandardScaler`\n",
    "    - Or use the scikit-learn `MinMaxScaler`\n",
    "\n",
    "- Perform a sanity check to make sure that the resulting features have the expected distributional properties (mean and standard deviation; or minimum and maximum value).\n",
    "    - The number of columns should match, and depending on the choice of standardisation, the last 7 columns should either have:\n",
    "      - (Using `StandardScaler`) means = 0 and standard deviations = 1; or\n",
    "      - (Using `MinMaxScaler`) min = 0, max = 1"
   ]
  },
  {
   "cell_type": "code",
   "execution_count": 15,
   "metadata": {},
   "outputs": [],
   "source": [
    "scaledvals = StandardScaler()\n",
    "scaledvals = scaledvals.fit_transform(X[:,:7])\n",
    "\n",
    "Xscaled = np.append(scaledvals,X[:,7:],axis = 1)\n"
   ]
  },
  {
   "cell_type": "markdown",
   "metadata": {},
   "source": [
    "#### 9. Split the dataset into a training and a testing part (0.5)\n",
    "\n",
    "Reserve **30%** of data for testing. Check whether the resulting arrays have the expected shapes."
   ]
  },
  {
   "cell_type": "code",
   "execution_count": 16,
   "metadata": {},
   "outputs": [
    {
     "name": "stdout",
     "output_type": "stream",
     "text": [
      "Train:  (2450, 23) (1050, 23)\n",
      "Test:  (2450,) (1050,)\n"
     ]
    }
   ],
   "source": [
    "x_train, x_test, y_train, y_test = train_test_split(Xscaled, y, test_size=0.3, random_state=1) # 70% training and 30% test\n",
    "print('Train: ', x_train.shape,x_test.shape)\n",
    "print('Test: ', y_train.shape,y_test.shape)"
   ]
  },
  {
   "cell_type": "markdown",
   "metadata": {},
   "source": [
    "## 3. Neural networks in `scikit-learn` (1.5 mark)\n",
    "---\n",
    "This section covers **2** exercises on constructing and training neural networks using the `scikit-learn` library, as well as evaluating neural network performance. `scikit-learn` provide many, very easy to use ML algorithms, including neural networks. These are called `MLPClassifier` (MLP = multi-layer perceptron; a historic name for densely connected, feed-forward neural networks) when used for classification, and `MLPRegressor` when used for regression. We will focus on the former for now."
   ]
  },
  {
   "cell_type": "code",
   "execution_count": 17,
   "metadata": {},
   "outputs": [],
   "source": [
    "# Relevant import(s) for this section\n",
    "from sklearn.neural_network import MLPClassifier\n"
   ]
  },
  {
   "cell_type": "markdown",
   "metadata": {},
   "source": [
    "#### 10. Construct and train a neural network  (1 mark)\n",
    "\n",
    "- Create an `MLPClassifier` which\n",
    "    - has **1 hidden layer of 50 neurons** \n",
    "    - has **no regularization term**\n",
    "    - trains for a maximum of **100 epochs** \n",
    "    - uses a batch size of **32**\n",
    "- Fit the classifier using the standard `.fit()` member method.\n",
    "- Plot the loss function value as a function of number of epochs (0.5 of mark).\n",
    "  You can access the loss history through the `.loss_curve_` attribute of the `MLPClassifier` instance. "
   ]
  },
  {
   "cell_type": "code",
   "execution_count": 18,
   "metadata": {},
   "outputs": [
    {
     "data": {
      "text/plain": [
       "Text(0.5, 1.0, 'Epoch vs. Loss')"
      ]
     },
     "execution_count": 18,
     "metadata": {},
     "output_type": "execute_result"
    },
    {
     "data": {
      "image/png": "[encoded data removed]",
      "text/plain": [
       "<Figure size 432x288 with 1 Axes>"
      ]
     },
     "metadata": {
      "needs_background": "light"
     },
     "output_type": "display_data"
    }
   ],
   "source": [
    "mlp = MLPClassifier(hidden_layer_sizes = (50,), batch_size = 32,max_iter = 100, alpha = 0.0 )\n",
    "mlp.fit(x_train, y_train)\n",
    "\n",
    "epochs = list(range(1,101))\n",
    "loss = mlp.loss_curve_\n",
    "\n",
    "plt.cla()\n",
    "plt.plot(epochs, loss)\n",
    "plt.xlabel('Epoch')\n",
    "plt.ylabel('Loss')\n",
    "plt.title('Epoch vs. Loss')"
   ]
  },
  {
   "cell_type": "code",
   "execution_count": 1,
   "metadata": {},
   "outputs": [
    {
     "name": "stdout",
     "output_type": "stream",
     "text": [
      "Object `MLPClassifier` not found.\n"
     ]
    }
   ],
   "source": []
  },
  {
   "cell_type": "markdown",
   "metadata": {},
   "source": [
    "#### 11. Performance evaluation (0.5 mark)\n",
    "\n",
    "- Using the testing dataset: \n",
    "    - Compute the overall accuracy for the classifier using the `MLPClassifier`'s `.score()` member method for both testing and training datasets.\n",
    "    - Compute the confusion matrix (normalised in true labels), and plot it \n",
    "- Discuss the results"
   ]
  },
  {
   "cell_type": "code",
   "execution_count": 19,
   "metadata": {},
   "outputs": [
    {
     "name": "stdout",
     "output_type": "stream",
     "text": [
      "Train score:  0.8028571428571428\n",
      "Test score:  0.7514285714285714\n"
     ]
    }
   ],
   "source": [
    "print('Train score: ',mlp.score(x_train, y_train))\n",
    "print('Test score: ',mlp.score(x_test,y_test))"
   ]
  },
  {
   "cell_type": "code",
   "execution_count": 20,
   "metadata": {},
   "outputs": [
    {
     "data": {
      "text/plain": [
       "<AxesSubplot:>"
      ]
     },
     "execution_count": 20,
     "metadata": {},
     "output_type": "execute_result"
    },
    {
     "data": {
      "image/png": "[encoded data removed]",
      "text/plain": [
       "<Figure size 432x288 with 2 Axes>"
      ]
     },
     "metadata": {
      "needs_background": "light"
     },
     "output_type": "display_data"
    }
   ],
   "source": [
    "cm = confusion_matrix(y_test, mlp.predict(x_test),normalize='true')\n",
    "sns.heatmap(cm,xticklabels = ['Clear','Cloudy','Precip'], yticklabels = ['Clear','Cloudy','Precip'],annot = True)"
   ]
  },
  {
   "cell_type": "markdown",
   "metadata": {},
   "source": [
    "The training and test scores are both very high with the test score slightly lower than training score. This indicates the model is being very slightly overfitted but it's still within reasonable limits\n",
    "\n",
    "The confusion matrix shows that the model does very well in identifying(forecasting) cloudy and precip weather types but has more difficulty with clear weather."
   ]
  },
  {
   "cell_type": "markdown",
   "metadata": {},
   "source": [
    "## 4. Neural networks in `Keras` (2 marks)\n",
    "---\n",
    "This section covers **2** exercises on constructing and training neural networks using the `Keras` library. `scikit-learn` is very easy to use, but libraries like `Keras` provide a lot more flexibility, which is why we will be using these extensively in the last two units of the _'Data science tools and machine learning'_ track."
   ]
  },
  {
   "cell_type": "code",
   "execution_count": 21,
   "metadata": {},
   "outputs": [],
   "source": [
    "# Relevant import(s) for this section\n",
    "from tensorflow.python.keras.models import Model\n",
    "from tensorflow.python.keras.layers import Input, Dense"
   ]
  },
  {
   "cell_type": "markdown",
   "metadata": {},
   "source": [
    "#### 12. Construct a neural network in `Keras` (1 mark)\n",
    "\n",
    "- Create a `keras.Model` using the **Keras functional API**. The network should have:\n",
    "    - An input layer with the same number of nodes as the number of features in `X`.\n",
    "    - A single, densely connected hidden layer with **50 nodes** equipped with **ReLU activation**.\n",
    "    - A densely connected output layer with **3 nodes** (the number of types of weather we're classifying) equipped with **softmax activation**.\n",
    "- Compile the model the using the **Adam optimiser**, add `'accuracy'` as metric, and use either:\n",
    "    - `categorical_crossentropy` loss, if you have one-hot encoded the targets `y`, or\n",
    "    - `sparse_categorical_crossentropy` loss if you hare using integer-valued targets.\n",
    "- Use the `.summary()` member method to print an overview of the model you have created, explain the output."
   ]
  },
  {
   "cell_type": "code",
   "execution_count": 22,
   "metadata": {},
   "outputs": [
    {
     "name": "stdout",
     "output_type": "stream",
     "text": [
      "WARNING:tensorflow:From C:\\Users\\Sahaj Porwal\\anaconda3\\envs\\daml\\lib\\site-packages\\tensorflow\\python\\ops\\init_ops.py:1251: calling VarianceScaling.__init__ (from tensorflow.python.ops.init_ops) with dtype is deprecated and will be removed in a future version.\n",
      "Instructions for updating:\n",
      "Call initializer instance with the dtype argument instead of passing it to the constructor\n"
     ]
    }
   ],
   "source": [
    "#Creating the layers on the NN\n",
    "input = Input(shape = (Xscaled.shape[1],))\n",
    "layer = Dense(50, activation = 'relu')(input)\n",
    "output = Dense(3, activation = 'softmax')(layer)\n",
    "model = Model(input, output)\n"
   ]
  },
  {
   "cell_type": "code",
   "execution_count": 23,
   "metadata": {},
   "outputs": [
    {
     "name": "stdout",
     "output_type": "stream",
     "text": [
      "Model: \"model\"\n",
      "_________________________________________________________________\n",
      "Layer (type)                 Output Shape              Param #   \n",
      "=================================================================\n",
      "input_1 (InputLayer)         [(None, 23)]              0         \n",
      "_________________________________________________________________\n",
      "dense (Dense)                (None, 50)                1200      \n",
      "_________________________________________________________________\n",
      "dense_1 (Dense)              (None, 3)                 153       \n",
      "=================================================================\n",
      "Total params: 1,353\n",
      "Trainable params: 1,353\n",
      "Non-trainable params: 0\n",
      "_________________________________________________________________\n"
     ]
    }
   ],
   "source": [
    "model.compile('adam', loss = 'sparse_categorical_crossentropy')\n",
    "model.summary()"
   ]
  },
  {
   "cell_type": "markdown",
   "metadata": {},
   "source": [
    "The output of the summary() method shows the layers created, the format of output of each layer into the next layer, and the number of trainable parameters of each layer."
   ]
  },
  {
   "cell_type": "markdown",
   "metadata": {},
   "source": [
    "#### 13. Train a `Keras` neural network (1 mark)\n",
    "\n",
    "- Use the `.fit()` member method to train the network on the **training dataset** for **100 epochs** with a **batch size of 32**. Use **20% of the data for validation** and make sure to have `Keras` **shuffle** the training data between epochs. Save the fit history by doing `history_mld = .....`\n",
    "- Print the classification accuracy using the `.evaluate()` member method, for both the training and testing dataset. Comment on the results.\n",
    "- Plot val_loss and loss functions from the fit history. On the same plot, plot the sklearn curve from the excercise above. Note the sklearn NN does not provide a complementary validation loss history, so only plot the training loss.\n",
    "- Comment on the results of the overall accuracy compared to the scikit-learn method."
   ]
  },
  {
   "cell_type": "code",
   "execution_count": 24,
   "metadata": {},
   "outputs": [
    {
     "name": "stdout",
     "output_type": "stream",
     "text": [
      "Train on 1960 samples, validate on 490 samples\n",
      "Epoch 1/100\n",
      "1960/1960 [==============================] - 0s 113us/sample - loss: 0.8420 - val_loss: 0.7023\n",
      "Epoch 2/100\n",
      "1960/1960 [==============================] - 0s 38us/sample - loss: 0.6882 - val_loss: 0.6414\n",
      "Epoch 3/100\n",
      "1960/1960 [==============================] - 0s 36us/sample - loss: 0.6441 - val_loss: 0.6164\n",
      "Epoch 4/100\n",
      "1960/1960 [==============================] - 0s 39us/sample - loss: 0.6201 - val_loss: 0.6030\n",
      "Epoch 5/100\n",
      "1960/1960 [==============================] - 0s 36us/sample - loss: 0.6031 - val_loss: 0.5954\n",
      "Epoch 6/100\n",
      "1960/1960 [==============================] - 0s 32us/sample - loss: 0.5921 - val_loss: 0.5892\n",
      "Epoch 7/100\n",
      "1960/1960 [==============================] - 0s 29us/sample - loss: 0.5806 - val_loss: 0.5842\n",
      "Epoch 8/100\n",
      "1960/1960 [==============================] - 0s 26us/sample - loss: 0.5739 - val_loss: 0.5811\n",
      "Epoch 9/100\n",
      "1960/1960 [==============================] - 0s 38us/sample - loss: 0.5670 - val_loss: 0.5785\n",
      "Epoch 10/100\n",
      "1960/1960 [==============================] - 0s 34us/sample - loss: 0.5609 - val_loss: 0.5761\n",
      "Epoch 11/100\n",
      "1960/1960 [==============================] - 0s 34us/sample - loss: 0.5573 - val_loss: 0.5748\n",
      "Epoch 12/100\n",
      "1960/1960 [==============================] - 0s 34us/sample - loss: 0.5523 - val_loss: 0.5743\n",
      "Epoch 13/100\n",
      "1960/1960 [==============================] - 0s 37us/sample - loss: 0.5488 - val_loss: 0.5714\n",
      "Epoch 14/100\n",
      "1960/1960 [==============================] - 0s 29us/sample - loss: 0.5447 - val_loss: 0.5726\n",
      "Epoch 15/100\n",
      "1960/1960 [==============================] - 0s 26us/sample - loss: 0.5414 - val_loss: 0.5715\n",
      "Epoch 16/100\n",
      "1960/1960 [==============================] - 0s 37us/sample - loss: 0.5385 - val_loss: 0.5694\n",
      "Epoch 17/100\n",
      "1960/1960 [==============================] - 0s 37us/sample - loss: 0.5359 - val_loss: 0.5702\n",
      "Epoch 18/100\n",
      "1960/1960 [==============================] - 0s 35us/sample - loss: 0.5326 - val_loss: 0.5707\n",
      "Epoch 19/100\n",
      "1960/1960 [==============================] - 0s 27us/sample - loss: 0.5311 - val_loss: 0.5728\n",
      "Epoch 20/100\n",
      "1960/1960 [==============================] - 0s 34us/sample - loss: 0.5285 - val_loss: 0.5696\n",
      "Epoch 21/100\n",
      "1960/1960 [==============================] - 0s 37us/sample - loss: 0.5262 - val_loss: 0.5710\n",
      "Epoch 22/100\n",
      "1960/1960 [==============================] - 0s 32us/sample - loss: 0.5235 - val_loss: 0.5693\n",
      "Epoch 23/100\n",
      "1960/1960 [==============================] - 0s 35us/sample - loss: 0.5221 - val_loss: 0.5708\n",
      "Epoch 24/100\n",
      "1960/1960 [==============================] - 0s 51us/sample - loss: 0.5191 - val_loss: 0.5700\n",
      "Epoch 25/100\n",
      "1960/1960 [==============================] - 0s 34us/sample - loss: 0.5177 - val_loss: 0.5715\n",
      "Epoch 26/100\n",
      "1960/1960 [==============================] - 0s 36us/sample - loss: 0.5151 - val_loss: 0.5736\n",
      "Epoch 27/100\n",
      "1960/1960 [==============================] - 0s 37us/sample - loss: 0.5136 - val_loss: 0.5728\n",
      "Epoch 28/100\n",
      "1960/1960 [==============================] - 0s 31us/sample - loss: 0.5129 - val_loss: 0.5720\n",
      "Epoch 29/100\n",
      "1960/1960 [==============================] - 0s 36us/sample - loss: 0.5109 - val_loss: 0.5723\n",
      "Epoch 30/100\n",
      "1960/1960 [==============================] - 0s 30us/sample - loss: 0.5098 - val_loss: 0.5752\n",
      "Epoch 31/100\n",
      "1960/1960 [==============================] - 0s 30us/sample - loss: 0.5086 - val_loss: 0.5718\n",
      "Epoch 32/100\n",
      "1960/1960 [==============================] - 0s 34us/sample - loss: 0.5063 - val_loss: 0.5724\n",
      "Epoch 33/100\n",
      "1960/1960 [==============================] - 0s 38us/sample - loss: 0.5043 - val_loss: 0.5745\n",
      "Epoch 34/100\n",
      "1960/1960 [==============================] - 0s 39us/sample - loss: 0.5023 - val_loss: 0.5745\n",
      "Epoch 35/100\n",
      "1960/1960 [==============================] - 0s 36us/sample - loss: 0.5017 - val_loss: 0.5741\n",
      "Epoch 36/100\n",
      "1960/1960 [==============================] - 0s 45us/sample - loss: 0.4997 - val_loss: 0.5745\n",
      "Epoch 37/100\n",
      "1960/1960 [==============================] - 0s 30us/sample - loss: 0.4984 - val_loss: 0.5772\n",
      "Epoch 38/100\n",
      "1960/1960 [==============================] - 0s 37us/sample - loss: 0.4966 - val_loss: 0.5753\n",
      "Epoch 39/100\n",
      "1960/1960 [==============================] - 0s 30us/sample - loss: 0.4956 - val_loss: 0.5758\n",
      "Epoch 40/100\n",
      "1960/1960 [==============================] - 0s 39us/sample - loss: 0.4937 - val_loss: 0.5769\n",
      "Epoch 41/100\n",
      "1960/1960 [==============================] - 0s 36us/sample - loss: 0.4938 - val_loss: 0.5772\n",
      "Epoch 42/100\n",
      "1960/1960 [==============================] - 0s 35us/sample - loss: 0.4912 - val_loss: 0.5797\n",
      "Epoch 43/100\n",
      "1960/1960 [==============================] - 0s 37us/sample - loss: 0.4896 - val_loss: 0.5794\n",
      "Epoch 44/100\n",
      "1960/1960 [==============================] - 0s 34us/sample - loss: 0.4885 - val_loss: 0.5791\n",
      "Epoch 45/100\n",
      "1960/1960 [==============================] - 0s 35us/sample - loss: 0.4879 - val_loss: 0.5797\n",
      "Epoch 46/100\n",
      "1960/1960 [==============================] - 0s 42us/sample - loss: 0.4865 - val_loss: 0.5840\n",
      "Epoch 47/100\n",
      "1960/1960 [==============================] - 0s 36us/sample - loss: 0.4864 - val_loss: 0.5829\n",
      "Epoch 48/100\n",
      "1960/1960 [==============================] - 0s 30us/sample - loss: 0.4835 - val_loss: 0.5833\n",
      "Epoch 49/100\n",
      "1960/1960 [==============================] - 0s 27us/sample - loss: 0.4819 - val_loss: 0.5822\n",
      "Epoch 50/100\n",
      "1960/1960 [==============================] - 0s 29us/sample - loss: 0.4809 - val_loss: 0.5868\n",
      "Epoch 51/100\n",
      "1960/1960 [==============================] - 0s 27us/sample - loss: 0.4806 - val_loss: 0.5849\n",
      "Epoch 52/100\n",
      "1960/1960 [==============================] - 0s 28us/sample - loss: 0.4803 - val_loss: 0.5836\n",
      "Epoch 53/100\n",
      "1960/1960 [==============================] - 0s 52us/sample - loss: 0.4811 - val_loss: 0.5852\n",
      "Epoch 54/100\n",
      "1960/1960 [==============================] - 0s 38us/sample - loss: 0.4776 - val_loss: 0.5879\n",
      "Epoch 55/100\n",
      "1960/1960 [==============================] - 0s 40us/sample - loss: 0.4759 - val_loss: 0.5859\n",
      "Epoch 56/100\n",
      "1960/1960 [==============================] - 0s 36us/sample - loss: 0.4760 - val_loss: 0.5871\n",
      "Epoch 57/100\n",
      "1960/1960 [==============================] - 0s 38us/sample - loss: 0.4754 - val_loss: 0.5878\n",
      "Epoch 58/100\n",
      "1960/1960 [==============================] - 0s 40us/sample - loss: 0.4738 - val_loss: 0.5899\n",
      "Epoch 59/100\n",
      "1960/1960 [==============================] - 0s 38us/sample - loss: 0.4726 - val_loss: 0.5914\n",
      "Epoch 60/100\n",
      "1960/1960 [==============================] - 0s 38us/sample - loss: 0.4714 - val_loss: 0.5904\n",
      "Epoch 61/100\n",
      "1960/1960 [==============================] - 0s 40us/sample - loss: 0.4719 - val_loss: 0.5914\n",
      "Epoch 62/100\n",
      "1960/1960 [==============================] - 0s 39us/sample - loss: 0.4678 - val_loss: 0.5906\n",
      "Epoch 63/100\n",
      "1960/1960 [==============================] - 0s 42us/sample - loss: 0.4670 - val_loss: 0.5922\n",
      "Epoch 64/100\n",
      "1960/1960 [==============================] - 0s 40us/sample - loss: 0.4688 - val_loss: 0.5935\n",
      "Epoch 65/100\n",
      "1960/1960 [==============================] - 0s 42us/sample - loss: 0.4673 - val_loss: 0.5923\n",
      "Epoch 66/100\n",
      "1960/1960 [==============================] - 0s 46us/sample - loss: 0.4653 - val_loss: 0.5941\n",
      "Epoch 67/100\n",
      "1960/1960 [==============================] - 0s 40us/sample - loss: 0.4651 - val_loss: 0.5930\n",
      "Epoch 68/100\n",
      "1960/1960 [==============================] - 0s 36us/sample - loss: 0.4632 - val_loss: 0.5965\n",
      "Epoch 69/100\n",
      "1960/1960 [==============================] - 0s 39us/sample - loss: 0.4630 - val_loss: 0.5955\n",
      "Epoch 70/100\n",
      "1960/1960 [==============================] - 0s 41us/sample - loss: 0.4602 - val_loss: 0.5965\n",
      "Epoch 71/100\n",
      "1960/1960 [==============================] - 0s 41us/sample - loss: 0.4614 - val_loss: 0.5964\n",
      "Epoch 72/100\n",
      "1960/1960 [==============================] - 0s 37us/sample - loss: 0.4596 - val_loss: 0.5974\n",
      "Epoch 73/100\n",
      "1960/1960 [==============================] - 0s 39us/sample - loss: 0.4581 - val_loss: 0.5985\n",
      "Epoch 74/100\n",
      "1960/1960 [==============================] - 0s 40us/sample - loss: 0.4571 - val_loss: 0.5991\n",
      "Epoch 75/100\n",
      "1960/1960 [==============================] - 0s 40us/sample - loss: 0.4556 - val_loss: 0.6009\n",
      "Epoch 76/100\n",
      "1960/1960 [==============================] - 0s 37us/sample - loss: 0.4570 - val_loss: 0.6014\n",
      "Epoch 77/100\n",
      "1960/1960 [==============================] - 0s 34us/sample - loss: 0.4553 - val_loss: 0.6012\n",
      "Epoch 78/100\n",
      "1960/1960 [==============================] - 0s 53us/sample - loss: 0.4531 - val_loss: 0.6008\n",
      "Epoch 79/100\n",
      "1960/1960 [==============================] - 0s 40us/sample - loss: 0.4521 - val_loss: 0.6067\n",
      "Epoch 80/100\n",
      "1960/1960 [==============================] - 0s 37us/sample - loss: 0.4523 - val_loss: 0.6030\n",
      "Epoch 81/100\n",
      "1960/1960 [==============================] - 0s 39us/sample - loss: 0.4514 - val_loss: 0.6035\n",
      "Epoch 82/100\n",
      "1960/1960 [==============================] - 0s 43us/sample - loss: 0.4513 - val_loss: 0.6036\n",
      "Epoch 83/100\n",
      "1960/1960 [==============================] - 0s 39us/sample - loss: 0.4478 - val_loss: 0.6065\n",
      "Epoch 84/100\n",
      "1960/1960 [==============================] - 0s 37us/sample - loss: 0.4495 - val_loss: 0.6047\n",
      "Epoch 85/100\n",
      "1960/1960 [==============================] - 0s 40us/sample - loss: 0.4482 - val_loss: 0.6047\n",
      "Epoch 86/100\n",
      "1960/1960 [==============================] - 0s 42us/sample - loss: 0.4467 - val_loss: 0.6063\n",
      "Epoch 87/100\n",
      "1960/1960 [==============================] - 0s 40us/sample - loss: 0.4459 - val_loss: 0.6064\n",
      "Epoch 88/100\n",
      "1960/1960 [==============================] - 0s 38us/sample - loss: 0.4446 - val_loss: 0.6082\n",
      "Epoch 89/100\n",
      "1960/1960 [==============================] - 0s 40us/sample - loss: 0.4438 - val_loss: 0.6075\n",
      "Epoch 90/100\n",
      "1960/1960 [==============================] - 0s 51us/sample - loss: 0.4437 - val_loss: 0.6122\n",
      "Epoch 91/100\n",
      "1960/1960 [==============================] - 0s 47us/sample - loss: 0.4421 - val_loss: 0.6095\n",
      "Epoch 92/100\n",
      "1960/1960 [==============================] - 0s 38us/sample - loss: 0.4426 - val_loss: 0.6131\n",
      "Epoch 93/100\n",
      "1960/1960 [==============================] - 0s 40us/sample - loss: 0.4403 - val_loss: 0.6131\n",
      "Epoch 94/100\n",
      "1960/1960 [==============================] - 0s 41us/sample - loss: 0.4406 - val_loss: 0.6140\n",
      "Epoch 95/100\n",
      "1960/1960 [==============================] - 0s 35us/sample - loss: 0.4387 - val_loss: 0.6141\n",
      "Epoch 96/100\n",
      "1960/1960 [==============================] - 0s 36us/sample - loss: 0.4379 - val_loss: 0.6139\n",
      "Epoch 97/100\n",
      "1960/1960 [==============================] - 0s 38us/sample - loss: 0.4378 - val_loss: 0.6134\n",
      "Epoch 98/100\n",
      "1960/1960 [==============================] - 0s 37us/sample - loss: 0.4385 - val_loss: 0.6167\n",
      "Epoch 99/100\n",
      "1960/1960 [==============================] - 0s 39us/sample - loss: 0.4366 - val_loss: 0.6162\n",
      "Epoch 100/100\n",
      "1960/1960 [==============================] - 0s 38us/sample - loss: 0.4353 - val_loss: 0.6172\n"
     ]
    }
   ],
   "source": [
    "history_mld = model.fit(x_train, y_train, epochs = 100, batch_size = 32, shuffle = True, validation_split = 0.2)"
   ]
  },
  {
   "cell_type": "code",
   "execution_count": 25,
   "metadata": {},
   "outputs": [
    {
     "name": "stdout",
     "output_type": "stream",
     "text": [
      "dict_keys(['loss', 'val_loss'])\n"
     ]
    }
   ],
   "source": [
    "print(history_mld.history.keys())"
   ]
  },
  {
   "cell_type": "code",
   "execution_count": 26,
   "metadata": {},
   "outputs": [
    {
     "name": "stdout",
     "output_type": "stream",
     "text": [
      "2450/2450 [==============================] - 0s 18us/sample - loss: 0.4655\n",
      "Train accuracy:  0.4655000370375964\n",
      "1050/1050 [==============================] - 0s 23us/sample - loss: 0.6280\n",
      "Test accuracy:  0.627973785627456\n"
     ]
    }
   ],
   "source": [
    "print('Train accuracy: ', model.evaluate(x_train,y_train))\n",
    "print('Test accuracy: ', model.evaluate(x_test,y_test))"
   ]
  },
  {
   "cell_type": "markdown",
   "metadata": {},
   "source": [
    "The training accuracy is much lower than the testing accuracy, which is fairly high."
   ]
  },
  {
   "cell_type": "code",
   "execution_count": 27,
   "metadata": {},
   "outputs": [
    {
     "data": {
      "text/plain": [
       "<matplotlib.legend.Legend at 0x273b2f85e08>"
      ]
     },
     "execution_count": 27,
     "metadata": {},
     "output_type": "execute_result"
    },
    {
     "data": {
      "image/png": "[encoded data removed]",
      "text/plain": [
       "<Figure size 432x288 with 1 Axes>"
      ]
     },
     "metadata": {
      "needs_background": "light"
     },
     "output_type": "display_data"
    }
   ],
   "source": [
    "keras_train_loss = history_mld.history['loss']\n",
    "keras_val_loss = history_mld.history['val_loss']\n",
    "scikit_train_loss = loss\n",
    "\n",
    "plt.plot(keras_train_loss, label = 'Keras Training Loss', c = 'blue')\n",
    "plt.plot(keras_val_loss,label = 'Keras Validation Loss', c = 'g')\n",
    "plt.plot(scikit_train_loss, label = 'Scikit Training Loss', c = 'r')\n",
    "plt.xlabel('Epochs')\n",
    "plt.ylabel('Loss')\n",
    "plt.legend()\n"
   ]
  },
  {
   "cell_type": "markdown",
   "metadata": {},
   "source": [
    "Both training losses are minimized with increasing epochs, however the validation loss increases after a certain epoch which shows that training should be stopped after a certain number of epochs, for best validation performance"
   ]
  },
  {
   "cell_type": "markdown",
   "metadata": {},
   "source": [
    "## 5. Regularisation (1.5 marks)\n",
    "---\n",
    "This section covers **2** exercises on the impact of weight regularisaton. Note that $L_{1}$- and $L_{2}$-regularisation may also be applied to the activation of intermediate layers. Also, a similar regularising effect could be achieved using **dropout** regularisation, which you are encouraged to try out, but which we won't study in this CP exercise."
   ]
  },
  {
   "cell_type": "code",
   "execution_count": 28,
   "metadata": {},
   "outputs": [],
   "source": [
    "# Relevant import(s) for this section\n",
    "from tensorflow.python.keras.regularizers import l1_l2"
   ]
  },
  {
   "cell_type": "markdown",
   "metadata": {},
   "source": [
    "#### 14. Define `Keras` model factory method (0.5 mark)\n",
    "\n",
    "- Define a python function called `big_model_fn` which takes the followng three arguments:\n",
    "    - `l1`: A float specifying the $L_{1}$ regularisation factor (default value: 0)\n",
    "    - `l2`: A float specifying the $L_{2}$ regularisation factor (default value: 0)\n",
    "    - `name`: A string, specifying the name of the model (default value: None)\n",
    "- Indside the function, you should:\n",
    "    - Construct a `Keras` model using the functional API, which has:\n",
    "        - An input layer with the same number of nodes as the number of features in `X`.\n",
    "        - **Two** densely connected hidden layer with **100 nodes** each, both equipped with **ReLU activation**.\n",
    "        - Both hidden layers should be subject to kernel regularisation (_i.e._ weight regularisation) with the regularisation factors specified as an input.\n",
    "        - A densely connected output layer with **3 nodes** (the number of types of weather we're classifying) equipped with **softmax activation**.\n",
    "        - A name given by the corresponding argument.\n",
    "    - Compile the model in the same way as in **Exercise 14.**\n",
    "- The function should return the compiled `Keras` model. \n",
    "\n",
    "The method will provide a convenient way of constructing and compiling a number of \"big\"/deep `Keras` models which differ only by their regularisation and name."
   ]
  },
  {
   "cell_type": "code",
   "execution_count": 29,
   "metadata": {},
   "outputs": [],
   "source": [
    "def big_model_fn(l1 = 0.,l2 = 0.,name = None):\n",
    "    input = Input(shape = (Xscaled.shape[1],))\n",
    "    layer1 = Dense(100, activation = 'relu', kernel_regularizer = l1_l2(l1 = l1, l2 = l2))(input)\n",
    "    layer2 = Dense(100, activation = 'relu', kernel_regularizer = l1_l2(l1 = l1, l2 = l2))(layer1)\n",
    "    output = Dense(3, activation = 'softmax')(layer2)\n",
    "    model = Model(input, output,name = name)\n",
    "    return model"
   ]
  },
  {
   "cell_type": "markdown",
   "metadata": {},
   "source": [
    "#### 15. Train \"big\" models with and without regularisation (1 mark)\n",
    "\n",
    "- Construct three \"big\" model using the factory method:\n",
    "     - One with default parameters\n",
    "     - One with `l1=0.0003` and  `name='Big model (L1-regularised)'`\n",
    "     - One with `l2=0.003`  and `name='Big model (L2-regularised)'`\n",
    "- Train each one as in **Exercise 15.**\n",
    "- Compare first the loss history of the un-regularised \"big\" model to that of the small model from **Exercise 15** using the `plot.loss()` method.\n",
    "- Then, compare the loss histories of all three \"big\" models with that of the small model.\n",
    "- Plot the loss and val loss of all 4 models and discuss the results. Target these points:\n",
    "    - Compare the performance of deep vs shallow models on the testing sets\n",
    "    - Compare the level of ovetraining (training vs testing loss)\n",
    "    - Note: Don't be alarmed if the shallow network performs slightly better that the deeper ones, this is dataset dependant."
   ]
  },
  {
   "cell_type": "code",
   "execution_count": 30,
   "metadata": {},
   "outputs": [
    {
     "name": "stdout",
     "output_type": "stream",
     "text": [
      "Model: \"model_1\"\n",
      "_________________________________________________________________\n",
      "Layer (type)                 Output Shape              Param #   \n",
      "=================================================================\n",
      "input_2 (InputLayer)         [(None, 23)]              0         \n",
      "_________________________________________________________________\n",
      "dense_2 (Dense)              (None, 100)               2400      \n",
      "_________________________________________________________________\n",
      "dense_3 (Dense)              (None, 100)               10100     \n",
      "_________________________________________________________________\n",
      "dense_4 (Dense)              (None, 3)                 303       \n",
      "=================================================================\n",
      "Total params: 12,803\n",
      "Trainable params: 12,803\n",
      "Non-trainable params: 0\n",
      "_________________________________________________________________\n"
     ]
    }
   ],
   "source": [
    "#default\n",
    "mod1 = big_model_fn()\n",
    "mod1.compile('adam', loss = 'sparse_categorical_crossentropy')\n",
    "mod1.summary()"
   ]
  },
  {
   "cell_type": "code",
   "execution_count": 31,
   "metadata": {},
   "outputs": [
    {
     "name": "stdout",
     "output_type": "stream",
     "text": [
      "Train on 1960 samples, validate on 490 samples\n",
      "Epoch 1/100\n",
      "1960/1960 [==============================] - 0s 127us/sample - loss: 0.7386 - val_loss: 0.6233\n",
      "Epoch 2/100\n",
      "1960/1960 [==============================] - 0s 42us/sample - loss: 0.6105 - val_loss: 0.5877\n",
      "Epoch 3/100\n",
      "1960/1960 [==============================] - 0s 39us/sample - loss: 0.5813 - val_loss: 0.5791\n",
      "Epoch 4/100\n",
      "1960/1960 [==============================] - 0s 37us/sample - loss: 0.5629 - val_loss: 0.5642\n",
      "Epoch 5/100\n",
      "1960/1960 [==============================] - 0s 37us/sample - loss: 0.5518 - val_loss: 0.5655\n",
      "Epoch 6/100\n",
      "1960/1960 [==============================] - 0s 36us/sample - loss: 0.5352 - val_loss: 0.5634\n",
      "Epoch 7/100\n",
      "1960/1960 [==============================] - 0s 39us/sample - loss: 0.5283 - val_loss: 0.5611\n",
      "Epoch 8/100\n",
      "1960/1960 [==============================] - 0s 45us/sample - loss: 0.5153 - val_loss: 0.5583\n",
      "Epoch 9/100\n",
      "1960/1960 [==============================] - 0s 44us/sample - loss: 0.5068 - val_loss: 0.5637\n",
      "Epoch 10/100\n",
      "1960/1960 [==============================] - 0s 41us/sample - loss: 0.5010 - val_loss: 0.5555\n",
      "Epoch 11/100\n",
      "1960/1960 [==============================] - 0s 38us/sample - loss: 0.4945 - val_loss: 0.5630\n",
      "Epoch 12/100\n",
      "1960/1960 [==============================] - 0s 37us/sample - loss: 0.4815 - val_loss: 0.5621\n",
      "Epoch 13/100\n",
      "1960/1960 [==============================] - 0s 37us/sample - loss: 0.4767 - val_loss: 0.5668\n",
      "Epoch 14/100\n",
      "1960/1960 [==============================] - 0s 55us/sample - loss: 0.4631 - val_loss: 0.5612\n",
      "Epoch 15/100\n",
      "1960/1960 [==============================] - 0s 42us/sample - loss: 0.4590 - val_loss: 0.5772\n",
      "Epoch 16/100\n",
      "1960/1960 [==============================] - 0s 42us/sample - loss: 0.4482 - val_loss: 0.5726\n",
      "Epoch 17/100\n",
      "1960/1960 [==============================] - 0s 42us/sample - loss: 0.4395 - val_loss: 0.5674\n",
      "Epoch 18/100\n",
      "1960/1960 [==============================] - 0s 41us/sample - loss: 0.4286 - val_loss: 0.5754\n",
      "Epoch 19/100\n",
      "1960/1960 [==============================] - 0s 39us/sample - loss: 0.4219 - val_loss: 0.5910\n",
      "Epoch 20/100\n",
      "1960/1960 [==============================] - 0s 55us/sample - loss: 0.4134 - val_loss: 0.5849\n",
      "Epoch 21/100\n",
      "1960/1960 [==============================] - 0s 50us/sample - loss: 0.4056 - val_loss: 0.5855\n",
      "Epoch 22/100\n",
      "1960/1960 [==============================] - 0s 49us/sample - loss: 0.3916 - val_loss: 0.5992\n",
      "Epoch 23/100\n",
      "1960/1960 [==============================] - 0s 48us/sample - loss: 0.3922 - val_loss: 0.5874\n",
      "Epoch 24/100\n",
      "1960/1960 [==============================] - 0s 42us/sample - loss: 0.3807 - val_loss: 0.6051\n",
      "Epoch 25/100\n",
      "1960/1960 [==============================] - 0s 44us/sample - loss: 0.3694 - val_loss: 0.6102\n",
      "Epoch 26/100\n",
      "1960/1960 [==============================] - 0s 38us/sample - loss: 0.3635 - val_loss: 0.6094\n",
      "Epoch 27/100\n",
      "1960/1960 [==============================] - 0s 46us/sample - loss: 0.3506 - val_loss: 0.6056\n",
      "Epoch 28/100\n",
      "1960/1960 [==============================] - 0s 43us/sample - loss: 0.3424 - val_loss: 0.6138\n",
      "Epoch 29/100\n",
      "1960/1960 [==============================] - 0s 42us/sample - loss: 0.3336 - val_loss: 0.6344\n",
      "Epoch 30/100\n",
      "1960/1960 [==============================] - 0s 53us/sample - loss: 0.3285 - val_loss: 0.6378\n",
      "Epoch 31/100\n",
      "1960/1960 [==============================] - 0s 48us/sample - loss: 0.3164 - val_loss: 0.6517\n",
      "Epoch 32/100\n",
      "1960/1960 [==============================] - 0s 47us/sample - loss: 0.3160 - val_loss: 0.6539\n",
      "Epoch 33/100\n",
      "1960/1960 [==============================] - 0s 35us/sample - loss: 0.3078 - val_loss: 0.6622\n",
      "Epoch 34/100\n",
      "1960/1960 [==============================] - 0s 38us/sample - loss: 0.2984 - val_loss: 0.6706\n",
      "Epoch 35/100\n",
      "1960/1960 [==============================] - 0s 36us/sample - loss: 0.2883 - val_loss: 0.6775\n",
      "Epoch 36/100\n",
      "1960/1960 [==============================] - 0s 36us/sample - loss: 0.2926 - val_loss: 0.6575\n",
      "Epoch 37/100\n",
      "1960/1960 [==============================] - 0s 58us/sample - loss: 0.2779 - val_loss: 0.7007\n",
      "Epoch 38/100\n",
      "1960/1960 [==============================] - 0s 56us/sample - loss: 0.2731 - val_loss: 0.6948\n",
      "Epoch 39/100\n",
      "1960/1960 [==============================] - 0s 54us/sample - loss: 0.2634 - val_loss: 0.6777\n",
      "Epoch 40/100\n",
      "1960/1960 [==============================] - 0s 50us/sample - loss: 0.2524 - val_loss: 0.6894\n",
      "Epoch 41/100\n",
      "1960/1960 [==============================] - 0s 42us/sample - loss: 0.2470 - val_loss: 0.7185\n",
      "Epoch 42/100\n",
      "1960/1960 [==============================] - 0s 39us/sample - loss: 0.2410 - val_loss: 0.7137\n",
      "Epoch 43/100\n",
      "1960/1960 [==============================] - 0s 35us/sample - loss: 0.2352 - val_loss: 0.7218\n",
      "Epoch 44/100\n",
      "1960/1960 [==============================] - 0s 35us/sample - loss: 0.2279 - val_loss: 0.7387\n",
      "Epoch 45/100\n",
      "1960/1960 [==============================] - 0s 34us/sample - loss: 0.2222 - val_loss: 0.7418\n",
      "Epoch 46/100\n",
      "1960/1960 [==============================] - 0s 37us/sample - loss: 0.2120 - val_loss: 0.7458\n",
      "Epoch 47/100\n",
      "1960/1960 [==============================] - 0s 35us/sample - loss: 0.2072 - val_loss: 0.7633\n",
      "Epoch 48/100\n",
      "1960/1960 [==============================] - 0s 35us/sample - loss: 0.2032 - val_loss: 0.7529\n",
      "Epoch 49/100\n",
      "1960/1960 [==============================] - 0s 48us/sample - loss: 0.1981 - val_loss: 0.7577\n",
      "Epoch 50/100\n",
      "1960/1960 [==============================] - 0s 54us/sample - loss: 0.1966 - val_loss: 0.7942\n",
      "Epoch 51/100\n",
      "1960/1960 [==============================] - 0s 49us/sample - loss: 0.1859 - val_loss: 0.7744\n",
      "Epoch 52/100\n",
      "1960/1960 [==============================] - 0s 53us/sample - loss: 0.1835 - val_loss: 0.7827\n",
      "Epoch 53/100\n",
      "1960/1960 [==============================] - 0s 55us/sample - loss: 0.1788 - val_loss: 0.7987\n",
      "Epoch 54/100\n",
      "1960/1960 [==============================] - 0s 52us/sample - loss: 0.1685 - val_loss: 0.8002\n",
      "Epoch 55/100\n",
      "1960/1960 [==============================] - 0s 58us/sample - loss: 0.1656 - val_loss: 0.8112\n",
      "Epoch 56/100\n",
      "1960/1960 [==============================] - 0s 53us/sample - loss: 0.1594 - val_loss: 0.8399\n",
      "Epoch 57/100\n",
      "1960/1960 [==============================] - 0s 56us/sample - loss: 0.1534 - val_loss: 0.8413\n",
      "Epoch 58/100\n",
      "1960/1960 [==============================] - 0s 41us/sample - loss: 0.1544 - val_loss: 0.8574\n",
      "Epoch 59/100\n",
      "1960/1960 [==============================] - 0s 43us/sample - loss: 0.1462 - val_loss: 0.8603\n",
      "Epoch 60/100\n",
      "1960/1960 [==============================] - 0s 35us/sample - loss: 0.1467 - val_loss: 0.8603\n",
      "Epoch 61/100\n",
      "1960/1960 [==============================] - 0s 37us/sample - loss: 0.1378 - val_loss: 0.8837\n",
      "Epoch 62/100\n",
      "1960/1960 [==============================] - 0s 35us/sample - loss: 0.1364 - val_loss: 0.8778\n",
      "Epoch 63/100\n",
      "1960/1960 [==============================] - 0s 34us/sample - loss: 0.1272 - val_loss: 0.8813\n",
      "Epoch 64/100\n",
      "1960/1960 [==============================] - 0s 35us/sample - loss: 0.1272 - val_loss: 0.9112\n",
      "Epoch 65/100\n",
      "1960/1960 [==============================] - 0s 31us/sample - loss: 0.1277 - val_loss: 0.8883\n",
      "Epoch 66/100\n",
      "1960/1960 [==============================] - 0s 33us/sample - loss: 0.1166 - val_loss: 0.9094\n",
      "Epoch 67/100\n",
      "1960/1960 [==============================] - 0s 32us/sample - loss: 0.1139 - val_loss: 0.9436\n",
      "Epoch 68/100\n",
      "1960/1960 [==============================] - 0s 35us/sample - loss: 0.1182 - val_loss: 0.9302\n",
      "Epoch 69/100\n",
      "1960/1960 [==============================] - 0s 34us/sample - loss: 0.1084 - val_loss: 0.9467\n",
      "Epoch 70/100\n",
      "1960/1960 [==============================] - 0s 31us/sample - loss: 0.1089 - val_loss: 0.9387\n",
      "Epoch 71/100\n",
      "1960/1960 [==============================] - 0s 32us/sample - loss: 0.1028 - val_loss: 0.9786\n",
      "Epoch 72/100\n",
      "1960/1960 [==============================] - 0s 33us/sample - loss: 0.0973 - val_loss: 0.9633\n",
      "Epoch 73/100\n",
      "1960/1960 [==============================] - 0s 42us/sample - loss: 0.1001 - val_loss: 1.0463\n",
      "Epoch 74/100\n",
      "1960/1960 [==============================] - 0s 35us/sample - loss: 0.0955 - val_loss: 0.9888\n",
      "Epoch 75/100\n",
      "1960/1960 [==============================] - 0s 34us/sample - loss: 0.0904 - val_loss: 1.0336\n",
      "Epoch 76/100\n",
      "1960/1960 [==============================] - 0s 33us/sample - loss: 0.0872 - val_loss: 1.0286\n",
      "Epoch 77/100\n",
      "1960/1960 [==============================] - 0s 34us/sample - loss: 0.0817 - val_loss: 1.0263\n",
      "Epoch 78/100\n",
      "1960/1960 [==============================] - 0s 33us/sample - loss: 0.0835 - val_loss: 1.0182\n",
      "Epoch 79/100\n",
      "1960/1960 [==============================] - 0s 29us/sample - loss: 0.0819 - val_loss: 1.0628\n",
      "Epoch 80/100\n",
      "1960/1960 [==============================] - 0s 29us/sample - loss: 0.0754 - val_loss: 1.1058\n",
      "Epoch 81/100\n",
      "1960/1960 [==============================] - 0s 33us/sample - loss: 0.0717 - val_loss: 1.1100\n",
      "Epoch 82/100\n",
      "1960/1960 [==============================] - 0s 33us/sample - loss: 0.0730 - val_loss: 1.0921\n",
      "Epoch 83/100\n",
      "1960/1960 [==============================] - 0s 35us/sample - loss: 0.0728 - val_loss: 1.0587\n",
      "Epoch 84/100\n",
      "1960/1960 [==============================] - 0s 33us/sample - loss: 0.0677 - val_loss: 1.1370\n",
      "Epoch 85/100\n",
      "1960/1960 [==============================] - 0s 30us/sample - loss: 0.0702 - val_loss: 1.1129\n",
      "Epoch 86/100\n",
      "1960/1960 [==============================] - 0s 41us/sample - loss: 0.0688 - val_loss: 1.1432\n",
      "Epoch 87/100\n",
      "1960/1960 [==============================] - 0s 42us/sample - loss: 0.0685 - val_loss: 1.1905\n",
      "Epoch 88/100\n",
      "1960/1960 [==============================] - 0s 47us/sample - loss: 0.0687 - val_loss: 1.2674\n",
      "Epoch 89/100\n",
      "1960/1960 [==============================] - 0s 49us/sample - loss: 0.0658 - val_loss: 1.2054\n",
      "Epoch 90/100\n",
      "1960/1960 [==============================] - 0s 42us/sample - loss: 0.0602 - val_loss: 1.1604\n",
      "Epoch 91/100\n",
      "1960/1960 [==============================] - 0s 33us/sample - loss: 0.0564 - val_loss: 1.1736\n",
      "Epoch 92/100\n",
      "1960/1960 [==============================] - 0s 40us/sample - loss: 0.0622 - val_loss: 1.1834\n",
      "Epoch 93/100\n",
      "1960/1960 [==============================] - 0s 35us/sample - loss: 0.0565 - val_loss: 1.2064\n",
      "Epoch 94/100\n",
      "1960/1960 [==============================] - 0s 33us/sample - loss: 0.0510 - val_loss: 1.2039\n",
      "Epoch 95/100\n",
      "1960/1960 [==============================] - 0s 47us/sample - loss: 0.0506 - val_loss: 1.2225\n",
      "Epoch 96/100\n",
      "1960/1960 [==============================] - 0s 56us/sample - loss: 0.0482 - val_loss: 1.2991\n",
      "Epoch 97/100\n",
      "1960/1960 [==============================] - 0s 52us/sample - loss: 0.0523 - val_loss: 1.2086\n",
      "Epoch 98/100\n",
      "1960/1960 [==============================] - 0s 55us/sample - loss: 0.0496 - val_loss: 1.2839\n",
      "Epoch 99/100\n",
      "1960/1960 [==============================] - 0s 68us/sample - loss: 0.0409 - val_loss: 1.2511\n",
      "Epoch 100/100\n",
      "1960/1960 [==============================] - 0s 34us/sample - loss: 0.0406 - val_loss: 1.2984\n"
     ]
    }
   ],
   "source": [
    "hist1 = mod1.fit(x_train, y_train, epochs = 100, batch_size = 32, shuffle = True, validation_split = 0.2)"
   ]
  },
  {
   "cell_type": "code",
   "execution_count": 32,
   "metadata": {},
   "outputs": [
    {
     "name": "stdout",
     "output_type": "stream",
     "text": [
      "Model: \"Big model (L1-regularised)\"\n",
      "_________________________________________________________________\n",
      "Layer (type)                 Output Shape              Param #   \n",
      "=================================================================\n",
      "input_3 (InputLayer)         [(None, 23)]              0         \n",
      "_________________________________________________________________\n",
      "dense_5 (Dense)              (None, 100)               2400      \n",
      "_________________________________________________________________\n",
      "dense_6 (Dense)              (None, 100)               10100     \n",
      "_________________________________________________________________\n",
      "dense_7 (Dense)              (None, 3)                 303       \n",
      "=================================================================\n",
      "Total params: 12,803\n",
      "Trainable params: 12,803\n",
      "Non-trainable params: 0\n",
      "_________________________________________________________________\n"
     ]
    }
   ],
   "source": [
    "#l1 = 0.0003\n",
    "mod2 = big_model_fn(l1 = 0.0003,name='Big model (L1-regularised)')\n",
    "mod2.compile('adam', loss = 'sparse_categorical_crossentropy')\n",
    "mod2.summary()"
   ]
  },
  {
   "cell_type": "code",
   "execution_count": 33,
   "metadata": {},
   "outputs": [
    {
     "name": "stdout",
     "output_type": "stream",
     "text": [
      "Train on 1960 samples, validate on 490 samples\n",
      "Epoch 1/100\n",
      "1960/1960 [==============================] - 0s 131us/sample - loss: 1.0477 - val_loss: 0.9185\n",
      "Epoch 2/100\n",
      "1960/1960 [==============================] - 0s 38us/sample - loss: 0.8912 - val_loss: 0.8621\n",
      "Epoch 3/100\n",
      "1960/1960 [==============================] - 0s 37us/sample - loss: 0.8387 - val_loss: 0.8253\n",
      "Epoch 4/100\n",
      "1960/1960 [==============================] - 0s 44us/sample - loss: 0.8019 - val_loss: 0.8050\n",
      "Epoch 5/100\n",
      "1960/1960 [==============================] - 0s 39us/sample - loss: 0.7714 - val_loss: 0.7829\n",
      "Epoch 6/100\n",
      "1960/1960 [==============================] - 0s 36us/sample - loss: 0.7476 - val_loss: 0.7729\n",
      "Epoch 7/100\n",
      "1960/1960 [==============================] - 0s 38us/sample - loss: 0.7298 - val_loss: 0.7554\n",
      "Epoch 8/100\n",
      "1960/1960 [==============================] - 0s 37us/sample - loss: 0.7159 - val_loss: 0.7452\n",
      "Epoch 9/100\n",
      "1960/1960 [==============================] - 0s 38us/sample - loss: 0.7030 - val_loss: 0.7463\n",
      "Epoch 10/100\n",
      "1960/1960 [==============================] - 0s 40us/sample - loss: 0.6894 - val_loss: 0.7385\n",
      "Epoch 11/100\n",
      "1960/1960 [==============================] - 0s 38us/sample - loss: 0.6817 - val_loss: 0.7215\n",
      "Epoch 12/100\n",
      "1960/1960 [==============================] - 0s 39us/sample - loss: 0.6699 - val_loss: 0.7126\n",
      "Epoch 13/100\n",
      "1960/1960 [==============================] - 0s 37us/sample - loss: 0.6601 - val_loss: 0.7101\n",
      "Epoch 14/100\n",
      "1960/1960 [==============================] - 0s 37us/sample - loss: 0.6497 - val_loss: 0.7142\n",
      "Epoch 15/100\n",
      "1960/1960 [==============================] - 0s 38us/sample - loss: 0.6398 - val_loss: 0.6970\n",
      "Epoch 16/100\n",
      "1960/1960 [==============================] - 0s 43us/sample - loss: 0.6390 - val_loss: 0.6963\n",
      "Epoch 17/100\n",
      "1960/1960 [==============================] - 0s 47us/sample - loss: 0.6299 - val_loss: 0.6995\n",
      "Epoch 18/100\n",
      "1960/1960 [==============================] - 0s 38us/sample - loss: 0.6245 - val_loss: 0.6979\n",
      "Epoch 19/100\n",
      "1960/1960 [==============================] - 0s 39us/sample - loss: 0.6215 - val_loss: 0.7184\n",
      "Epoch 20/100\n",
      "1960/1960 [==============================] - 0s 46us/sample - loss: 0.6157 - val_loss: 0.6926\n",
      "Epoch 21/100\n",
      "1960/1960 [==============================] - 0s 46us/sample - loss: 0.6104 - val_loss: 0.6866\n",
      "Epoch 22/100\n",
      "1960/1960 [==============================] - 0s 40us/sample - loss: 0.6125 - val_loss: 0.7041\n",
      "Epoch 23/100\n",
      "1960/1960 [==============================] - 0s 55us/sample - loss: 0.6062 - val_loss: 0.6869\n",
      "Epoch 24/100\n",
      "1960/1960 [==============================] - 0s 55us/sample - loss: 0.5939 - val_loss: 0.6811\n",
      "Epoch 25/100\n",
      "1960/1960 [==============================] - 0s 61us/sample - loss: 0.5918 - val_loss: 0.6820\n",
      "Epoch 26/100\n",
      "1960/1960 [==============================] - 0s 60us/sample - loss: 0.5930 - val_loss: 0.6777\n",
      "Epoch 27/100\n",
      "1960/1960 [==============================] - 0s 69us/sample - loss: 0.5831 - val_loss: 0.6862\n",
      "Epoch 28/100\n",
      "1960/1960 [==============================] - 0s 43us/sample - loss: 0.5808 - val_loss: 0.6830\n",
      "Epoch 29/100\n",
      "1960/1960 [==============================] - 0s 37us/sample - loss: 0.5805 - val_loss: 0.6784\n",
      "Epoch 30/100\n",
      "1960/1960 [==============================] - 0s 36us/sample - loss: 0.5699 - val_loss: 0.7037\n",
      "Epoch 31/100\n",
      "1960/1960 [==============================] - 0s 46us/sample - loss: 0.5718 - val_loss: 0.6836\n",
      "Epoch 32/100\n",
      "1960/1960 [==============================] - 0s 52us/sample - loss: 0.5660 - val_loss: 0.6797\n",
      "Epoch 33/100\n",
      "1960/1960 [==============================] - 0s 45us/sample - loss: 0.5628 - val_loss: 0.6919\n",
      "Epoch 34/100\n",
      "1960/1960 [==============================] - 0s 53us/sample - loss: 0.5604 - val_loss: 0.6864\n",
      "Epoch 35/100\n",
      "1960/1960 [==============================] - 0s 53us/sample - loss: 0.5556 - val_loss: 0.6861\n",
      "Epoch 36/100\n",
      "1960/1960 [==============================] - 0s 41us/sample - loss: 0.5481 - val_loss: 0.6871\n",
      "Epoch 37/100\n",
      "1960/1960 [==============================] - 0s 47us/sample - loss: 0.5575 - val_loss: 0.7032\n",
      "Epoch 38/100\n",
      "1960/1960 [==============================] - 0s 55us/sample - loss: 0.5437 - val_loss: 0.6906\n",
      "Epoch 39/100\n",
      "1960/1960 [==============================] - 0s 42us/sample - loss: 0.5410 - val_loss: 0.6937\n",
      "Epoch 40/100\n",
      "1960/1960 [==============================] - 0s 45us/sample - loss: 0.5386 - val_loss: 0.6960\n",
      "Epoch 41/100\n",
      "1960/1960 [==============================] - 0s 40us/sample - loss: 0.5405 - val_loss: 0.6946\n",
      "Epoch 42/100\n",
      "1960/1960 [==============================] - 0s 50us/sample - loss: 0.5328 - val_loss: 0.7039\n",
      "Epoch 43/100\n",
      "1960/1960 [==============================] - 0s 44us/sample - loss: 0.5324 - val_loss: 0.7220\n",
      "Epoch 44/100\n",
      "1960/1960 [==============================] - 0s 48us/sample - loss: 0.5318 - val_loss: 0.7023\n",
      "Epoch 45/100\n",
      "1960/1960 [==============================] - 0s 45us/sample - loss: 0.5282 - val_loss: 0.7029\n",
      "Epoch 46/100\n",
      "1960/1960 [==============================] - 0s 49us/sample - loss: 0.5178 - val_loss: 0.6983\n",
      "Epoch 47/100\n",
      "1960/1960 [==============================] - 0s 42us/sample - loss: 0.5215 - val_loss: 0.7044\n",
      "Epoch 48/100\n",
      "1960/1960 [==============================] - 0s 45us/sample - loss: 0.5180 - val_loss: 0.6996\n",
      "Epoch 49/100\n",
      "1960/1960 [==============================] - 0s 57us/sample - loss: 0.5168 - val_loss: 0.7145\n",
      "Epoch 50/100\n",
      "1960/1960 [==============================] - 0s 38us/sample - loss: 0.5140 - val_loss: 0.7100\n",
      "Epoch 51/100\n",
      "1960/1960 [==============================] - 0s 43us/sample - loss: 0.5084 - val_loss: 0.7252\n",
      "Epoch 52/100\n",
      "1960/1960 [==============================] - 0s 42us/sample - loss: 0.5035 - val_loss: 0.7173\n",
      "Epoch 53/100\n",
      "1960/1960 [==============================] - 0s 38us/sample - loss: 0.5025 - val_loss: 0.7289\n",
      "Epoch 54/100\n",
      "1960/1960 [==============================] - 0s 35us/sample - loss: 0.4988 - val_loss: 0.7368\n",
      "Epoch 55/100\n",
      "1960/1960 [==============================] - 0s 35us/sample - loss: 0.4990 - val_loss: 0.7345\n",
      "Epoch 56/100\n",
      "1960/1960 [==============================] - 0s 41us/sample - loss: 0.5024 - val_loss: 0.7298\n",
      "Epoch 57/100\n",
      "1960/1960 [==============================] - 0s 38us/sample - loss: 0.4910 - val_loss: 0.7322\n",
      "Epoch 58/100\n",
      "1960/1960 [==============================] - 0s 37us/sample - loss: 0.4876 - val_loss: 0.7498\n",
      "Epoch 59/100\n",
      "1960/1960 [==============================] - 0s 34us/sample - loss: 0.4875 - val_loss: 0.7352\n",
      "Epoch 60/100\n",
      "1960/1960 [==============================] - ETA: 0s - loss: 0.501 - 0s 32us/sample - loss: 0.4833 - val_loss: 0.7540\n",
      "Epoch 61/100\n",
      "1960/1960 [==============================] - 0s 35us/sample - loss: 0.4841 - val_loss: 0.7564\n",
      "Epoch 62/100\n",
      "1960/1960 [==============================] - 0s 43us/sample - loss: 0.4884 - val_loss: 0.7453\n",
      "Epoch 63/100\n",
      "1960/1960 [==============================] - 0s 34us/sample - loss: 0.4875 - val_loss: 0.7479\n",
      "Epoch 64/100\n",
      "1960/1960 [==============================] - 0s 35us/sample - loss: 0.4713 - val_loss: 0.7442\n",
      "Epoch 65/100\n",
      "1960/1960 [==============================] - 0s 38us/sample - loss: 0.4694 - val_loss: 0.7634\n",
      "Epoch 66/100\n",
      "1960/1960 [==============================] - 0s 42us/sample - loss: 0.4655 - val_loss: 0.7625\n",
      "Epoch 67/100\n",
      "1960/1960 [==============================] - 0s 43us/sample - loss: 0.4682 - val_loss: 0.7705\n",
      "Epoch 68/100\n",
      "1960/1960 [==============================] - 0s 44us/sample - loss: 0.4636 - val_loss: 0.7777\n",
      "Epoch 69/100\n",
      "1960/1960 [==============================] - 0s 35us/sample - loss: 0.4690 - val_loss: 0.7518\n",
      "Epoch 70/100\n",
      "1960/1960 [==============================] - 0s 55us/sample - loss: 0.4617 - val_loss: 0.7874\n",
      "Epoch 71/100\n",
      "1960/1960 [==============================] - 0s 61us/sample - loss: 0.4579 - val_loss: 0.7747\n",
      "Epoch 72/100\n",
      "1960/1960 [==============================] - 0s 66us/sample - loss: 0.4514 - val_loss: 0.7747\n",
      "Epoch 73/100\n",
      "1960/1960 [==============================] - 0s 72us/sample - loss: 0.4587 - val_loss: 0.7739\n",
      "Epoch 74/100\n",
      "1960/1960 [==============================] - 0s 37us/sample - loss: 0.4572 - val_loss: 0.7956\n",
      "Epoch 75/100\n",
      "1960/1960 [==============================] - 0s 53us/sample - loss: 0.4548 - val_loss: 0.7940\n",
      "Epoch 76/100\n",
      "1960/1960 [==============================] - 0s 56us/sample - loss: 0.4549 - val_loss: 0.7837\n"
     ]
    },
    {
     "name": "stdout",
     "output_type": "stream",
     "text": [
      "Epoch 77/100\n",
      "1960/1960 [==============================] - 0s 53us/sample - loss: 0.4522 - val_loss: 0.7987\n",
      "Epoch 78/100\n",
      "1960/1960 [==============================] - 0s 52us/sample - loss: 0.4392 - val_loss: 0.7988\n",
      "Epoch 79/100\n",
      "1960/1960 [==============================] - 0s 49us/sample - loss: 0.4443 - val_loss: 0.7929\n",
      "Epoch 80/100\n",
      "1960/1960 [==============================] - 0s 46us/sample - loss: 0.4401 - val_loss: 0.7916\n",
      "Epoch 81/100\n",
      "1960/1960 [==============================] - 0s 42us/sample - loss: 0.4367 - val_loss: 0.8011\n",
      "Epoch 82/100\n",
      "1960/1960 [==============================] - 0s 39us/sample - loss: 0.4315 - val_loss: 0.7961\n",
      "Epoch 83/100\n",
      "1960/1960 [==============================] - 0s 45us/sample - loss: 0.4264 - val_loss: 0.8133\n",
      "Epoch 84/100\n",
      "1960/1960 [==============================] - 0s 40us/sample - loss: 0.4249 - val_loss: 0.8110\n",
      "Epoch 85/100\n",
      "1960/1960 [==============================] - 0s 37us/sample - loss: 0.4214 - val_loss: 0.8148\n",
      "Epoch 86/100\n",
      "1960/1960 [==============================] - 0s 37us/sample - loss: 0.4198 - val_loss: 0.8251\n",
      "Epoch 87/100\n",
      "1960/1960 [==============================] - 0s 36us/sample - loss: 0.4209 - val_loss: 0.8680\n",
      "Epoch 88/100\n",
      "1960/1960 [==============================] - 0s 41us/sample - loss: 0.4198 - val_loss: 0.8226\n",
      "Epoch 89/100\n",
      "1960/1960 [==============================] - 0s 38us/sample - loss: 0.4177 - val_loss: 0.8283\n",
      "Epoch 90/100\n",
      "1960/1960 [==============================] - 0s 37us/sample - loss: 0.4187 - val_loss: 0.8477\n",
      "Epoch 91/100\n",
      "1960/1960 [==============================] - 0s 41us/sample - loss: 0.4136 - val_loss: 0.8313\n",
      "Epoch 92/100\n",
      "1960/1960 [==============================] - 0s 42us/sample - loss: 0.4157 - val_loss: 0.8592\n",
      "Epoch 93/100\n",
      "1960/1960 [==============================] - 0s 39us/sample - loss: 0.4109 - val_loss: 0.8329\n",
      "Epoch 94/100\n",
      "1960/1960 [==============================] - 0s 38us/sample - loss: 0.4069 - val_loss: 0.8584\n",
      "Epoch 95/100\n",
      "1960/1960 [==============================] - 0s 39us/sample - loss: 0.4068 - val_loss: 0.8602\n",
      "Epoch 96/100\n",
      "1960/1960 [==============================] - 0s 53us/sample - loss: 0.4046 - val_loss: 0.8591\n",
      "Epoch 97/100\n",
      "1960/1960 [==============================] - 0s 39us/sample - loss: 0.4060 - val_loss: 0.8719\n",
      "Epoch 98/100\n",
      "1960/1960 [==============================] - 0s 39us/sample - loss: 0.4086 - val_loss: 0.8698\n",
      "Epoch 99/100\n",
      "1960/1960 [==============================] - 0s 38us/sample - loss: 0.3965 - val_loss: 0.8659\n",
      "Epoch 100/100\n",
      "1960/1960 [==============================] - 0s 38us/sample - loss: 0.3949 - val_loss: 0.8671\n"
     ]
    }
   ],
   "source": [
    "hist2 = mod2.fit(x_train, y_train, epochs = 100, batch_size = 32, shuffle = True, validation_split = 0.2)"
   ]
  },
  {
   "cell_type": "code",
   "execution_count": 34,
   "metadata": {},
   "outputs": [
    {
     "name": "stdout",
     "output_type": "stream",
     "text": [
      "Model: \"Big model (L2-regularised)\"\n",
      "_________________________________________________________________\n",
      "Layer (type)                 Output Shape              Param #   \n",
      "=================================================================\n",
      "input_4 (InputLayer)         [(None, 23)]              0         \n",
      "_________________________________________________________________\n",
      "dense_8 (Dense)              (None, 100)               2400      \n",
      "_________________________________________________________________\n",
      "dense_9 (Dense)              (None, 100)               10100     \n",
      "_________________________________________________________________\n",
      "dense_10 (Dense)             (None, 3)                 303       \n",
      "=================================================================\n",
      "Total params: 12,803\n",
      "Trainable params: 12,803\n",
      "Non-trainable params: 0\n",
      "_________________________________________________________________\n"
     ]
    }
   ],
   "source": [
    "#l2 = 0.003\n",
    "mod3 = big_model_fn(l2 = 0.003,name='Big model (L2-regularised)')\n",
    "mod3.compile('adam', loss = 'sparse_categorical_crossentropy')\n",
    "mod3.summary()"
   ]
  },
  {
   "cell_type": "code",
   "execution_count": 35,
   "metadata": {},
   "outputs": [
    {
     "name": "stdout",
     "output_type": "stream",
     "text": [
      "Train on 1960 samples, validate on 490 samples\n",
      "Epoch 1/100\n",
      "1960/1960 [==============================] - 0s 175us/sample - loss: 1.1101 - val_loss: 0.9400\n",
      "Epoch 2/100\n",
      "1960/1960 [==============================] - 0s 39us/sample - loss: 0.8952 - val_loss: 0.8528\n",
      "Epoch 3/100\n",
      "1960/1960 [==============================] - 0s 39us/sample - loss: 0.8107 - val_loss: 0.7786\n",
      "Epoch 4/100\n",
      "1960/1960 [==============================] - 0s 43us/sample - loss: 0.7549 - val_loss: 0.7512\n",
      "Epoch 5/100\n",
      "1960/1960 [==============================] - 0s 37us/sample - loss: 0.7255 - val_loss: 0.7193\n",
      "Epoch 6/100\n",
      "1960/1960 [==============================] - 0s 49us/sample - loss: 0.6931 - val_loss: 0.6985\n",
      "Epoch 7/100\n",
      "1960/1960 [==============================] - 0s 50us/sample - loss: 0.6742 - val_loss: 0.6890\n",
      "Epoch 8/100\n",
      "1960/1960 [==============================] - 0s 58us/sample - loss: 0.6576 - val_loss: 0.6766\n",
      "Epoch 9/100\n",
      "1960/1960 [==============================] - 0s 55us/sample - loss: 0.6429 - val_loss: 0.6642\n",
      "Epoch 10/100\n",
      "1960/1960 [==============================] - 0s 73us/sample - loss: 0.6324 - val_loss: 0.6514\n",
      "Epoch 11/100\n",
      "1960/1960 [==============================] - 0s 46us/sample - loss: 0.6269 - val_loss: 0.6557\n",
      "Epoch 12/100\n",
      "1960/1960 [==============================] - 0s 48us/sample - loss: 0.6166 - val_loss: 0.6536\n",
      "Epoch 13/100\n",
      "1960/1960 [==============================] - 0s 44us/sample - loss: 0.6101 - val_loss: 0.6445\n",
      "Epoch 14/100\n",
      "1960/1960 [==============================] - 0s 39us/sample - loss: 0.6055 - val_loss: 0.6338\n",
      "Epoch 15/100\n",
      "1960/1960 [==============================] - 0s 54us/sample - loss: 0.5978 - val_loss: 0.6332\n",
      "Epoch 16/100\n",
      "1960/1960 [==============================] - 0s 49us/sample - loss: 0.5915 - val_loss: 0.6290\n",
      "Epoch 17/100\n",
      "1960/1960 [==============================] - 0s 39us/sample - loss: 0.5879 - val_loss: 0.6337\n",
      "Epoch 18/100\n",
      "1960/1960 [==============================] - 0s 48us/sample - loss: 0.5837 - val_loss: 0.6350\n",
      "Epoch 19/100\n",
      "1960/1960 [==============================] - 0s 40us/sample - loss: 0.5821 - val_loss: 0.6290\n",
      "Epoch 20/100\n",
      "1960/1960 [==============================] - 0s 40us/sample - loss: 0.5753 - val_loss: 0.6388\n",
      "Epoch 21/100\n",
      "1960/1960 [==============================] - 0s 41us/sample - loss: 0.5763 - val_loss: 0.6361\n",
      "Epoch 22/100\n",
      "1960/1960 [==============================] - 0s 70us/sample - loss: 0.5779 - val_loss: 0.6343\n",
      "Epoch 23/100\n",
      "1960/1960 [==============================] - 0s 53us/sample - loss: 0.5717 - val_loss: 0.6267\n",
      "Epoch 24/100\n",
      "1960/1960 [==============================] - 0s 58us/sample - loss: 0.5680 - val_loss: 0.6282\n",
      "Epoch 25/100\n",
      "1960/1960 [==============================] - 0s 45us/sample - loss: 0.5617 - val_loss: 0.6297\n",
      "Epoch 26/100\n",
      "1960/1960 [==============================] - 0s 47us/sample - loss: 0.5612 - val_loss: 0.6371\n",
      "Epoch 27/100\n",
      "1960/1960 [==============================] - 0s 55us/sample - loss: 0.5544 - val_loss: 0.6249\n",
      "Epoch 28/100\n",
      "1960/1960 [==============================] - 0s 62us/sample - loss: 0.5579 - val_loss: 0.6299\n",
      "Epoch 29/100\n",
      "1960/1960 [==============================] - 0s 57us/sample - loss: 0.5561 - val_loss: 0.6365\n",
      "Epoch 30/100\n",
      "1960/1960 [==============================] - 0s 45us/sample - loss: 0.5489 - val_loss: 0.6389\n",
      "Epoch 31/100\n",
      "1960/1960 [==============================] - 0s 46us/sample - loss: 0.5561 - val_loss: 0.6346\n",
      "Epoch 32/100\n",
      "1960/1960 [==============================] - 0s 38us/sample - loss: 0.5476 - val_loss: 0.6367\n",
      "Epoch 33/100\n",
      "1960/1960 [==============================] - ETA: 0s - loss: 0.550 - 0s 39us/sample - loss: 0.5472 - val_loss: 0.6361\n",
      "Epoch 34/100\n",
      "1960/1960 [==============================] - 0s 42us/sample - loss: 0.5487 - val_loss: 0.6365\n",
      "Epoch 35/100\n",
      "1960/1960 [==============================] - 0s 45us/sample - loss: 0.5400 - val_loss: 0.6442\n",
      "Epoch 36/100\n",
      "1960/1960 [==============================] - 0s 42us/sample - loss: 0.5358 - val_loss: 0.6434\n",
      "Epoch 37/100\n",
      "1960/1960 [==============================] - 0s 42us/sample - loss: 0.5383 - val_loss: 0.6402\n",
      "Epoch 38/100\n",
      "1960/1960 [==============================] - 0s 48us/sample - loss: 0.5349 - val_loss: 0.6413\n",
      "Epoch 39/100\n",
      "1960/1960 [==============================] - 0s 49us/sample - loss: 0.5279 - val_loss: 0.6405\n",
      "Epoch 40/100\n",
      "1960/1960 [==============================] - 0s 41us/sample - loss: 0.5297 - val_loss: 0.6473\n",
      "Epoch 41/100\n",
      "1960/1960 [==============================] - 0s 40us/sample - loss: 0.5280 - val_loss: 0.6459\n",
      "Epoch 42/100\n",
      "1960/1960 [==============================] - 0s 38us/sample - loss: 0.5257 - val_loss: 0.6531\n",
      "Epoch 43/100\n",
      "1960/1960 [==============================] - 0s 69us/sample - loss: 0.5283 - val_loss: 0.6635\n",
      "Epoch 44/100\n",
      "1960/1960 [==============================] - 0s 51us/sample - loss: 0.5195 - val_loss: 0.6535\n",
      "Epoch 45/100\n",
      "1960/1960 [==============================] - 0s 47us/sample - loss: 0.5215 - val_loss: 0.6533\n",
      "Epoch 46/100\n",
      "1960/1960 [==============================] - 0s 40us/sample - loss: 0.5163 - val_loss: 0.6451\n",
      "Epoch 47/100\n",
      "1960/1960 [==============================] - 0s 41us/sample - loss: 0.5125 - val_loss: 0.6759\n",
      "Epoch 48/100\n",
      "1960/1960 [==============================] - 0s 43us/sample - loss: 0.5145 - val_loss: 0.6558\n",
      "Epoch 49/100\n",
      "1960/1960 [==============================] - 0s 44us/sample - loss: 0.5091 - val_loss: 0.6685\n",
      "Epoch 50/100\n",
      "1960/1960 [==============================] - 0s 55us/sample - loss: 0.5081 - val_loss: 0.6687\n",
      "Epoch 51/100\n",
      "1960/1960 [==============================] - 0s 49us/sample - loss: 0.5121 - val_loss: 0.6666\n",
      "Epoch 52/100\n",
      "1960/1960 [==============================] - 0s 45us/sample - loss: 0.5109 - val_loss: 0.6704\n",
      "Epoch 53/100\n",
      "1960/1960 [==============================] - 0s 58us/sample - loss: 0.4991 - val_loss: 0.6692\n",
      "Epoch 54/100\n",
      "1960/1960 [==============================] - 0s 61us/sample - loss: 0.5052 - val_loss: 0.6829\n",
      "Epoch 55/100\n",
      "1960/1960 [==============================] - 0s 53us/sample - loss: 0.5049 - val_loss: 0.6783\n",
      "Epoch 56/100\n",
      "1960/1960 [==============================] - 0s 41us/sample - loss: 0.4946 - val_loss: 0.6766\n",
      "Epoch 57/100\n",
      "1960/1960 [==============================] - 0s 34us/sample - loss: 0.4980 - val_loss: 0.6873\n",
      "Epoch 58/100\n",
      "1960/1960 [==============================] - 0s 43us/sample - loss: 0.5008 - val_loss: 0.6899\n",
      "Epoch 59/100\n",
      "1960/1960 [==============================] - 0s 62us/sample - loss: 0.4873 - val_loss: 0.7072\n",
      "Epoch 60/100\n",
      "1960/1960 [==============================] - 0s 60us/sample - loss: 0.4928 - val_loss: 0.6912\n",
      "Epoch 61/100\n",
      "1960/1960 [==============================] - 0s 42us/sample - loss: 0.4837 - val_loss: 0.6792\n",
      "Epoch 62/100\n",
      "1960/1960 [==============================] - 0s 37us/sample - loss: 0.4780 - val_loss: 0.7048\n",
      "Epoch 63/100\n",
      "1960/1960 [==============================] - 0s 35us/sample - loss: 0.4866 - val_loss: 0.6839\n",
      "Epoch 64/100\n",
      "1960/1960 [==============================] - 0s 67us/sample - loss: 0.4891 - val_loss: 0.6875\n",
      "Epoch 65/100\n",
      "1960/1960 [==============================] - 0s 72us/sample - loss: 0.4836 - val_loss: 0.6848\n",
      "Epoch 66/100\n",
      "1960/1960 [==============================] - 0s 50us/sample - loss: 0.4701 - val_loss: 0.6999\n",
      "Epoch 67/100\n",
      "1960/1960 [==============================] - 0s 56us/sample - loss: 0.4863 - val_loss: 0.7193\n",
      "Epoch 68/100\n",
      "1960/1960 [==============================] - 0s 45us/sample - loss: 0.4767 - val_loss: 0.7054\n",
      "Epoch 69/100\n",
      "1960/1960 [==============================] - 0s 35us/sample - loss: 0.4703 - val_loss: 0.7002\n",
      "Epoch 70/100\n",
      "1960/1960 [==============================] - 0s 49us/sample - loss: 0.4702 - val_loss: 0.7152\n",
      "Epoch 71/100\n",
      "1960/1960 [==============================] - 0s 54us/sample - loss: 0.4784 - val_loss: 0.7157\n",
      "Epoch 72/100\n",
      "1960/1960 [==============================] - 0s 57us/sample - loss: 0.4645 - val_loss: 0.6980\n",
      "Epoch 73/100\n",
      "1960/1960 [==============================] - 0s 75us/sample - loss: 0.4619 - val_loss: 0.7020\n",
      "Epoch 74/100\n",
      "1960/1960 [==============================] - 0s 43us/sample - loss: 0.4614 - val_loss: 0.7063\n",
      "Epoch 75/100\n",
      "1960/1960 [==============================] - 0s 36us/sample - loss: 0.4526 - val_loss: 0.7062\n",
      "Epoch 76/100\n",
      "1960/1960 [==============================] - 0s 39us/sample - loss: 0.4533 - val_loss: 0.7138\n"
     ]
    },
    {
     "name": "stdout",
     "output_type": "stream",
     "text": [
      "Epoch 77/100\n",
      "1960/1960 [==============================] - 0s 58us/sample - loss: 0.4554 - val_loss: 0.7151\n",
      "Epoch 78/100\n",
      "1960/1960 [==============================] - 0s 56us/sample - loss: 0.4495 - val_loss: 0.7209\n",
      "Epoch 79/100\n",
      "1960/1960 [==============================] - 0s 56us/sample - loss: 0.4527 - val_loss: 0.7306\n",
      "Epoch 80/100\n",
      "1960/1960 [==============================] - 0s 61us/sample - loss: 0.4632 - val_loss: 0.7467\n",
      "Epoch 81/100\n",
      "1960/1960 [==============================] - 0s 37us/sample - loss: 0.4426 - val_loss: 0.7425\n",
      "Epoch 82/100\n",
      "1960/1960 [==============================] - 0s 36us/sample - loss: 0.4416 - val_loss: 0.7313\n",
      "Epoch 83/100\n",
      "1960/1960 [==============================] - 0s 54us/sample - loss: 0.4476 - val_loss: 0.7261\n",
      "Epoch 84/100\n",
      "1960/1960 [==============================] - 0s 44us/sample - loss: 0.4436 - val_loss: 0.7510\n",
      "Epoch 85/100\n",
      "1960/1960 [==============================] - 0s 37us/sample - loss: 0.4522 - val_loss: 0.7690\n",
      "Epoch 86/100\n",
      "1960/1960 [==============================] - 0s 38us/sample - loss: 0.4536 - val_loss: 0.7246\n",
      "Epoch 87/100\n",
      "1960/1960 [==============================] - 0s 48us/sample - loss: 0.4414 - val_loss: 0.7431\n",
      "Epoch 88/100\n",
      "1960/1960 [==============================] - ETA: 0s - loss: 0.446 - 0s 48us/sample - loss: 0.4480 - val_loss: 0.7295\n",
      "Epoch 89/100\n",
      "1960/1960 [==============================] - 0s 51us/sample - loss: 0.4347 - val_loss: 0.7554\n",
      "Epoch 90/100\n",
      "1960/1960 [==============================] - 0s 47us/sample - loss: 0.4319 - val_loss: 0.7648\n",
      "Epoch 91/100\n",
      "1960/1960 [==============================] - 0s 45us/sample - loss: 0.4379 - val_loss: 0.7469\n",
      "Epoch 92/100\n",
      "1960/1960 [==============================] - 0s 44us/sample - loss: 0.4197 - val_loss: 0.7722\n",
      "Epoch 93/100\n",
      "1960/1960 [==============================] - 0s 46us/sample - loss: 0.4280 - val_loss: 0.7799\n",
      "Epoch 94/100\n",
      "1960/1960 [==============================] - 0s 52us/sample - loss: 0.4299 - val_loss: 0.7585\n",
      "Epoch 95/100\n",
      "1960/1960 [==============================] - 0s 48us/sample - loss: 0.4409 - val_loss: 0.7532\n",
      "Epoch 96/100\n",
      "1960/1960 [==============================] - 0s 53us/sample - loss: 0.4242 - val_loss: 0.7592\n",
      "Epoch 97/100\n",
      "1960/1960 [==============================] - 0s 51us/sample - loss: 0.4156 - val_loss: 0.7818\n",
      "Epoch 98/100\n",
      "1960/1960 [==============================] - 0s 34us/sample - loss: 0.4209 - val_loss: 0.7765\n",
      "Epoch 99/100\n",
      "1960/1960 [==============================] - 0s 39us/sample - loss: 0.4335 - val_loss: 0.7752\n",
      "Epoch 100/100\n",
      "1960/1960 [==============================] - 0s 53us/sample - loss: 0.4281 - val_loss: 0.8029\n"
     ]
    }
   ],
   "source": [
    "hist3 = mod3.fit(x_train, y_train, epochs = 100, batch_size = 32, shuffle = True, validation_split = 0.2)"
   ]
  },
  {
   "cell_type": "code",
   "execution_count": null,
   "metadata": {},
   "outputs": [],
   "source": []
  },
  {
   "cell_type": "code",
   "execution_count": null,
   "metadata": {},
   "outputs": [],
   "source": []
  },
  {
   "cell_type": "code",
   "execution_count": 36,
   "metadata": {},
   "outputs": [
    {
     "data": {
      "image/png": "[encoded data removed]",
      "text/plain": [
       "<Figure size 720x720 with 2 Axes>"
      ]
     },
     "metadata": {
      "needs_background": "light"
     },
     "output_type": "display_data"
    }
   ],
   "source": [
    "#big vs small unregularized\n",
    "fig, ax = plt.subplots(2,1, figsize = (10,10))\n",
    "fig.suptitle('Loss vs Epoch for unregularized models')\n",
    "\n",
    "ax[0].plot(history_mld.history['loss'],label = 'small model train loss')\n",
    "ax[0].plot(history_mld.history['val_loss'], label = 'small model val loss')\n",
    "ax[0].legend()\n",
    "ax[0].set(title = 'small model',\n",
    "         xlabel = 'epoch',\n",
    "         ylabel = 'loss')\n",
    "\n",
    "\n",
    "ax[1].plot(hist1.history['loss'],label = 'big model train loss')\n",
    "ax[1].plot(hist1.history['val_loss'], label = 'big model val loss')\n",
    "ax[1].legend()\n",
    "ax[1].set(title = 'big model',\n",
    "         xlabel = 'epoch',\n",
    "         ylabel = 'loss')\n",
    "\n",
    "plt.show()\n",
    "\n"
   ]
  },
  {
   "cell_type": "markdown",
   "metadata": {},
   "source": [
    "For the two unregularized models, the big model(factory model) shows much steeper increase in validation loss, hence much greater overfitting to training data."
   ]
  },
  {
   "cell_type": "code",
   "execution_count": 37,
   "metadata": {},
   "outputs": [
    {
     "data": {
      "image/png": "[encoded data removed]",
      "text/plain": [
       "<Figure size 864x864 with 4 Axes>"
      ]
     },
     "metadata": {
      "needs_background": "light"
     },
     "output_type": "display_data"
    }
   ],
   "source": [
    "fig, ax = plt.subplots(2,2, figsize = (12,12))\n",
    "fig.suptitle('Loss vs Epoch for all models')\n",
    "\n",
    "ax[0,0].plot(history_mld.history['loss'],label = 'small model train loss')\n",
    "ax[0,0].plot(history_mld.history['val_loss'], label = 'small model val loss')\n",
    "ax[0,0].legend()\n",
    "ax[0,0].set(title = 'small model',\n",
    "         xlabel = 'epoch',\n",
    "         ylabel = 'loss')\n",
    "\n",
    "\n",
    "ax[0,1].plot(hist1.history['loss'],label = 'big model train loss')\n",
    "ax[0,1].plot(hist1.history['val_loss'], label = 'big model val loss')\n",
    "ax[0,1].legend()\n",
    "ax[0,1].set(title = 'big model',\n",
    "         xlabel = 'epoch',\n",
    "         ylabel = 'loss')\n",
    "\n",
    "ax[1,0].plot(hist2.history['loss'],label = 'l1 reg train loss')\n",
    "ax[1,0].plot(hist2.history['val_loss'], label = 'l1 reg val loss')\n",
    "ax[1,0].legend()\n",
    "ax[1,0].set(title = 'big model(l1 reg)',\n",
    "         xlabel = 'epoch',\n",
    "         ylabel = 'loss')\n",
    "\n",
    "ax[1,1].plot(hist3.history['loss'],label = 'l2 reg train loss')\n",
    "ax[1,1].plot(hist3.history['val_loss'], label = 'l2 reg val loss')\n",
    "ax[1,1].legend()\n",
    "ax[1,1].set(title = 'big model(l2 reg)',\n",
    "         xlabel = 'epoch',\n",
    "         ylabel = 'loss')\n",
    "\n",
    "plt.show()\n"
   ]
  },
  {
   "cell_type": "markdown",
   "metadata": {},
   "source": [
    "The l1 regularization reduces overfitting, and the slope of the validation loss to a small extent compared to the unregularized, whereas the l2 regularization(due to the larger value for the regularization constant), reduce it a great deal.\n",
    "\n",
    "The shallow model performs better than all three deep models but as mentioned in the question, this may be just due to the data used.\n",
    "\n",
    "The unregularized deep model is highly overfitted, and the regularization of it reduces overfitting depending on how large the regularization constant selected is."
   ]
  },
  {
   "cell_type": "markdown",
   "metadata": {},
   "source": [
    "## 6. Bonus: Hyperparameter optimisation (1\\*bonus\\* mark)\n",
    "---"
   ]
  },
  {
   "cell_type": "markdown",
   "metadata": {},
   "source": [
    "This section covers **1** exercise on the on hyperparameter optimisation. "
   ]
  },
  {
   "cell_type": "code",
   "execution_count": 38,
   "metadata": {},
   "outputs": [],
   "source": [
    "# Relevant import(s) for this section\n",
    "from sklearn.model_selection import GridSearchCV, cross_val_score"
   ]
  },
  {
   "cell_type": "markdown",
   "metadata": {},
   "source": [
    "---\n",
    "_**Comment on simplified hyperparameter optimisation example:**_ You will try to perform a simple optimisation using a grid search\n",
    "\n",
    "For convenience, we will be using the `scikit-learn` `MLPClassifier` as our base class, but the same principles apply to just about any ML model constructed in any framework. Just as in the examples in the lecture, we will restrict the hyperparameter space to just two dimensions:\n",
    "\n",
    "* the number of hidden layers, `nb_layers`, and\n",
    "* the number of nodes per hidden layer, `nb_nodes_per_layer`, which is taken to be the same for all hidden layers for simplicity.\n",
    "\n",
    "Since the `scikit-learn` neural network classifier class doesn't support these two hyperparameters by default, provided is a simple wrapper class, that works exactly like `MLPClassifier`, it just takes the two parameters above as arguments in the constructor. Don't worry about understanding it in detail. This allows us to call "
   ]
  },
  {
   "cell_type": "code",
   "execution_count": 39,
   "metadata": {},
   "outputs": [],
   "source": [
    "class MLPClassifierWrapper(MLPClassifier):\n",
    "    \"\"\"\n",
    "    Wrapper around `sklearn.neural_network.MLPClassifier` with a convenient set \n",
    "    of properties (nb_layers and nb_nodes_per_layer) suitable for hyperparameter \n",
    "    optimisation exercises.\n",
    "    \n",
    "    Arguments:\n",
    "        nb_layers: Integer, number of hidden layers\n",
    "        nb_nodes_per_layer: Number of nodes per hidden layer, taken to be the \n",
    "            same for all for convenience.\n",
    "    \"\"\"\n",
    "\n",
    "    def __init__ (self, nb_layers=1, nb_nodes_per_layer=100, **kwargs):\n",
    "        \n",
    "        # Member variables\n",
    "        self._nb_layers = nb_layers\n",
    "        self._nb_nodes_per_layer = nb_nodes_per_layer  \n",
    "        \n",
    "        # Call base class (`MLPClassifier`) constructor\n",
    "        super(MLPClassifierWrapper, self).__init__(**kwargs)\n",
    "        \n",
    "        # Trigger `_set_architecture`\n",
    "        self._set_architecture()\n",
    "        return\n",
    "\n",
    "    @property\n",
    "    def nb_layers(self):\n",
    "        return self._nb_layers\n",
    "    \n",
    "    @property\n",
    "    def nb_nodes_per_layer(self):\n",
    "        return self._nb_nodes_per_layer \n",
    "\n",
    "    @nb_layers.setter\n",
    "    def nb_layers(self, value):\n",
    "        self._nb_layers = value\n",
    "        self._set_architecture()\n",
    "        return\n",
    "    \n",
    "    @nb_nodes_per_layer.setter\n",
    "    def nb_nodes_per_layer(self, value):\n",
    "        self._nb_nodes_per_layer = value\n",
    "        self._set_architecture()\n",
    "        return\n",
    "    \n",
    "    def _set_architecture (self):\n",
    "        \"\"\"\n",
    "        Sets the `hidden_layer_sizes` parameter of the base `MLPClassifier` \n",
    "        class, based on the two custom parameters we have chosen.\n",
    "        \"\"\"\n",
    "        \n",
    "        self.hidden_layer_sizes = tuple([self._nb_nodes_per_layer for _ in range(self._nb_layers)])\n",
    "        return\n",
    "    pass"
   ]
  },
  {
   "cell_type": "markdown",
   "metadata": {},
   "source": [
    "---"
   ]
  },
  {
   "cell_type": "markdown",
   "metadata": {},
   "source": [
    "#### 16. Perform a grid search (1 mark)\n",
    "\n",
    "- Construct a python `dict` called `param_grid` which specifies the hyperparameter configurations to try for each parameter dimension. That is, it should have\n",
    "    - `\"nb_layers\"` and `\"nb_nodes_per_layer\"` as keys, and\n",
    "    - lists of integers as values, corresponding to the values of each parameter you want to try out (_e.g._ [1, 2, ...])\n",
    "- Choose a reasonable set of values for each parameter; about a handful for each.\n",
    "- Use the `GridSearchCV` class to perform _**3**_**-fold** cross validation (CV) optimisation of the validation **accuracy**\n",
    "    - Hint: You can use the `n_jobs=...` argument to enable multi-processing, thereby speeding up the optimisation, at the expense of reproducibility.\n",
    "- The base classifier should be an instance of `MLPClassifierWrapper` set to train for **100 epochs**.\n",
    "- Present the results:\n",
    "    - Print the best parameter configuration found. GridSearchCV has a public member which stores this. Read doc.\n",
    "    - Print the mean and standard deviation of the test scores for the best configuration found. (_Hint:_ These can be found in the `.cv_results_` attribute)\n",
    "    - Plot the optimisation results using the `plot.optimisation` method.\n",
    "- Discuss the results. What would happen if the best result is foundon the edge of the parameter grid?"
   ]
  },
  {
   "cell_type": "code",
   "execution_count": 40,
   "metadata": {},
   "outputs": [
    {
     "name": "stdout",
     "output_type": "stream",
     "text": [
      "Fitting 5 folds for each of 100 candidates, totalling 500 fits\n",
      "Best Params: {'nb_layers': 1, 'nb_nodes_per_layer': 8}\n",
      "Mean test score:  0.7555102040816326\n",
      "Std test score:  0.016898156362844474\n",
      "{'mean_fit_time': array([1.31752434, 1.44491005, 1.23120389, 1.29514127, 1.33057799,\n",
      "       1.35058722, 1.63530092, 2.093578  , 1.846211  , 1.5806221 ,\n",
      "       1.78379273, 1.38783441, 1.449367  , 1.34579949, 1.30692368,\n",
      "       1.34620414, 1.40137243, 1.56597795, 1.47819052, 1.64401712,\n",
      "       1.49361115, 1.56680927, 1.80497041, 1.71400952, 1.64978814,\n",
      "       1.78225141, 2.00363984, 2.29725471, 1.77594399, 1.83139062,\n",
      "       1.59672866, 1.6864831 , 1.70893021, 1.87159615, 1.74454341,\n",
      "       1.83107967, 1.99865303, 2.74067149, 2.6866128 , 2.44486656,\n",
      "       1.60211158, 1.54704471, 1.96632476, 1.9610796 , 2.00816927,\n",
      "       2.11795955, 2.21547365, 2.21268167, 2.21253257, 2.2621593 ,\n",
      "       1.24446459, 1.7287746 , 1.37870598, 1.81176586, 2.32916903,\n",
      "       2.3868639 , 2.52484565, 2.53750343, 2.63415976, 2.9343255 ,\n",
      "       2.1931006 , 2.0489502 , 1.54753466, 2.44744987, 2.29759526,\n",
      "       3.00675654, 3.75229411, 3.8282465 , 3.20932136, 3.07879033,\n",
      "       2.13622952, 1.84998851, 2.11671319, 2.60277858, 3.40424476,\n",
      "       2.68534589, 3.16661549, 3.21317797, 3.40919285, 3.60114141,\n",
      "       1.80311027, 2.17779016, 2.72504025, 2.6704999 , 2.47379904,\n",
      "       2.45483232, 3.92189384, 3.89741068, 3.85652437, 3.66681194,\n",
      "       2.13944898, 2.24114437, 2.33210521, 3.71160579, 4.05503826,\n",
      "       3.72419434, 3.45304031, 3.60664411, 3.80694761, 3.53575716]), 'std_fit_time': array([0.03756614, 0.03264537, 0.12332554, 0.08921323, 0.05049931,\n",
      "       0.06432231, 0.16709306, 0.13897194, 0.17580106, 0.13601173,\n",
      "       0.05471574, 0.17824219, 0.00798114, 0.13308516, 0.05193649,\n",
      "       0.03982013, 0.09859585, 0.06933815, 0.03675483, 0.06972865,\n",
      "       0.31924997, 0.1950761 , 0.19873721, 0.12717798, 0.0778332 ,\n",
      "       0.10218417, 0.14475162, 0.15251187, 0.11700082, 0.08495322,\n",
      "       0.07695549, 0.11295441, 0.09580593, 0.09285765, 0.05925119,\n",
      "       0.03565857, 0.15105905, 0.09869657, 0.08676588, 0.20898945,\n",
      "       0.39996299, 0.4853046 , 0.02432662, 0.04826378, 0.03986631,\n",
      "       0.040737  , 0.10436991, 0.06900867, 0.05693798, 0.09426539,\n",
      "       0.53431145, 0.34048787, 0.64259211, 0.57701422, 0.09925557,\n",
      "       0.0825298 , 0.03509974, 0.02499921, 0.05476795, 0.2021072 ,\n",
      "       0.7701246 , 0.66081173, 0.9746657 , 0.66301318, 0.59878484,\n",
      "       0.27946471, 0.34728491, 0.53714129, 0.10829692, 0.15654966,\n",
      "       0.29873067, 0.59779626, 1.02022622, 1.07039049, 0.13684687,\n",
      "       0.95948337, 0.0849967 , 0.06016414, 0.09512008, 0.07727941,\n",
      "       0.7754513 , 0.83785032, 0.50423   , 0.75862886, 0.88282061,\n",
      "       1.04131615, 0.14811279, 0.31030879, 0.18694954, 0.06549324,\n",
      "       0.90384375, 1.0937945 , 1.32146197, 1.17102501, 0.88848308,\n",
      "       0.18609857, 1.27945356, 1.02742243, 0.28983512, 0.09498205]), 'mean_score_time': array([0.01515965, 0.00140171, 0.00079756, 0.00040612, 0.00099692,\n",
      "       0.00099773, 0.00099926, 0.00119028, 0.00159616, 0.00079751,\n",
      "       0.00119762, 0.00159359, 0.0007978 , 0.0009974 , 0.00079761,\n",
      "       0.00079799, 0.00119681, 0.00099707, 0.00079694, 0.00119939,\n",
      "       0.00059853, 0.0009963 , 0.00079751, 0.00079813, 0.00119786,\n",
      "       0.00099139, 0.00179634, 0.00099664, 0.00099711, 0.00099087,\n",
      "       0.00099659, 0.00060377, 0.00129838, 0.00099726, 0.0011971 ,\n",
      "       0.00079789, 0.00159588, 0.001194  , 0.00119557, 0.00118904,\n",
      "       0.00099754, 0.00100446, 0.00099115, 0.00079741, 0.00099716,\n",
      "       0.00099587, 0.00079784, 0.00120354, 0.00079818, 0.00120316,\n",
      "       0.00079741, 0.00080986, 0.00059824, 0.0012032 , 0.00099773,\n",
      "       0.00099683, 0.00099726, 0.00140224, 0.00119672, 0.00139627,\n",
      "       0.00099635, 0.00139327, 0.00079737, 0.00099645, 0.00119014,\n",
      "       0.00119681, 0.00179529, 0.00159612, 0.00159478, 0.00099096,\n",
      "       0.0007977 , 0.00079813, 0.00079112, 0.00099702, 0.00119743,\n",
      "       0.00139613, 0.00159483, 0.00119138, 0.00159578, 0.00099139,\n",
      "       0.00099297, 0.00079217, 0.00099735, 0.00079141, 0.00119629,\n",
      "       0.00099058, 0.00160427, 0.0013896 , 0.00158839, 0.00159597,\n",
      "       0.00039907, 0.00119691, 0.00119662, 0.00099554, 0.00139656,\n",
      "       0.00119238, 0.00140123, 0.00159554, 0.00159621, 0.00120106]), 'std_score_time': array([9.63631348e-03, 5.00596071e-04, 3.98779899e-04, 4.97509680e-04,\n",
      "       8.86968386e-07, 1.58436277e-06, 4.07521450e-06, 9.79260895e-04,\n",
      "       4.88386720e-04, 3.98756738e-04, 3.98137423e-04, 1.17926584e-03,\n",
      "       3.98898791e-04, 3.56832255e-07, 3.98803965e-04, 3.98993503e-04,\n",
      "       3.98302235e-04, 6.21719590e-07, 3.98473404e-04, 3.97893097e-04,\n",
      "       4.88694596e-04, 6.29093730e-04, 3.98755170e-04, 3.99065146e-04,\n",
      "       4.00283008e-04, 1.35285685e-05, 1.16419435e-03, 1.36044909e-06,\n",
      "       6.30449495e-04, 1.32351305e-05, 7.23159356e-07, 4.93075275e-04,\n",
      "       6.18505447e-04, 3.16297988e-07, 3.98635978e-04, 3.98945933e-04,\n",
      "       4.88636388e-04, 3.92198722e-04, 3.98687269e-04, 4.03618119e-04,\n",
      "       5.22348936e-07, 1.37126959e-05, 1.24237815e-05, 3.98707885e-04,\n",
      "       7.92181383e-07, 9.17214587e-07, 3.98921995e-04, 3.95873931e-04,\n",
      "       3.99089497e-04, 3.96169288e-04, 3.98708284e-04, 4.05153171e-04,\n",
      "       4.88463718e-04, 7.53529810e-04, 4.10301681e-06, 7.53945746e-07,\n",
      "       3.81469727e-07, 4.95771393e-04, 3.98827226e-04, 4.87566789e-04,\n",
      "       6.57274664e-07, 4.96971513e-04, 3.98683961e-04, 2.14245859e-05,\n",
      "       3.86619715e-04, 3.99732718e-04, 7.47117736e-04, 4.88733631e-04,\n",
      "       4.89494722e-04, 1.14427009e-05, 3.98850566e-04, 3.99065431e-04,\n",
      "       3.95771032e-04, 2.78041453e-07, 3.98469838e-04, 4.88656275e-04,\n",
      "       4.89337192e-04, 4.01887596e-04, 4.88558226e-04, 1.15954797e-05,\n",
      "       8.20714187e-06, 3.96240678e-04, 6.30751091e-04, 3.95949670e-04,\n",
      "       3.98087512e-04, 1.40528692e-05, 4.92021468e-04, 4.94930270e-04,\n",
      "       4.82951667e-04, 4.89103893e-04, 4.88752886e-04, 7.46403934e-04,\n",
      "       3.98874411e-04, 6.31219347e-04, 4.89084009e-04, 4.01200238e-04,\n",
      "       4.98639184e-04, 4.89630186e-04, 4.87547772e-04, 3.96514529e-04]), 'param_nb_layers': masked_array(data=[1, 1, 1, 1, 1, 1, 1, 1, 1, 1, 2, 2, 2, 2, 2, 2, 2, 2,\n",
      "                   2, 2, 3, 3, 3, 3, 3, 3, 3, 3, 3, 3, 4, 4, 4, 4, 4, 4,\n",
      "                   4, 4, 4, 4, 5, 5, 5, 5, 5, 5, 5, 5, 5, 5, 6, 6, 6, 6,\n",
      "                   6, 6, 6, 6, 6, 6, 7, 7, 7, 7, 7, 7, 7, 7, 7, 7, 8, 8,\n",
      "                   8, 8, 8, 8, 8, 8, 8, 8, 9, 9, 9, 9, 9, 9, 9, 9, 9, 9,\n",
      "                   10, 10, 10, 10, 10, 10, 10, 10, 10, 10],\n",
      "             mask=[False, False, False, False, False, False, False, False,\n",
      "                   False, False, False, False, False, False, False, False,\n",
      "                   False, False, False, False, False, False, False, False,\n",
      "                   False, False, False, False, False, False, False, False,\n",
      "                   False, False, False, False, False, False, False, False,\n",
      "                   False, False, False, False, False, False, False, False,\n",
      "                   False, False, False, False, False, False, False, False,\n",
      "                   False, False, False, False, False, False, False, False,\n",
      "                   False, False, False, False, False, False, False, False,\n",
      "                   False, False, False, False, False, False, False, False,\n",
      "                   False, False, False, False, False, False, False, False,\n",
      "                   False, False, False, False, False, False, False, False,\n",
      "                   False, False, False, False],\n",
      "       fill_value='?',\n",
      "            dtype=object), 'param_nb_nodes_per_layer': masked_array(data=[1, 2, 3, 4, 5, 6, 7, 8, 9, 10, 1, 2, 3, 4, 5, 6, 7, 8,\n",
      "                   9, 10, 1, 2, 3, 4, 5, 6, 7, 8, 9, 10, 1, 2, 3, 4, 5, 6,\n",
      "                   7, 8, 9, 10, 1, 2, 3, 4, 5, 6, 7, 8, 9, 10, 1, 2, 3, 4,\n",
      "                   5, 6, 7, 8, 9, 10, 1, 2, 3, 4, 5, 6, 7, 8, 9, 10, 1, 2,\n",
      "                   3, 4, 5, 6, 7, 8, 9, 10, 1, 2, 3, 4, 5, 6, 7, 8, 9, 10,\n",
      "                   1, 2, 3, 4, 5, 6, 7, 8, 9, 10],\n",
      "             mask=[False, False, False, False, False, False, False, False,\n",
      "                   False, False, False, False, False, False, False, False,\n",
      "                   False, False, False, False, False, False, False, False,\n",
      "                   False, False, False, False, False, False, False, False,\n",
      "                   False, False, False, False, False, False, False, False,\n",
      "                   False, False, False, False, False, False, False, False,\n",
      "                   False, False, False, False, False, False, False, False,\n",
      "                   False, False, False, False, False, False, False, False,\n",
      "                   False, False, False, False, False, False, False, False,\n",
      "                   False, False, False, False, False, False, False, False,\n",
      "                   False, False, False, False, False, False, False, False,\n",
      "                   False, False, False, False, False, False, False, False,\n",
      "                   False, False, False, False],\n",
      "       fill_value='?',\n",
      "            dtype=object), 'params': [{'nb_layers': 1, 'nb_nodes_per_layer': 1}, {'nb_layers': 1, 'nb_nodes_per_layer': 2}, {'nb_layers': 1, 'nb_nodes_per_layer': 3}, {'nb_layers': 1, 'nb_nodes_per_layer': 4}, {'nb_layers': 1, 'nb_nodes_per_layer': 5}, {'nb_layers': 1, 'nb_nodes_per_layer': 6}, {'nb_layers': 1, 'nb_nodes_per_layer': 7}, {'nb_layers': 1, 'nb_nodes_per_layer': 8}, {'nb_layers': 1, 'nb_nodes_per_layer': 9}, {'nb_layers': 1, 'nb_nodes_per_layer': 10}, {'nb_layers': 2, 'nb_nodes_per_layer': 1}, {'nb_layers': 2, 'nb_nodes_per_layer': 2}, {'nb_layers': 2, 'nb_nodes_per_layer': 3}, {'nb_layers': 2, 'nb_nodes_per_layer': 4}, {'nb_layers': 2, 'nb_nodes_per_layer': 5}, {'nb_layers': 2, 'nb_nodes_per_layer': 6}, {'nb_layers': 2, 'nb_nodes_per_layer': 7}, {'nb_layers': 2, 'nb_nodes_per_layer': 8}, {'nb_layers': 2, 'nb_nodes_per_layer': 9}, {'nb_layers': 2, 'nb_nodes_per_layer': 10}, {'nb_layers': 3, 'nb_nodes_per_layer': 1}, {'nb_layers': 3, 'nb_nodes_per_layer': 2}, {'nb_layers': 3, 'nb_nodes_per_layer': 3}, {'nb_layers': 3, 'nb_nodes_per_layer': 4}, {'nb_layers': 3, 'nb_nodes_per_layer': 5}, {'nb_layers': 3, 'nb_nodes_per_layer': 6}, {'nb_layers': 3, 'nb_nodes_per_layer': 7}, {'nb_layers': 3, 'nb_nodes_per_layer': 8}, {'nb_layers': 3, 'nb_nodes_per_layer': 9}, {'nb_layers': 3, 'nb_nodes_per_layer': 10}, {'nb_layers': 4, 'nb_nodes_per_layer': 1}, {'nb_layers': 4, 'nb_nodes_per_layer': 2}, {'nb_layers': 4, 'nb_nodes_per_layer': 3}, {'nb_layers': 4, 'nb_nodes_per_layer': 4}, {'nb_layers': 4, 'nb_nodes_per_layer': 5}, {'nb_layers': 4, 'nb_nodes_per_layer': 6}, {'nb_layers': 4, 'nb_nodes_per_layer': 7}, {'nb_layers': 4, 'nb_nodes_per_layer': 8}, {'nb_layers': 4, 'nb_nodes_per_layer': 9}, {'nb_layers': 4, 'nb_nodes_per_layer': 10}, {'nb_layers': 5, 'nb_nodes_per_layer': 1}, {'nb_layers': 5, 'nb_nodes_per_layer': 2}, {'nb_layers': 5, 'nb_nodes_per_layer': 3}, {'nb_layers': 5, 'nb_nodes_per_layer': 4}, {'nb_layers': 5, 'nb_nodes_per_layer': 5}, {'nb_layers': 5, 'nb_nodes_per_layer': 6}, {'nb_layers': 5, 'nb_nodes_per_layer': 7}, {'nb_layers': 5, 'nb_nodes_per_layer': 8}, {'nb_layers': 5, 'nb_nodes_per_layer': 9}, {'nb_layers': 5, 'nb_nodes_per_layer': 10}, {'nb_layers': 6, 'nb_nodes_per_layer': 1}, {'nb_layers': 6, 'nb_nodes_per_layer': 2}, {'nb_layers': 6, 'nb_nodes_per_layer': 3}, {'nb_layers': 6, 'nb_nodes_per_layer': 4}, {'nb_layers': 6, 'nb_nodes_per_layer': 5}, {'nb_layers': 6, 'nb_nodes_per_layer': 6}, {'nb_layers': 6, 'nb_nodes_per_layer': 7}, {'nb_layers': 6, 'nb_nodes_per_layer': 8}, {'nb_layers': 6, 'nb_nodes_per_layer': 9}, {'nb_layers': 6, 'nb_nodes_per_layer': 10}, {'nb_layers': 7, 'nb_nodes_per_layer': 1}, {'nb_layers': 7, 'nb_nodes_per_layer': 2}, {'nb_layers': 7, 'nb_nodes_per_layer': 3}, {'nb_layers': 7, 'nb_nodes_per_layer': 4}, {'nb_layers': 7, 'nb_nodes_per_layer': 5}, {'nb_layers': 7, 'nb_nodes_per_layer': 6}, {'nb_layers': 7, 'nb_nodes_per_layer': 7}, {'nb_layers': 7, 'nb_nodes_per_layer': 8}, {'nb_layers': 7, 'nb_nodes_per_layer': 9}, {'nb_layers': 7, 'nb_nodes_per_layer': 10}, {'nb_layers': 8, 'nb_nodes_per_layer': 1}, {'nb_layers': 8, 'nb_nodes_per_layer': 2}, {'nb_layers': 8, 'nb_nodes_per_layer': 3}, {'nb_layers': 8, 'nb_nodes_per_layer': 4}, {'nb_layers': 8, 'nb_nodes_per_layer': 5}, {'nb_layers': 8, 'nb_nodes_per_layer': 6}, {'nb_layers': 8, 'nb_nodes_per_layer': 7}, {'nb_layers': 8, 'nb_nodes_per_layer': 8}, {'nb_layers': 8, 'nb_nodes_per_layer': 9}, {'nb_layers': 8, 'nb_nodes_per_layer': 10}, {'nb_layers': 9, 'nb_nodes_per_layer': 1}, {'nb_layers': 9, 'nb_nodes_per_layer': 2}, {'nb_layers': 9, 'nb_nodes_per_layer': 3}, {'nb_layers': 9, 'nb_nodes_per_layer': 4}, {'nb_layers': 9, 'nb_nodes_per_layer': 5}, {'nb_layers': 9, 'nb_nodes_per_layer': 6}, {'nb_layers': 9, 'nb_nodes_per_layer': 7}, {'nb_layers': 9, 'nb_nodes_per_layer': 8}, {'nb_layers': 9, 'nb_nodes_per_layer': 9}, {'nb_layers': 9, 'nb_nodes_per_layer': 10}, {'nb_layers': 10, 'nb_nodes_per_layer': 1}, {'nb_layers': 10, 'nb_nodes_per_layer': 2}, {'nb_layers': 10, 'nb_nodes_per_layer': 3}, {'nb_layers': 10, 'nb_nodes_per_layer': 4}, {'nb_layers': 10, 'nb_nodes_per_layer': 5}, {'nb_layers': 10, 'nb_nodes_per_layer': 6}, {'nb_layers': 10, 'nb_nodes_per_layer': 7}, {'nb_layers': 10, 'nb_nodes_per_layer': 8}, {'nb_layers': 10, 'nb_nodes_per_layer': 9}, {'nb_layers': 10, 'nb_nodes_per_layer': 10}], 'split0_test_score': array([0.73469388, 0.72653061, 0.74285714, 0.73877551, 0.73265306,\n",
      "       0.74489796, 0.73265306, 0.75510204, 0.73877551, 0.73469388,\n",
      "       0.71632653, 0.71428571, 0.75306122, 0.75918367, 0.75102041,\n",
      "       0.73673469, 0.74489796, 0.73469388, 0.73877551, 0.72857143,\n",
      "       0.61632653, 0.72040816, 0.73469388, 0.72857143, 0.73265306,\n",
      "       0.74897959, 0.74693878, 0.75102041, 0.71428571, 0.74693878,\n",
      "       0.61632653, 0.73469388, 0.61632653, 0.7122449 , 0.73673469,\n",
      "       0.73877551, 0.71428571, 0.7244898 , 0.72857143, 0.73877551,\n",
      "       0.61632653, 0.61632653, 0.71428571, 0.74489796, 0.73469388,\n",
      "       0.73265306, 0.72653061, 0.74489796, 0.74285714, 0.7244898 ,\n",
      "       0.61632653, 0.61632653, 0.61632653, 0.74897959, 0.75918367,\n",
      "       0.72244898, 0.71836735, 0.72244898, 0.74081633, 0.73673469,\n",
      "       0.61632653, 0.61632653, 0.61632653, 0.61632653, 0.73061224,\n",
      "       0.71632653, 0.73877551, 0.74897959, 0.7122449 , 0.72857143,\n",
      "       0.61632653, 0.61632653, 0.61632653, 0.72244898, 0.73877551,\n",
      "       0.73673469, 0.73265306, 0.71428571, 0.72244898, 0.70204082,\n",
      "       0.61632653, 0.61632653, 0.61632653, 0.72653061, 0.73673469,\n",
      "       0.74489796, 0.74081633, 0.73061224, 0.72040816, 0.73265306,\n",
      "       0.61632653, 0.70408163, 0.61632653, 0.72857143, 0.61632653,\n",
      "       0.71632653, 0.72040816, 0.73469388, 0.69795918, 0.7122449 ]), 'split1_test_score': array([0.66530612, 0.70204082, 0.7       , 0.71428571, 0.70408163,\n",
      "       0.7244898 , 0.71836735, 0.72857143, 0.72857143, 0.73265306,\n",
      "       0.61632653, 0.70816327, 0.70612245, 0.72244898, 0.7122449 ,\n",
      "       0.72857143, 0.7244898 , 0.73673469, 0.74285714, 0.72040816,\n",
      "       0.61632653, 0.71428571, 0.7122449 , 0.73877551, 0.71836735,\n",
      "       0.73469388, 0.73877551, 0.74489796, 0.72653061, 0.73265306,\n",
      "       0.61632653, 0.72244898, 0.72857143, 0.71428571, 0.7122449 ,\n",
      "       0.72857143, 0.71632653, 0.74081633, 0.71836735, 0.7244898 ,\n",
      "       0.70612245, 0.72653061, 0.61632653, 0.7122449 , 0.70612245,\n",
      "       0.72244898, 0.72857143, 0.71020408, 0.72244898, 0.7244898 ,\n",
      "       0.61632653, 0.61632653, 0.61632653, 0.72857143, 0.70612245,\n",
      "       0.73265306, 0.73265306, 0.72653061, 0.72244898, 0.72244898,\n",
      "       0.61632653, 0.61632653, 0.61632653, 0.61632653, 0.61632653,\n",
      "       0.73469388, 0.71428571, 0.73265306, 0.72857143, 0.70408163,\n",
      "       0.61632653, 0.61632653, 0.61632653, 0.70816327, 0.73673469,\n",
      "       0.72857143, 0.72040816, 0.72653061, 0.73265306, 0.71632653,\n",
      "       0.61632653, 0.61632653, 0.71836735, 0.72857143, 0.61632653,\n",
      "       0.61632653, 0.72857143, 0.72040816, 0.73673469, 0.71836735,\n",
      "       0.61632653, 0.61632653, 0.61632653, 0.61632653, 0.72040816,\n",
      "       0.7122449 , 0.72040816, 0.72653061, 0.72857143, 0.73469388]), 'split2_test_score': array([0.73673469, 0.75918367, 0.75102041, 0.75102041, 0.74693878,\n",
      "       0.74081633, 0.73469388, 0.75306122, 0.74081633, 0.75510204,\n",
      "       0.75306122, 0.74693878, 0.75510204, 0.74285714, 0.75102041,\n",
      "       0.72653061, 0.72653061, 0.75714286, 0.73469388, 0.73877551,\n",
      "       0.74081633, 0.61632653, 0.73673469, 0.74285714, 0.74081633,\n",
      "       0.74285714, 0.74897959, 0.75306122, 0.73265306, 0.73673469,\n",
      "       0.61632653, 0.61632653, 0.75510204, 0.75918367, 0.75510204,\n",
      "       0.74693878, 0.76122449, 0.74897959, 0.74693878, 0.74693878,\n",
      "       0.61632653, 0.61632653, 0.74081633, 0.75714286, 0.76122449,\n",
      "       0.73469388, 0.75102041, 0.74081633, 0.7244898 , 0.72244898,\n",
      "       0.61632653, 0.61632653, 0.74285714, 0.74489796, 0.75714286,\n",
      "       0.75102041, 0.74285714, 0.76122449, 0.69795918, 0.75306122,\n",
      "       0.61632653, 0.61632653, 0.61632653, 0.73877551, 0.61632653,\n",
      "       0.73265306, 0.73877551, 0.71632653, 0.73877551, 0.73673469,\n",
      "       0.61632653, 0.73877551, 0.76326531, 0.75306122, 0.74285714,\n",
      "       0.7244898 , 0.75918367, 0.69387755, 0.70204082, 0.73265306,\n",
      "       0.61632653, 0.61632653, 0.61632653, 0.73877551, 0.74285714,\n",
      "       0.73265306, 0.72653061, 0.71836735, 0.71836735, 0.73061224,\n",
      "       0.61632653, 0.61632653, 0.61632653, 0.75714286, 0.73673469,\n",
      "       0.73469388, 0.61632653, 0.61632653, 0.74285714, 0.76326531]), 'split3_test_score': array([0.74285714, 0.71020408, 0.74285714, 0.75510204, 0.74489796,\n",
      "       0.72653061, 0.74489796, 0.75918367, 0.74693878, 0.75306122,\n",
      "       0.73265306, 0.70816327, 0.75510204, 0.73265306, 0.72244898,\n",
      "       0.75714286, 0.72040816, 0.73469388, 0.74489796, 0.73877551,\n",
      "       0.61632653, 0.61632653, 0.71020408, 0.76530612, 0.73673469,\n",
      "       0.74081633, 0.73265306, 0.74693878, 0.74285714, 0.75102041,\n",
      "       0.61632653, 0.61632653, 0.73469388, 0.74897959, 0.73673469,\n",
      "       0.73265306, 0.73673469, 0.73877551, 0.74489796, 0.73061224,\n",
      "       0.61632653, 0.71836735, 0.74081633, 0.71836735, 0.72857143,\n",
      "       0.74693878, 0.73673469, 0.73469388, 0.72653061, 0.74081633,\n",
      "       0.73061224, 0.61632653, 0.61632653, 0.61632653, 0.74081633,\n",
      "       0.73265306, 0.74693878, 0.76530612, 0.74285714, 0.74081633,\n",
      "       0.72653061, 0.61632653, 0.74693878, 0.61632653, 0.73877551,\n",
      "       0.75102041, 0.72653061, 0.74285714, 0.73877551, 0.70408163,\n",
      "       0.61632653, 0.61632653, 0.61632653, 0.61632653, 0.74285714,\n",
      "       0.61632653, 0.76530612, 0.73265306, 0.69387755, 0.72857143,\n",
      "       0.61632653, 0.61632653, 0.75918367, 0.61632653, 0.75510204,\n",
      "       0.72040816, 0.74693878, 0.74897959, 0.74285714, 0.73061224,\n",
      "       0.61632653, 0.61632653, 0.61632653, 0.74693878, 0.73469388,\n",
      "       0.75918367, 0.74897959, 0.72857143, 0.74081633, 0.70612245]), 'split4_test_score': array([0.61632653, 0.75306122, 0.77346939, 0.76122449, 0.78163265,\n",
      "       0.76530612, 0.76938776, 0.78163265, 0.78367347, 0.76734694,\n",
      "       0.75306122, 0.74285714, 0.75918367, 0.77346939, 0.77346939,\n",
      "       0.76530612, 0.76122449, 0.76938776, 0.77959184, 0.75714286,\n",
      "       0.61632653, 0.75918367, 0.76326531, 0.76530612, 0.78571429,\n",
      "       0.75510204, 0.75714286, 0.75306122, 0.77142857, 0.76938776,\n",
      "       0.7244898 , 0.74693878, 0.61632653, 0.74285714, 0.77142857,\n",
      "       0.74489796, 0.76734694, 0.7755102 , 0.75918367, 0.76326531,\n",
      "       0.74489796, 0.61632653, 0.76122449, 0.74693878, 0.76938776,\n",
      "       0.70612245, 0.75510204, 0.76530612, 0.75714286, 0.75510204,\n",
      "       0.61632653, 0.75918367, 0.61632653, 0.75510204, 0.77959184,\n",
      "       0.76530612, 0.76326531, 0.74897959, 0.75918367, 0.72040816,\n",
      "       0.61632653, 0.61632653, 0.61632653, 0.74897959, 0.61632653,\n",
      "       0.78979592, 0.76734694, 0.76734694, 0.77346939, 0.74489796,\n",
      "       0.61632653, 0.61632653, 0.6755102 , 0.61632653, 0.75714286,\n",
      "       0.74693878, 0.74897959, 0.74489796, 0.76326531, 0.73877551,\n",
      "       0.61632653, 0.61632653, 0.61632653, 0.75102041, 0.61632653,\n",
      "       0.61632653, 0.77142857, 0.73265306, 0.72653061, 0.73673469,\n",
      "       0.61632653, 0.61632653, 0.75306122, 0.75714286, 0.61632653,\n",
      "       0.75102041, 0.73265306, 0.74285714, 0.75510204, 0.73265306]), 'mean_test_score': array([0.69918367, 0.73020408, 0.74204082, 0.74408163, 0.74204082,\n",
      "       0.74040816, 0.74      , 0.7555102 , 0.7477551 , 0.74857143,\n",
      "       0.71428571, 0.72408163, 0.74571429, 0.74612245, 0.74204082,\n",
      "       0.74285714, 0.7355102 , 0.74653061, 0.74816327, 0.73673469,\n",
      "       0.64122449, 0.68530612, 0.73142857, 0.74816327, 0.74285714,\n",
      "       0.7444898 , 0.74489796, 0.74979592, 0.73755102, 0.74734694,\n",
      "       0.63795918, 0.68734694, 0.69020408, 0.7355102 , 0.74244898,\n",
      "       0.73836735, 0.73918367, 0.74571429, 0.73959184, 0.74081633,\n",
      "       0.66      , 0.65877551, 0.71469388, 0.73591837, 0.74      ,\n",
      "       0.72857143, 0.73959184, 0.73918367, 0.73469388, 0.73346939,\n",
      "       0.63918367, 0.64489796, 0.64163265, 0.71877551, 0.74857143,\n",
      "       0.74081633, 0.74081633, 0.74489796, 0.73265306, 0.73469388,\n",
      "       0.63836735, 0.61632653, 0.64244898, 0.66734694, 0.66367347,\n",
      "       0.74489796, 0.73714286, 0.74163265, 0.73836735, 0.72367347,\n",
      "       0.61632653, 0.64081633, 0.65755102, 0.68326531, 0.74367347,\n",
      "       0.71061224, 0.74530612, 0.72244898, 0.72285714, 0.72367347,\n",
      "       0.61632653, 0.61632653, 0.66530612, 0.7122449 , 0.69346939,\n",
      "       0.68612245, 0.74285714, 0.73020408, 0.72897959, 0.72979592,\n",
      "       0.61632653, 0.63387755, 0.64367347, 0.72122449, 0.68489796,\n",
      "       0.73469388, 0.7077551 , 0.70979592, 0.73306122, 0.72979592]), 'std_test_score': array([0.05018251, 0.02266685, 0.02382079, 0.01660979, 0.02501478,\n",
      "       0.01473916, 0.01695721, 0.01689816, 0.01890814, 0.01312485,\n",
      "       0.05088144, 0.01719138, 0.0198956 , 0.01828098, 0.02200299,\n",
      "       0.0155959 , 0.01535909, 0.01422143, 0.01610048, 0.01231274,\n",
      "       0.04979592, 0.05838875, 0.01934367, 0.01475046, 0.02272557,\n",
      "       0.00699854, 0.00846385, 0.00331593, 0.01930056, 0.01286848,\n",
      "       0.04326531, 0.05850277, 0.06095724, 0.01890814, 0.01988723,\n",
      "       0.00699854, 0.02203326, 0.01685867, 0.01440764, 0.01353724,\n",
      "       0.05487633, 0.05205322, 0.05139293, 0.01744152, 0.02289356,\n",
      "       0.01365976, 0.01158781, 0.01776331, 0.01335137, 0.01268593,\n",
      "       0.04571429, 0.05714286, 0.05061224, 0.05197315, 0.02453737,\n",
      "       0.01532652, 0.01494123, 0.01755577, 0.02089222, 0.01210808,\n",
      "       0.04408163, 0.        , 0.0522449 , 0.06257024, 0.05804535,\n",
      "       0.02499479, 0.01762207, 0.01695721, 0.02005407, 0.01680919,\n",
      "       0.        , 0.04897959, 0.05761322, 0.05654792, 0.00713994,\n",
      "       0.04776382, 0.01664986, 0.01736494, 0.0245034 , 0.01307397,\n",
      "       0.        , 0.        , 0.06136039, 0.04874092, 0.06326399,\n",
      "       0.05751193, 0.01617275, 0.01090644, 0.00943202, 0.00613604,\n",
      "       0.        , 0.03510204, 0.05469388, 0.05347718, 0.05627031,\n",
      "       0.01848038, 0.04690149, 0.04707876, 0.01946387, 0.02010385]), 'rank_test_score': array([72, 53, 26, 18, 24, 31, 32,  1,  7,  3, 67, 59, 11, 10, 24, 20, 44,\n",
      "        9,  6, 42, 90, 77, 52,  5, 20, 17, 14,  2, 40,  8, 94, 75, 74, 44,\n",
      "       23, 38, 36, 11, 34, 28, 83, 84, 66, 43, 32, 58, 34, 36, 47, 49, 92,\n",
      "       86, 89, 65,  3, 28, 28, 14, 51, 47, 93, 96, 88, 80, 82, 14, 41, 27,\n",
      "       38, 60, 96, 91, 85, 79, 19, 69, 13, 63, 62, 60, 96, 96, 81, 68, 73,\n",
      "       76, 22, 53, 57, 56, 96, 95, 87, 64, 78, 46, 71, 70, 50, 55])}\n"
     ]
    }
   ],
   "source": [
    "param_grid = {\n",
    "    'nb_layers': list(range(1,11)),\n",
    "    'nb_nodes_per_layer': list(range(1,11)),\n",
    "}\n",
    "\n",
    "mlp = MLPClassifierWrapper(max_iter = 100)\n",
    "\n",
    "grid = GridSearchCV(mlp,param_grid,n_jobs = 4,verbose = 5,scoring = 'accuracy')\n",
    "grid.fit(x_train, y_train)\n",
    "\n",
    "print('Best Params:', grid.best_params_)\n",
    "print('Mean test score: ',grid.cv_results_['mean_test_score'][grid.best_index_])\n",
    "print('Std test score: ',grid.cv_results_['std_test_score'][grid.best_index_])\n",
    "\n",
    "\n",
    "print(grid.cv_results_)"
   ]
  },
  {
   "cell_type": "markdown",
   "metadata": {},
   "source": [
    "The local optimum parameters(for layers from 1 to 10 and number of nodes per layer from 1 to 10) is shown above alongside the mean test score and standard deviation of test score for the parameters. Since computing power is limited, only a local optimum could be determined, and hence this may not be the absolute optimum(which may lie beyond the grid range). \n",
    "\n",
    "If the best result is on the edge of the parameter grid, the grid may need to be expanded to find a better optimum."
   ]
  }
 ],
 "metadata": {
  "kernelspec": {
   "display_name": "Python 3 (ipykernel)",
   "language": "python",
   "name": "python3"
  },
  "language_info": {
   "codemirror_mode": {
    "name": "ipython",
    "version": 3
   },
   "file_extension": ".py",
   "mimetype": "text/x-python",
   "name": "python",
   "nbconvert_exporter": "python",
   "pygments_lexer": "ipython3",
   "version": "3.7.10"
  }
 },
 "nbformat": 4,
 "nbformat_minor": 2
}
