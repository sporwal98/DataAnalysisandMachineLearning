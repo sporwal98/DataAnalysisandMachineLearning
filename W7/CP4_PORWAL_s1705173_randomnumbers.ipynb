{
 "cells": [
  {
   "cell_type": "code",
   "execution_count": 1,
   "metadata": {},
   "outputs": [],
   "source": [
    "import numpy as np\n",
    "import matplotlib.pyplot as plt\n"
   ]
  },
  {
   "cell_type": "code",
   "execution_count": 13,
   "metadata": {},
   "outputs": [],
   "source": [
    "class MyLifetimePdf:\n",
    "\n",
    "\n",
    "    #............................\n",
    "    #Constructors\n",
    "    def __init__(self, tau, limlo = 0.0, limhi = 10.0):\n",
    "        self.tau = tau #lifetime to model\n",
    "        self.limlo = limlo #lower limit to sample from\n",
    "        self.limhi = limhi #upper limit to sample from\n",
    "        \n",
    "        #creating variables for sampling\n",
    "        self.t = np.arange(limlo,limhi,0.01)#create probability based sampling space\n",
    "        self.pdf = self.evaluate(self.t)#calc probabilities\n",
    "        self.pdf = self.pdf/np.sum(self.pdf)#normalize pdf\n",
    "        self.max = np.max(self.pdf)\n",
    " \n",
    "    #............................\n",
    "    #Method to return value of probability for lifetime t\n",
    "    def evaluate(self, t):\n",
    "         return np.exp(-t/self.tau)/self.tau\n",
    "\n",
    "\n",
    "    #............................\n",
    "    #Method to return probability of measurement of lifetime tau\n",
    "    def prob_real(self):\n",
    "        return self.evaluate(self.tau)\n",
    "    \n",
    "    \n",
    "    #............................\n",
    "    #Method to return a random number with a exponential distribution in range t = limlo to limhi\n",
    "    def __next__( self ):\n",
    "        return np.random.choice(self.t,p = self.pdf)\n",
    "    \n",
    "    \n",
    "    #............................\n",
    "    #Method to do numerical integration\n",
    "    #This is written in a very simplistic way.\n",
    "    \n",
    "\n",
    "    def integralNumericBox( self, ilo, ihi ):\n",
    "\n",
    "        npoints = 10000000\n",
    "        ninside = 0\n",
    "        lo = float(ilo)\n",
    "        hi = float(ihi)\n",
    "\n",
    "        for i in range(npoints):\n",
    "            if(i%1000000 == 0):\n",
    "                print(i,' done')\n",
    "            x = lo + np.random.uniform()*(hi-lo)\n",
    "            y = np.random.uniform()*self.max\n",
    "            if( y < self.evaluate(x)): ninside = ninside+1\n",
    "\n",
    "        Atot = (hi-lo)*self.max\n",
    "        eff = float(ninside)/float(npoints)\n",
    "        \n",
    "        #Area\n",
    "        Area = Atot * eff\n",
    "        #Binomial error\n",
    "        Error = Atot*np.sqrt(eff*(1-eff)/npoints)\n",
    "\n",
    "        return Area, Error\n",
    "            \n",
    "    #............................\n",
    "    #Method to do numerical integration\n",
    "    #This is written in a very simplistic way.\n",
    "            \n",
    "            \n",
    "    def integralNumericAvg( self, ilo, ihi ):\n",
    "        \n",
    "        npoints = 10000000\n",
    "        ninside = 0\n",
    "        lo = float(ilo)\n",
    "        hi = float(ihi)\n",
    "        sum = 0.\n",
    "        \n",
    "        for i in range(npoints):\n",
    "            if(i%1000000 == 0):\n",
    "                print(i,' done')\n",
    "            x = lo + np.random.uniform()*(hi-lo)\n",
    "            sum+= self.evaluate(x)\n",
    "        \n",
    "        Area = (hi-lo)*sum/npoints\n",
    "        Error = Area * np.sqrt(npoints)/npoints\n",
    "        \n",
    "        return Area, Error\n",
    "    \n",
    "\n",
    "\n",
    "    #............................\n",
    "    #Method to do analytic integration\n",
    "    # This is lazt version wiuch assumed limits are very large\n",
    "    # So lo and hi are ignored\n",
    "\n",
    "    def integralAnalytic( self, lo, hi ):\n",
    "        integral  = 1.\n",
    "        #integral = self.width*math.sqrt(2.0*math.pi )\n",
    "        return integral\n",
    "    \n",
    "def plothist(gpts,sim):\n",
    "    #generate histogram, with expected curve for comparison\n",
    "    t = sim.t\n",
    "    pt = sim.evaluate(t)\n",
    "    plt.figure()\n",
    "    plt.hist(gpts,density=True,bins=int(np.sqrt(len(gpts))))\n",
    "    plt.plot(t,pt)\n",
    "    plt.show()\n",
    "    return\n",
    "\n",
    "\n",
    "def t_est(data):\n",
    "    #estimate the lifetime using mean of generated data\n",
    "    #different cases for single experiment vs multiple\n",
    "    if(len(data.shape) == 1):\n",
    "        return np.mean(data)\n",
    "    else:\n",
    "        return np.mean(data,axis = 1)"
   ]
  },
  {
   "cell_type": "code",
   "execution_count": 23,
   "metadata": {},
   "outputs": [],
   "source": [
    "#Initialising parameters\n",
    "points = 2000\n",
    "nsamples = 1000\n",
    "bins = int(np.sqrt(points))\n",
    "tau = 2.2\n",
    "limlo = 0.0\n",
    "limhi = 10.0"
   ]
  },
  {
   "cell_type": "code",
   "execution_count": 24,
   "metadata": {},
   "outputs": [
    {
     "data": {
      "image/png": "[encoded data removed]",
      "text/plain": [
       "<Figure size 432x288 with 1 Axes>"
      ]
     },
     "metadata": {
      "needs_background": "light"
     },
     "output_type": "display_data"
    }
   ],
   "source": [
    "simulator = MyLifetimePdf(tau, limlo = limlo, limhi = limhi)\n",
    "data1 = []\n",
    "for i in range(points):\n",
    "    data1.append(next(simulator))\n",
    "data1 = np.array(data1)\n",
    "plothist(data1,simulator)"
   ]
  },
  {
   "cell_type": "code",
   "execution_count": 25,
   "metadata": {},
   "outputs": [
    {
     "name": "stdout",
     "output_type": "stream",
     "text": [
      "Estimated lifetime ~  2.07\n"
     ]
    }
   ],
   "source": [
    "print('Estimated lifetime ~ ',np.round(t_est(data1),decimals = 2))"
   ]
  },
  {
   "cell_type": "code",
   "execution_count": 26,
   "metadata": {},
   "outputs": [
    {
     "name": "stdout",
     "output_type": "stream",
     "text": [
      "0  experiments created\n",
      "100  experiments created\n",
      "200  experiments created\n",
      "300  experiments created\n",
      "400  experiments created\n",
      "500  experiments created\n",
      "600  experiments created\n",
      "700  experiments created\n",
      "800  experiments created\n",
      "900  experiments created\n"
     ]
    },
    {
     "data": {
      "text/plain": [
       "(1000, 2000)"
      ]
     },
     "execution_count": 26,
     "metadata": {},
     "output_type": "execute_result"
    }
   ],
   "source": [
    "simulator = MyLifetimePdf(tau, limlo = limlo, limhi = limhi)\n",
    "\n",
    "data500 = np.zeros((nsamples,points))\n",
    "for i in range(nsamples):\n",
    "    if(i%100 == 0):\n",
    "        print(i,' experiments created')\n",
    "    for j in range(points):\n",
    "        data500[i][j] = next(simulator)\n",
    "data500.shape   "
   ]
  },
  {
   "cell_type": "code",
   "execution_count": 27,
   "metadata": {},
   "outputs": [
    {
     "data": {
      "image/png": "[encoded data removed]",
      "text/plain": [
       "<Figure size 432x288 with 1 Axes>"
      ]
     },
     "metadata": {
      "needs_background": "light"
     },
     "output_type": "display_data"
    }
   ],
   "source": [
    "t_ests = t_est(data500)\n",
    "hist, _ , _= plt.hist(t_ests,bins = int(np.sqrt(nsamples)), label = 'calc')\n",
    "plt.vlines(tau,ymin = 0.0,ymax = np.max(hist),color = 'r',label = 'real lifetime =  '+str(tau))\n",
    "plt.legend()\n",
    "plt.title('Estimates of lifetime')\n",
    "plt.show()"
   ]
  },
  {
   "cell_type": "code",
   "execution_count": 28,
   "metadata": {},
   "outputs": [
    {
     "data": {
      "image/png": "[encoded data removed]",
      "text/plain": [
       "<Figure size 432x288 with 1 Axes>"
      ]
     },
     "metadata": {
      "needs_background": "light"
     },
     "output_type": "display_data"
    }
   ],
   "source": [
    "fracerrs = (t_ests - tau)/tau\n",
    "plt.hist(fracerrs,bins = int(np.sqrt(nsamples)))\n",
    "plt.title('Fractional Error in lifetime estimates')\n",
    "plt.show()"
   ]
  },
  {
   "cell_type": "code",
   "execution_count": 29,
   "metadata": {},
   "outputs": [
    {
     "name": "stdout",
     "output_type": "stream",
     "text": [
      "Average fractional error:  -0.05\n"
     ]
    }
   ],
   "source": [
    "AvgFracErr = np.mean(fracerrs)\n",
    "print('Average fractional error: ',np.round(AvgFracErr,decimals = 2))"
   ]
  },
  {
   "cell_type": "code",
   "execution_count": 30,
   "metadata": {},
   "outputs": [
    {
     "data": {
      "image/png": "[encoded data removed]",
      "text/plain": [
       "<Figure size 432x288 with 1 Axes>"
      ]
     },
     "metadata": {
      "needs_background": "light"
     },
     "output_type": "display_data"
    }
   ],
   "source": [
    "errs = (t_ests - tau)\n",
    "plt.hist(errs,bins = int(np.sqrt(nsamples)))\n",
    "plt.title('Absolute Error in lifetime estimates')\n",
    "plt.show()"
   ]
  },
  {
   "cell_type": "code",
   "execution_count": 31,
   "metadata": {},
   "outputs": [
    {
     "name": "stdout",
     "output_type": "stream",
     "text": [
      "Average error(bias) =  -0.12\n",
      "fraction bias:  -0.05\n",
      "Precision:  0.04\n"
     ]
    }
   ],
   "source": [
    "AvgErr = np.mean(errs)\n",
    "std = np.std(t_ests)\n",
    "print('Average error(bias) = ',np.round(AvgErr,decimals = 2))\n",
    "print('fraction bias: ',np.round(AvgErr/tau, decimals = 2))\n",
    "print('Precision: ', np.round(std,decimals = 2))"
   ]
  },
  {
   "cell_type": "markdown",
   "metadata": {},
   "source": [
    "Yes, the method is biased. Average negative bias of ~ 5%. This is due to the missing tail-end of the function(ie. cutting off the function at t = 10.0, while function domain extends to infinity).\n",
    "Trying to run with double the points for the same number of experiments or double the experiments with the same number of points or with both of these changes(double samples for double points), reproduces the fraction bias, indicating that it is intrinsic to the method"
   ]
  },
  {
   "cell_type": "markdown",
   "metadata": {},
   "source": [
    "-------------------------------------------------------------------------------"
   ]
  },
  {
   "cell_type": "markdown",
   "metadata": {},
   "source": [
    "---"
   ]
  },
  {
   "cell_type": "code",
   "execution_count": 12,
   "metadata": {},
   "outputs": [
    {
     "data": {
      "text/plain": [
       "1.0639130777789527"
      ]
     },
     "execution_count": 12,
     "metadata": {},
     "output_type": "execute_result"
    }
   ],
   "source": [
    "#Alternative method to sample, more difficult to sample from limited domain range\n",
    "np.random.exponential(scale = tau)"
   ]
  },
  {
   "cell_type": "markdown",
   "metadata": {},
   "source": [
    "---"
   ]
  }
 ],
 "metadata": {
  "kernelspec": {
   "display_name": "Python 3 (ipykernel)",
   "language": "python",
   "name": "python3"
  },
  "language_info": {
   "codemirror_mode": {
    "name": "ipython",
    "version": 3
   },
   "file_extension": ".py",
   "mimetype": "text/x-python",
   "name": "python",
   "nbconvert_exporter": "python",
   "pygments_lexer": "ipython3",
   "version": "3.8.10"
  }
 },
 "nbformat": 4,
 "nbformat_minor": 2
}
