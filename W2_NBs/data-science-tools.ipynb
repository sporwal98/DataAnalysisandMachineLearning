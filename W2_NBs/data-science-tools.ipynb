{
 "cells": [
  {
   "cell_type": "code",
   "execution_count": 1,
   "metadata": {},
   "outputs": [],
   "source": [
    "import pandas as pd\n",
    "import numpy as np\n",
    "import matplotlib.pyplot as plt\n",
    "from scipy import stats"
   ]
  },
  {
   "cell_type": "markdown",
   "metadata": {},
   "source": [
    "## NumPy Examples"
   ]
  },
  {
   "cell_type": "markdown",
   "metadata": {},
   "source": [
    "### Array Creation"
   ]
  },
  {
   "cell_type": "code",
   "execution_count": 2,
   "metadata": {},
   "outputs": [
    {
     "name": "stdout",
     "output_type": "stream",
     "text": [
      "This is array A [[1 2 3]\n",
      " [4 5 6]]\n"
     ]
    }
   ],
   "source": [
    "# array creation by sequence\n",
    "A = np.array([[1,2,3],[4,5,6]])\n",
    "print(\"This is array A\",A)"
   ]
  },
  {
   "cell_type": "code",
   "execution_count": 3,
   "metadata": {},
   "outputs": [
    {
     "name": "stdout",
     "output_type": "stream",
     "text": [
      "This is array A [[0. 0. 0.]\n",
      " [0. 0. 0.]] and array B [1. 1. 1. 1. 1.]\n",
      "This is array C [[0. 0. 0. ... 0. 0. 0.]\n",
      " [0. 0. 0. ... 0. 0. 0.]\n",
      " [0. 0. 0. ... 0. 0. 0.]\n",
      " ...\n",
      " [0. 0. 0. ... 0. 0. 0.]\n",
      " [0. 0. 0. ... 0. 0. 0.]\n",
      " [0. 0. 0. ... 0. 0. 0.]]\n",
      "This is array D [[1 1]\n",
      " [1 1]]\n",
      "This is array E [[2.12199579e-314 1.07070185e-296]\n",
      " [6.44261602e-321 6.95165821e-310]]\n"
     ]
    }
   ],
   "source": [
    "# pre-format arrays with zeros/ones\n",
    "A = np.zeros((2,3))\n",
    "B = np.ones(5) \n",
    "C = np.zeros(shape=(100,100), dtype=float)\n",
    "D = np.ones((2,2),dtype=np.int16)\n",
    "E = np.empty((2,2))\n",
    "print(\"This is array A\",A,\"and array B\",B)\n",
    "print(\"This is array C\",C)\n",
    "print(\"This is array D\",D)\n",
    "print(\"This is array E\",E)"
   ]
  },
  {
   "cell_type": "code",
   "execution_count": 4,
   "metadata": {},
   "outputs": [
    {
     "name": "stdout",
     "output_type": "stream",
     "text": [
      "This is array A [2 4 6 8] and B [0.  0.5 1.  1.5 2.  2.5 3.  3.5 4.  4.5]\n"
     ]
    }
   ],
   "source": [
    "# creation through ranges \n",
    "A = np.arange(2,10,2) # array from 2 to 10 with steps of 2\n",
    "B = np.linspace(0,4.5,10) # array from 0 to 4.5 at steps of 0.5\n",
    "print(\"This is array A\",A,\"and B\",B)"
   ]
  },
  {
   "cell_type": "code",
   "execution_count": 5,
   "metadata": {},
   "outputs": [
    {
     "name": "stdout",
     "output_type": "stream",
     "text": [
      "[[0.49531411 0.41382338]] [[ 8.99085882 11.9477348 ]]\n"
     ]
    }
   ],
   "source": [
    "# from random source \n",
    "A = np.random.rand(1,2)\n",
    "B = 2 * np.random.randn(1,2) + 10 # mu = 10, sigma = 2 \n",
    "print(A,B)"
   ]
  },
  {
   "cell_type": "code",
   "execution_count": 6,
   "metadata": {},
   "outputs": [
    {
     "name": "stdout",
     "output_type": "stream",
     "text": [
      "2 (1, 2) 2 float64 8 <memory at 0x00000185D85F8D68>\n"
     ]
    }
   ],
   "source": [
    "# arrays have attributes that can be printed to have informations that are needed\n",
    "print(A.ndim, A.shape, A.size, A.dtype, A.itemsize, A.data)"
   ]
  },
  {
   "cell_type": "markdown",
   "metadata": {},
   "source": [
    "### Manipulation of arrays"
   ]
  },
  {
   "cell_type": "code",
   "execution_count": 7,
   "metadata": {},
   "outputs": [
    {
     "name": "stdout",
     "output_type": "stream",
     "text": [
      "[[ 0  1  2]\n",
      " [ 3  4  5]\n",
      " [ 6  7  8]\n",
      " [ 9 10 11]]\n"
     ]
    }
   ],
   "source": [
    "# reshape array\n",
    "A = np.arange(12).reshape(4,3) # reshape an array of 12 elements arranged in 3 columns and 4 rows\n",
    "print(A)"
   ]
  },
  {
   "cell_type": "code",
   "execution_count": 8,
   "metadata": {},
   "outputs": [
    {
     "data": {
      "text/plain": [
       "array([2, 3, 4])"
      ]
     },
     "execution_count": 8,
     "metadata": {},
     "output_type": "execute_result"
    }
   ],
   "source": [
    "# A is an array of 10 elements, by doing A[2,5] a sub-array is given with only elements between 2 and 5\n",
    "A = np.arange(10)\n",
    "A[2:5]  "
   ]
  },
  {
   "cell_type": "code",
   "execution_count": 9,
   "metadata": {},
   "outputs": [
    {
     "data": {
      "text/plain": [
       "(array([[0, 1, 2],\n",
       "        [3, 4, 5],\n",
       "        [6, 7, 8]]),\n",
       " array([3, 4, 5]),\n",
       " array([1, 4, 7]))"
      ]
     },
     "execution_count": 9,
     "metadata": {},
     "output_type": "execute_result"
    }
   ],
   "source": [
    "# A is an array of 9 elements, ordered in 3 columns and 3 rowe. \n",
    "A = np.arange(9).reshape(3,3)\n",
    "A, A[1], A[:,1] # A gives the whole 3x3 matrix, A[1] gives only the row 1 of the matrix, A[:,1] gives only column 1 of the matrix"
   ]
  },
  {
   "cell_type": "code",
   "execution_count": 10,
   "metadata": {},
   "outputs": [
    {
     "name": "stdout",
     "output_type": "stream",
     "text": [
      "[0 1 4]\n",
      "[ 9 16 25]\n",
      "[36 49 64]\n"
     ]
    }
   ],
   "source": [
    "# for loop over A. Each element of the matrix A is squared\n",
    "for i in A: \n",
    "    print (i**2)"
   ]
  },
  {
   "cell_type": "code",
   "execution_count": 11,
   "metadata": {},
   "outputs": [
    {
     "data": {
      "text/plain": [
       "[array([0, 1, 4], dtype=int32),\n",
       " array([ 9, 16, 25], dtype=int32),\n",
       " array([36, 49, 64], dtype=int32)]"
      ]
     },
     "execution_count": 11,
     "metadata": {},
     "output_type": "execute_result"
    }
   ],
   "source": [
    "# Alternative way to loop over A and square each element of the matrix\n",
    "[i**2 for i in A]"
   ]
  },
  {
   "cell_type": "code",
   "execution_count": 12,
   "metadata": {},
   "outputs": [
    {
     "data": {
      "text/plain": [
       "[0, 1, 4, 9, 16, 25, 36, 49, 64]"
      ]
     },
     "execution_count": 12,
     "metadata": {},
     "output_type": "execute_result"
    }
   ],
   "source": [
    "# Flat: Return a copy of the array collapsed into one dimension.\n",
    "[i**2 for i in A.flat]"
   ]
  },
  {
   "cell_type": "code",
   "execution_count": 13,
   "metadata": {},
   "outputs": [
    {
     "name": "stdout",
     "output_type": "stream",
     "text": [
      "[[3. 7. 9. 9.]\n",
      " [6. 2. 3. 2.]\n",
      " [1. 1. 8. 7.]] (3, 4)\n",
      "[3. 7. 9. 9. 6. 2. 3. 2. 1. 1. 8. 7.]\n",
      "[[3. 7.]\n",
      " [9. 9.]\n",
      " [6. 2.]\n",
      " [3. 2.]\n",
      " [1. 1.]\n",
      " [8. 7.]]\n",
      "[[3. 6. 1.]\n",
      " [7. 2. 1.]\n",
      " [9. 3. 8.]\n",
      " [9. 2. 7.]] (4, 3)\n"
     ]
    }
   ],
   "source": [
    "# reshaping\n",
    "A = np.floor(10*np.random.random((3,4)))\n",
    "print(A, A.shape)\n",
    "print(A.ravel()) # flatten array\n",
    "print(A.reshape(6,2)) \n",
    "print(A.T, A.T.shape)"
   ]
  },
  {
   "cell_type": "code",
   "execution_count": 14,
   "metadata": {},
   "outputs": [
    {
     "name": "stdout",
     "output_type": "stream",
     "text": [
      "[[3. 7. 9. 9. 6. 2.]\n",
      " [3. 2. 1. 1. 8. 7.]]\n",
      "[[3. 7. 9. 9. 6. 2.]\n",
      " [3. 2. 1. 1. 8. 7.]]\n"
     ]
    }
   ],
   "source": [
    "# use resize to reshape in place\n",
    "B = A \n",
    "A.resize(2,6)\n",
    "print(A)\n",
    "B.reshape(3,-1) # -1 calc cols automatically\n",
    "print(B)"
   ]
  },
  {
   "cell_type": "code",
   "execution_count": 15,
   "metadata": {},
   "outputs": [
    {
     "name": "stdout",
     "output_type": "stream",
     "text": [
      "[[6. 3. 6. 7.]\n",
      " [0. 6. 2. 7.]\n",
      " [5. 2. 1. 9.]]\n",
      "[[1. 2. 8. 5.]\n",
      " [7. 6. 0. 5.]\n",
      " [1. 2. 9. 3.]]\n",
      "[[6. 3. 6. 7.]\n",
      " [0. 6. 2. 7.]\n",
      " [5. 2. 1. 9.]\n",
      " [1. 2. 8. 5.]\n",
      " [7. 6. 0. 5.]\n",
      " [1. 2. 9. 3.]]\n",
      "[[6. 3. 6. 7. 1. 2. 8. 5.]\n",
      " [0. 6. 2. 7. 7. 6. 0. 5.]\n",
      " [5. 2. 1. 9. 1. 2. 9. 3.]]\n"
     ]
    }
   ],
   "source": [
    "# stacking\n",
    "A = np.floor(10*np.random.random((3,4)))\n",
    "B = np.floor(10*np.random.random((3,4)))\n",
    "print(A)\n",
    "print(B)\n",
    "C = np.vstack((A,B))\n",
    "print(C)\n",
    "D = np.hstack((A,B))\n",
    "print(D)"
   ]
  },
  {
   "cell_type": "code",
   "execution_count": 16,
   "metadata": {},
   "outputs": [
    {
     "name": "stdout",
     "output_type": "stream",
     "text": [
      "A [[1. 9. 7. 0. 1. 9. 4. 5. 4. 5. 4. 7.]\n",
      " [6. 8. 4. 6. 6. 9. 7. 4. 1. 2. 6. 5.]]\n",
      "B [[1. 9. 7. 0.]\n",
      " [6. 8. 4. 6.]]\n",
      "C [[1. 9. 4. 5.]\n",
      " [6. 9. 7. 4.]]\n",
      "D [[4. 5. 4. 7.]\n",
      " [1. 2. 6. 5.]]\n",
      "E [[1. 9. 7.]\n",
      " [6. 8. 4.]]\n",
      "F [[0.]\n",
      " [6.]]\n",
      "G [[1. 9. 4. 5. 4. 5. 4. 7.]\n",
      " [6. 9. 7. 4. 1. 2. 6. 5.]]\n"
     ]
    }
   ],
   "source": [
    "# splitting\n",
    "A = np.floor(10*np.random.random((2,12)))\n",
    "print(\"A\", A)\n",
    "B, C, D = np.hsplit(A,3)\n",
    "print(\"B\", B)\n",
    "print(\"C\", C)\n",
    "print(\"D\", D)\n",
    "E, F, G = np.hsplit(A,(3,4)) # split A after col 3 and col 4\n",
    "print(\"E\", E)\n",
    "print(\"F\", F)\n",
    "print(\"G\", G)"
   ]
  },
  {
   "cell_type": "markdown",
   "metadata": {},
   "source": [
    "### Logic check"
   ]
  },
  {
   "cell_type": "code",
   "execution_count": 17,
   "metadata": {},
   "outputs": [
    {
     "data": {
      "text/plain": [
       "array([[False,  True,  True, False, False,  True,  True,  True,  True,\n",
       "         True,  True,  True],\n",
       "       [ True,  True,  True,  True,  True,  True,  True,  True, False,\n",
       "        False,  True,  True]])"
      ]
     },
     "execution_count": 17,
     "metadata": {},
     "output_type": "execute_result"
    }
   ],
   "source": [
    "# logic check: Check if the elements of the matrix A (above) are greater of 2 or not and return False or True.\n",
    "A > 2"
   ]
  },
  {
   "cell_type": "markdown",
   "metadata": {},
   "source": [
    "### Sort"
   ]
  },
  {
   "cell_type": "code",
   "execution_count": 18,
   "metadata": {},
   "outputs": [
    {
     "name": "stdout",
     "output_type": "stream",
     "text": [
      "[[4. 1. 1. 9. 5. 0.]\n",
      " [9. 2. 3. 0. 6. 0.]]\n",
      "[[0. 1. 1. 4. 5. 9.]\n",
      " [0. 0. 2. 3. 6. 9.]]\n"
     ]
    }
   ],
   "source": [
    "# sort\n",
    "a = np.floor(10*np.random.random((2,6)))\n",
    "print(a)\n",
    "# sort - row wise\n",
    "b = np.sort(a)\n",
    "print(b)"
   ]
  },
  {
   "cell_type": "code",
   "execution_count": 19,
   "metadata": {},
   "outputs": [
    {
     "name": "stdout",
     "output_type": "stream",
     "text": [
      "[[4. 1. 1. 0. 5. 0.]\n",
      " [9. 2. 3. 9. 6. 0.]]\n"
     ]
    }
   ],
   "source": [
    "# sort - col wise\n",
    "c = np.sort(a, axis=0)\n",
    "print(c)"
   ]
  },
  {
   "cell_type": "code",
   "execution_count": 20,
   "metadata": {},
   "outputs": [
    {
     "name": "stdout",
     "output_type": "stream",
     "text": [
      "[0. 0. 0. 1. 1. 2. 3. 4. 5. 6. 9. 9.]\n"
     ]
    }
   ],
   "source": [
    "# sort flatten\n",
    "d = np.sort(a, axis=None)\n",
    "print(d)"
   ]
  },
  {
   "cell_type": "markdown",
   "metadata": {},
   "source": [
    "### Operations"
   ]
  },
  {
   "cell_type": "code",
   "execution_count": 21,
   "metadata": {},
   "outputs": [
    {
     "name": "stdout",
     "output_type": "stream",
     "text": [
      "[[ 2. 18. 14.  0.  2. 18.  8. 10.  8. 10.  8. 14.]\n",
      " [12. 16.  8. 12. 12. 18. 14.  8.  2.  4. 12. 10.]]\n"
     ]
    }
   ],
   "source": [
    "# element wise add \n",
    "B = A\n",
    "C = A + B\n",
    "print(C)"
   ]
  },
  {
   "cell_type": "code",
   "execution_count": 22,
   "metadata": {},
   "outputs": [
    {
     "name": "stdout",
     "output_type": "stream",
     "text": [
      "[[ 4. 36. 28.  0.  4. 36. 16. 20. 16. 20. 16. 28.]\n",
      " [24. 32. 16. 24. 24. 36. 28. 16.  4.  8. 24. 20.]]\n"
     ]
    }
   ],
   "source": [
    "# element wise mult\n",
    "C = A * 4\n",
    "print(C)"
   ]
  },
  {
   "cell_type": "code",
   "execution_count": 23,
   "metadata": {},
   "outputs": [
    {
     "data": {
      "text/plain": [
       "array([[  8., 232., 140.,   7.,   8., 232.,  47.,  72.,  47.,  72.,  47.,\n",
       "        140.],\n",
       "       [103., 183.,  47., 103., 103., 232., 140.,  47.,   8.,  15., 103.,\n",
       "         72.]])"
      ]
     },
     "execution_count": 23,
     "metadata": {},
     "output_type": "execute_result"
    }
   ],
   "source": [
    "# element wise f()\n",
    "def f(x):\n",
    "    return 3*x**2 - 2*x + 7\n",
    "f(A)"
   ]
  },
  {
   "cell_type": "code",
   "execution_count": 24,
   "metadata": {},
   "outputs": [
    {
     "data": {
      "text/plain": [
       "array([ 0.        ,  0.64251645,  0.98468459,  0.8665558 ,  0.34335012,\n",
       "       -0.34035671, -0.86496168, -0.98523494, -0.644954  , -0.0031853 ])"
      ]
     },
     "execution_count": 24,
     "metadata": {},
     "output_type": "execute_result"
    }
   ],
   "source": [
    "# function apply on linspace\n",
    "x = np.linspace(0, 2*3.14, 10)\n",
    "f = np.sin(x)\n",
    "f"
   ]
  },
  {
   "cell_type": "code",
   "execution_count": 25,
   "metadata": {},
   "outputs": [
    {
     "name": "stdout",
     "output_type": "stream",
     "text": [
      "[[ 2. 18. 14.  0.  2. 18.  8. 10.  8. 10.  8. 14.]\n",
      " [12. 16.  8. 12. 12. 18. 14.  8.  2.  4. 12. 10.]]\n"
     ]
    }
   ],
   "source": [
    "# inplace \n",
    "A *= 2\n",
    "print(A)"
   ]
  },
  {
   "cell_type": "code",
   "execution_count": 26,
   "metadata": {},
   "outputs": [
    {
     "name": "stdout",
     "output_type": "stream",
     "text": [
      "[[ 2. 18. 14.  0.  2. 18.  8. 10.  8. 10.  8. 14.]\n",
      " [12. 16.  8. 12. 12. 18. 14.  8.  2.  4. 12. 10.]]\n",
      "[14. 34. 22. 12. 14. 36. 22. 18. 10. 14. 20. 24.]\n",
      "[112. 128.]\n",
      "[[  2.  20.  34.  34.  36.  54.  62.  72.  80.  90.  98. 112.]\n",
      " [ 12.  28.  36.  48.  60.  78.  92. 100. 102. 106. 118. 128.]]\n"
     ]
    }
   ],
   "source": [
    "# sums along axis\n",
    "print(A)\n",
    "print(A.sum(axis=0)) # sum col\n",
    "print(A.sum(axis=1)) # sum row\n",
    "print(A.cumsum(axis=1)) # cumulative sum row"
   ]
  },
  {
   "cell_type": "code",
   "execution_count": 27,
   "metadata": {},
   "outputs": [
    {
     "data": {
      "text/plain": [
       "array([[2., 3., 4., 5., 6.],\n",
       "       [2., 3., 4., 5., 6.],\n",
       "       [2., 3., 4., 5., 6.],\n",
       "       [2., 3., 4., 5., 6.],\n",
       "       [2., 3., 4., 5., 6.]])"
      ]
     },
     "execution_count": 27,
     "metadata": {},
     "output_type": "execute_result"
    }
   ],
   "source": [
    "# broadcast row vector on all rows\n",
    "A = np.ones((5,5))\n",
    "B = A + [1, 2, 3, 4, 5]\n",
    "B"
   ]
  },
  {
   "cell_type": "code",
   "execution_count": 28,
   "metadata": {},
   "outputs": [
    {
     "name": "stdout",
     "output_type": "stream",
     "text": [
      "[[2.71828183 2.71828183 2.71828183 2.71828183 2.71828183]\n",
      " [2.71828183 2.71828183 2.71828183 2.71828183 2.71828183]\n",
      " [2.71828183 2.71828183 2.71828183 2.71828183 2.71828183]\n",
      " [2.71828183 2.71828183 2.71828183 2.71828183 2.71828183]\n",
      " [2.71828183 2.71828183 2.71828183 2.71828183 2.71828183]]\n",
      "[[1. 1. 1. 1. 1.]\n",
      " [1. 1. 1. 1. 1.]\n",
      " [1. 1. 1. 1. 1.]\n",
      " [1. 1. 1. 1. 1.]\n",
      " [1. 1. 1. 1. 1.]]\n"
     ]
    }
   ],
   "source": [
    "# universial functions \n",
    "print(np.exp(A))\n",
    "print(np.sqrt(A))"
   ]
  },
  {
   "cell_type": "markdown",
   "metadata": {},
   "source": [
    "### Basic Statistics"
   ]
  },
  {
   "cell_type": "code",
   "execution_count": 29,
   "metadata": {},
   "outputs": [
    {
     "name": "stdout",
     "output_type": "stream",
     "text": [
      "36 0 8\n"
     ]
    }
   ],
   "source": [
    "# stats properties\n",
    "A = np.arange(9).reshape(3,3)\n",
    "print(A.sum(), A.min(), A.max())"
   ]
  },
  {
   "cell_type": "code",
   "execution_count": 30,
   "metadata": {},
   "outputs": [
    {
     "name": "stdout",
     "output_type": "stream",
     "text": [
      "[ 20.    51.25  82.5  113.75 145.  ]\n",
      "[[ 0.          0.84147098  0.90929743  0.14112001]\n",
      " [-0.7568025  -0.95892427 -0.2794155   0.6569866 ]\n",
      " [ 0.98935825  0.41211849 -0.54402111 -0.99999021]\n",
      " [-0.53657292  0.42016704  0.99060736  0.65028784]\n",
      " [-0.28790332 -0.96139749 -0.75098725  0.14987721]]\n"
     ]
    }
   ],
   "source": [
    "# time example\n",
    "time = np.linspace(20, 145, 5)\n",
    "data = np.sin(np.arange(20)).reshape(5,4) \n",
    "print(time)\n",
    "print(data)"
   ]
  },
  {
   "cell_type": "code",
   "execution_count": 31,
   "metadata": {},
   "outputs": [
    {
     "name": "stdout",
     "output_type": "stream",
     "text": [
      "[2 0 3 1]\n",
      "[ 82.5   20.   113.75  51.25]\n"
     ]
    }
   ],
   "source": [
    "ind = data.argmax(axis=0) # get max index for each series (col)\n",
    "time_max = time[ind] # times corresponding to maxima\n",
    "print(ind)\n",
    "print(time_max)"
   ]
  },
  {
   "cell_type": "markdown",
   "metadata": {},
   "source": [
    "### Basic Linear Algebra"
   ]
  },
  {
   "cell_type": "code",
   "execution_count": 32,
   "metadata": {},
   "outputs": [
    {
     "data": {
      "text/plain": [
       "array([[ 40.,  60.,  80., 100., 120.],\n",
       "       [ 40.,  60.,  80., 100., 120.],\n",
       "       [ 40.,  60.,  80., 100., 120.],\n",
       "       [ 40.,  60.,  80., 100., 120.],\n",
       "       [ 40.,  60.,  80., 100., 120.]])"
      ]
     },
     "execution_count": 32,
     "metadata": {},
     "output_type": "execute_result"
    }
   ],
   "source": [
    "# matrix product\n",
    "A = B\n",
    "A @ B"
   ]
  },
  {
   "cell_type": "code",
   "execution_count": 33,
   "metadata": {},
   "outputs": [
    {
     "data": {
      "text/plain": [
       "array([[ 40.,  60.,  80., 100., 120.],\n",
       "       [ 40.,  60.,  80., 100., 120.],\n",
       "       [ 40.,  60.,  80., 100., 120.],\n",
       "       [ 40.,  60.,  80., 100., 120.],\n",
       "       [ 40.,  60.,  80., 100., 120.]])"
      ]
     },
     "execution_count": 33,
     "metadata": {},
     "output_type": "execute_result"
    }
   ],
   "source": [
    "# matrix product alt \n",
    "A.dot(B)"
   ]
  },
  {
   "cell_type": "code",
   "execution_count": 34,
   "metadata": {},
   "outputs": [],
   "source": [
    "# matrix\n",
    "m = np.matrix([[1,-2,3],[0,4,5],[7,8,-9]])\n",
    "v = np.matrix([[2],[3],[4]])"
   ]
  },
  {
   "cell_type": "code",
   "execution_count": 35,
   "metadata": {},
   "outputs": [
    {
     "data": {
      "text/plain": [
       "matrix([[ 1,  0,  7],\n",
       "        [-2,  4,  8],\n",
       "        [ 3,  5, -9]])"
      ]
     },
     "execution_count": 35,
     "metadata": {},
     "output_type": "execute_result"
    }
   ],
   "source": [
    "# transpose\n",
    "m.T"
   ]
  },
  {
   "cell_type": "code",
   "execution_count": 36,
   "metadata": {},
   "outputs": [
    {
     "data": {
      "text/plain": [
       "matrix([[ 0.33043478, -0.02608696,  0.09565217],\n",
       "        [-0.15217391,  0.13043478,  0.02173913],\n",
       "        [ 0.12173913,  0.09565217, -0.0173913 ]])"
      ]
     },
     "execution_count": 36,
     "metadata": {},
     "output_type": "execute_result"
    }
   ],
   "source": [
    "# inverse\n",
    "m.I"
   ]
  },
  {
   "cell_type": "code",
   "execution_count": 37,
   "metadata": {},
   "outputs": [
    {
     "data": {
      "text/plain": [
       "matrix([[ 8],\n",
       "        [32],\n",
       "        [ 2]])"
      ]
     },
     "execution_count": 37,
     "metadata": {},
     "output_type": "execute_result"
    }
   ],
   "source": [
    "# multiply \n",
    "m * v"
   ]
  },
  {
   "cell_type": "code",
   "execution_count": 38,
   "metadata": {},
   "outputs": [
    {
     "data": {
      "text/plain": [
       "-229.99999999999983"
      ]
     },
     "execution_count": 38,
     "metadata": {},
     "output_type": "execute_result"
    }
   ],
   "source": [
    "# determinant \n",
    "np.linalg.det(m)"
   ]
  },
  {
   "cell_type": "code",
   "execution_count": 39,
   "metadata": {},
   "outputs": [
    {
     "data": {
      "text/plain": [
       "array([-13.11474312,   2.75956154,   6.35518158])"
      ]
     },
     "execution_count": 39,
     "metadata": {},
     "output_type": "execute_result"
    }
   ],
   "source": [
    "# eigenvalues\n",
    "np.linalg.eigvals(m)"
   ]
  },
  {
   "cell_type": "code",
   "execution_count": 40,
   "metadata": {},
   "outputs": [
    {
     "data": {
      "text/plain": [
       "matrix([[0.96521739],\n",
       "        [0.17391304],\n",
       "        [0.46086957]])"
      ]
     },
     "execution_count": 40,
     "metadata": {},
     "output_type": "execute_result"
    }
   ],
   "source": [
    "# Solve for x in mx = v\n",
    "np.linalg.solve(m, v)"
   ]
  },
  {
   "cell_type": "markdown",
   "metadata": {},
   "source": [
    "## Pandas Examples"
   ]
  },
  {
   "cell_type": "markdown",
   "metadata": {},
   "source": [
    "### Create"
   ]
  },
  {
   "cell_type": "code",
   "execution_count": 41,
   "metadata": {},
   "outputs": [
    {
     "data": {
      "text/html": [
       "<div>\n",
       "<style scoped>\n",
       "    .dataframe tbody tr th:only-of-type {\n",
       "        vertical-align: middle;\n",
       "    }\n",
       "\n",
       "    .dataframe tbody tr th {\n",
       "        vertical-align: top;\n",
       "    }\n",
       "\n",
       "    .dataframe thead th {\n",
       "        text-align: right;\n",
       "    }\n",
       "</style>\n",
       "<table border=\"1\" class=\"dataframe\">\n",
       "  <thead>\n",
       "    <tr style=\"text-align: right;\">\n",
       "      <th></th>\n",
       "      <th>one</th>\n",
       "      <th>two</th>\n",
       "    </tr>\n",
       "  </thead>\n",
       "  <tbody>\n",
       "    <tr>\n",
       "      <th>a</th>\n",
       "      <td>1.0</td>\n",
       "      <td>1.0</td>\n",
       "    </tr>\n",
       "    <tr>\n",
       "      <th>b</th>\n",
       "      <td>2.0</td>\n",
       "      <td>2.0</td>\n",
       "    </tr>\n",
       "    <tr>\n",
       "      <th>c</th>\n",
       "      <td>3.0</td>\n",
       "      <td>3.0</td>\n",
       "    </tr>\n",
       "    <tr>\n",
       "      <th>d</th>\n",
       "      <td>NaN</td>\n",
       "      <td>4.0</td>\n",
       "    </tr>\n",
       "  </tbody>\n",
       "</table>\n",
       "</div>"
      ],
      "text/plain": [
       "   one  two\n",
       "a  1.0  1.0\n",
       "b  2.0  2.0\n",
       "c  3.0  3.0\n",
       "d  NaN  4.0"
      ]
     },
     "execution_count": 41,
     "metadata": {},
     "output_type": "execute_result"
    }
   ],
   "source": [
    "# DF from dictionary \n",
    "ex1 = {'one' : pd.Series([1., 2., 3.], index=['a', 'b', 'c']),\n",
    "     'two' : pd.Series([1., 2., 3., 4.], index=['a', 'b', 'c', 'd'])}\n",
    "df1 = pd.DataFrame(ex1)\n",
    "df1"
   ]
  },
  {
   "cell_type": "code",
   "execution_count": 42,
   "metadata": {},
   "outputs": [
    {
     "data": {
      "text/html": [
       "<div>\n",
       "<style scoped>\n",
       "    .dataframe tbody tr th:only-of-type {\n",
       "        vertical-align: middle;\n",
       "    }\n",
       "\n",
       "    .dataframe tbody tr th {\n",
       "        vertical-align: top;\n",
       "    }\n",
       "\n",
       "    .dataframe thead th {\n",
       "        text-align: right;\n",
       "    }\n",
       "</style>\n",
       "<table border=\"1\" class=\"dataframe\">\n",
       "  <thead>\n",
       "    <tr style=\"text-align: right;\">\n",
       "      <th></th>\n",
       "      <th>one</th>\n",
       "      <th>two</th>\n",
       "    </tr>\n",
       "  </thead>\n",
       "  <tbody>\n",
       "    <tr>\n",
       "      <th>a</th>\n",
       "      <td>1.0</td>\n",
       "      <td>1.0</td>\n",
       "    </tr>\n",
       "    <tr>\n",
       "      <th>b</th>\n",
       "      <td>2.0</td>\n",
       "      <td>2.0</td>\n",
       "    </tr>\n",
       "    <tr>\n",
       "      <th>c</th>\n",
       "      <td>3.0</td>\n",
       "      <td>3.0</td>\n",
       "    </tr>\n",
       "    <tr>\n",
       "      <th>d</th>\n",
       "      <td>4.0</td>\n",
       "      <td>NaN</td>\n",
       "    </tr>\n",
       "  </tbody>\n",
       "</table>\n",
       "</div>"
      ],
      "text/plain": [
       "   one  two\n",
       "a  1.0  1.0\n",
       "b  2.0  2.0\n",
       "c  3.0  3.0\n",
       "d  4.0  NaN"
      ]
     },
     "execution_count": 42,
     "metadata": {},
     "output_type": "execute_result"
    }
   ],
   "source": [
    "ex2 = {'one' : pd.Series([1., 2., 3., 4.], index=['a', 'b', 'c', 'd']),\n",
    "     'two' : pd.Series([1., 2., 3.], index=['a', 'b', 'c'])}\n",
    "df2 = pd.DataFrame(ex2)\n",
    "df2"
   ]
  },
  {
   "cell_type": "code",
   "execution_count": 43,
   "metadata": {},
   "outputs": [
    {
     "data": {
      "text/plain": [
       "A    int32\n",
       "B    int32\n",
       "C    int32\n",
       "D    int32\n",
       "dtype: object"
      ]
     },
     "execution_count": 43,
     "metadata": {},
     "output_type": "execute_result"
    }
   ],
   "source": [
    "# define DF from random numbers \n",
    "dfr1 = pd.DataFrame(np.random.randn(10, 4), columns=['A', 'B', 'C', 'D'])\n",
    "dfr2 = pd.DataFrame(np.random.randn(10, 4), columns=['A', 'B', 'C', 'D'])\n",
    "dfr1.astype('int32').dtypes"
   ]
  },
  {
   "cell_type": "code",
   "execution_count": 44,
   "metadata": {},
   "outputs": [
    {
     "data": {
      "text/html": [
       "<div>\n",
       "<style scoped>\n",
       "    .dataframe tbody tr th:only-of-type {\n",
       "        vertical-align: middle;\n",
       "    }\n",
       "\n",
       "    .dataframe tbody tr th {\n",
       "        vertical-align: top;\n",
       "    }\n",
       "\n",
       "    .dataframe thead tr th {\n",
       "        text-align: left;\n",
       "    }\n",
       "</style>\n",
       "<table border=\"1\" class=\"dataframe\">\n",
       "  <thead>\n",
       "    <tr>\n",
       "      <th></th>\n",
       "      <th></th>\n",
       "      <th colspan=\"3\" halign=\"left\">a</th>\n",
       "      <th colspan=\"2\" halign=\"left\">b</th>\n",
       "    </tr>\n",
       "    <tr>\n",
       "      <th></th>\n",
       "      <th></th>\n",
       "      <th>b</th>\n",
       "      <th>a</th>\n",
       "      <th>c</th>\n",
       "      <th>a</th>\n",
       "      <th>b</th>\n",
       "    </tr>\n",
       "  </thead>\n",
       "  <tbody>\n",
       "    <tr>\n",
       "      <th rowspan=\"3\" valign=\"top\">A</th>\n",
       "      <th>B</th>\n",
       "      <td>1.0</td>\n",
       "      <td>4.0</td>\n",
       "      <td>5.0</td>\n",
       "      <td>8.0</td>\n",
       "      <td>10.0</td>\n",
       "    </tr>\n",
       "    <tr>\n",
       "      <th>C</th>\n",
       "      <td>2.0</td>\n",
       "      <td>3.0</td>\n",
       "      <td>6.0</td>\n",
       "      <td>7.0</td>\n",
       "      <td>NaN</td>\n",
       "    </tr>\n",
       "    <tr>\n",
       "      <th>D</th>\n",
       "      <td>NaN</td>\n",
       "      <td>NaN</td>\n",
       "      <td>NaN</td>\n",
       "      <td>NaN</td>\n",
       "      <td>9.0</td>\n",
       "    </tr>\n",
       "  </tbody>\n",
       "</table>\n",
       "</div>"
      ],
      "text/plain": [
       "       a              b      \n",
       "       b    a    c    a     b\n",
       "A B  1.0  4.0  5.0  8.0  10.0\n",
       "  C  2.0  3.0  6.0  7.0   NaN\n",
       "  D  NaN  NaN  NaN  NaN   9.0"
      ]
     },
     "execution_count": 44,
     "metadata": {},
     "output_type": "execute_result"
    }
   ],
   "source": [
    "# multi-index frame (dict of tuples)\n",
    "pd.DataFrame({('a', 'b'): {('A', 'B'): 1, ('A', 'C'): 2},\n",
    "    ('a', 'a'): {('A', 'C'): 3, ('A', 'B'): 4},\n",
    "    ('a', 'c'): {('A', 'B'): 5, ('A', 'C'): 6},\n",
    "    ('b', 'a'): {('A', 'C'): 7, ('A', 'B'): 8},\n",
    "    ('b', 'b'): {('A', 'D'): 9, ('A', 'B'): 10}})"
   ]
  },
  {
   "cell_type": "markdown",
   "metadata": {},
   "source": [
    "### Combining"
   ]
  },
  {
   "cell_type": "code",
   "execution_count": 45,
   "metadata": {},
   "outputs": [
    {
     "data": {
      "text/html": [
       "<div>\n",
       "<style scoped>\n",
       "    .dataframe tbody tr th:only-of-type {\n",
       "        vertical-align: middle;\n",
       "    }\n",
       "\n",
       "    .dataframe tbody tr th {\n",
       "        vertical-align: top;\n",
       "    }\n",
       "\n",
       "    .dataframe thead th {\n",
       "        text-align: right;\n",
       "    }\n",
       "</style>\n",
       "<table border=\"1\" class=\"dataframe\">\n",
       "  <thead>\n",
       "    <tr style=\"text-align: right;\">\n",
       "      <th></th>\n",
       "      <th>A</th>\n",
       "      <th>B</th>\n",
       "      <th>D</th>\n",
       "    </tr>\n",
       "  </thead>\n",
       "  <tbody>\n",
       "  </tbody>\n",
       "</table>\n",
       "</div>"
      ],
      "text/plain": [
       "Empty DataFrame\n",
       "Columns: [A, B, D]\n",
       "Index: []"
      ]
     },
     "execution_count": 45,
     "metadata": {},
     "output_type": "execute_result"
    }
   ],
   "source": [
    "# simple addition\n",
    "# define variables and target \n",
    "variables = ['A','B']\n",
    "target   = ['D']\n",
    "\n",
    "\n",
    "# combine variables and target to create a smaller dataset of dfr1 (without C column)\n",
    "dfsum = dfr1[variables+target]\n",
    "\n",
    "\n",
    "\n",
    "# Shuffle dataset\n",
    "dfsum = dfsum.sample(frac=1).reset_index(drop=True)\n",
    "\n",
    "# Get first 2 observations of dfsum columns == 0\n",
    "df_frame = [dfsum[dfsum.A == 0].head(2),\n",
    "            dfsum[dfsum.B == 0].head(2)]\n",
    "# concat the df_frame in a new dataset df_sample\n",
    "df_sample = pd.concat(df_frame)\n",
    "df_sample"
   ]
  },
  {
   "cell_type": "code",
   "execution_count": 46,
   "metadata": {},
   "outputs": [
    {
     "data": {
      "text/html": [
       "<div>\n",
       "<style scoped>\n",
       "    .dataframe tbody tr th:only-of-type {\n",
       "        vertical-align: middle;\n",
       "    }\n",
       "\n",
       "    .dataframe tbody tr th {\n",
       "        vertical-align: top;\n",
       "    }\n",
       "\n",
       "    .dataframe thead th {\n",
       "        text-align: right;\n",
       "    }\n",
       "</style>\n",
       "<table border=\"1\" class=\"dataframe\">\n",
       "  <thead>\n",
       "    <tr style=\"text-align: right;\">\n",
       "      <th></th>\n",
       "      <th>one</th>\n",
       "      <th>two</th>\n",
       "    </tr>\n",
       "  </thead>\n",
       "  <tbody>\n",
       "    <tr>\n",
       "      <th>a</th>\n",
       "      <td>2.0</td>\n",
       "      <td>2.0</td>\n",
       "    </tr>\n",
       "    <tr>\n",
       "      <th>b</th>\n",
       "      <td>4.0</td>\n",
       "      <td>4.0</td>\n",
       "    </tr>\n",
       "    <tr>\n",
       "      <th>c</th>\n",
       "      <td>6.0</td>\n",
       "      <td>6.0</td>\n",
       "    </tr>\n",
       "    <tr>\n",
       "      <th>d</th>\n",
       "      <td>NaN</td>\n",
       "      <td>NaN</td>\n",
       "    </tr>\n",
       "  </tbody>\n",
       "</table>\n",
       "</div>"
      ],
      "text/plain": [
       "   one  two\n",
       "a  2.0  2.0\n",
       "b  4.0  4.0\n",
       "c  6.0  6.0\n",
       "d  NaN  NaN"
      ]
     },
     "execution_count": 46,
     "metadata": {},
     "output_type": "execute_result"
    }
   ],
   "source": [
    "# addition with 2 different DFs\n",
    "dfSum2 = df1 + df2\n",
    "dfSum2"
   ]
  },
  {
   "cell_type": "code",
   "execution_count": 47,
   "metadata": {},
   "outputs": [
    {
     "data": {
      "text/html": [
       "<div>\n",
       "<style scoped>\n",
       "    .dataframe tbody tr th:only-of-type {\n",
       "        vertical-align: middle;\n",
       "    }\n",
       "\n",
       "    .dataframe tbody tr th {\n",
       "        vertical-align: top;\n",
       "    }\n",
       "\n",
       "    .dataframe thead th {\n",
       "        text-align: right;\n",
       "    }\n",
       "</style>\n",
       "<table border=\"1\" class=\"dataframe\">\n",
       "  <thead>\n",
       "    <tr style=\"text-align: right;\">\n",
       "      <th></th>\n",
       "      <th>one</th>\n",
       "      <th>two</th>\n",
       "    </tr>\n",
       "  </thead>\n",
       "  <tbody>\n",
       "    <tr>\n",
       "      <th>a</th>\n",
       "      <td>NaN</td>\n",
       "      <td>NaN</td>\n",
       "    </tr>\n",
       "    <tr>\n",
       "      <th>b</th>\n",
       "      <td>4.0</td>\n",
       "      <td>4.0</td>\n",
       "    </tr>\n",
       "    <tr>\n",
       "      <th>c</th>\n",
       "      <td>6.0</td>\n",
       "      <td>6.0</td>\n",
       "    </tr>\n",
       "    <tr>\n",
       "      <th>d</th>\n",
       "      <td>NaN</td>\n",
       "      <td>NaN</td>\n",
       "    </tr>\n",
       "  </tbody>\n",
       "</table>\n",
       "</div>"
      ],
      "text/plain": [
       "   one  two\n",
       "a  NaN  NaN\n",
       "b  4.0  4.0\n",
       "c  6.0  6.0\n",
       "d  NaN  NaN"
      ]
     },
     "execution_count": 47,
     "metadata": {},
     "output_type": "execute_result"
    }
   ],
   "source": [
    "# operations automatically align the data based on label\n",
    "df1[1:] + df1[:-1]"
   ]
  },
  {
   "cell_type": "code",
   "execution_count": 48,
   "metadata": {},
   "outputs": [
    {
     "data": {
      "text/html": [
       "<div>\n",
       "<style scoped>\n",
       "    .dataframe tbody tr th:only-of-type {\n",
       "        vertical-align: middle;\n",
       "    }\n",
       "\n",
       "    .dataframe tbody tr th {\n",
       "        vertical-align: top;\n",
       "    }\n",
       "\n",
       "    .dataframe thead th {\n",
       "        text-align: right;\n",
       "    }\n",
       "</style>\n",
       "<table border=\"1\" class=\"dataframe\">\n",
       "  <thead>\n",
       "    <tr style=\"text-align: right;\">\n",
       "      <th></th>\n",
       "      <th>one</th>\n",
       "      <th>two</th>\n",
       "      <th>three</th>\n",
       "    </tr>\n",
       "  </thead>\n",
       "  <tbody>\n",
       "    <tr>\n",
       "      <th>a</th>\n",
       "      <td>1.0</td>\n",
       "      <td>1.0</td>\n",
       "      <td>1.0</td>\n",
       "    </tr>\n",
       "    <tr>\n",
       "      <th>b</th>\n",
       "      <td>2.0</td>\n",
       "      <td>2.0</td>\n",
       "      <td>4.0</td>\n",
       "    </tr>\n",
       "    <tr>\n",
       "      <th>c</th>\n",
       "      <td>3.0</td>\n",
       "      <td>3.0</td>\n",
       "      <td>9.0</td>\n",
       "    </tr>\n",
       "    <tr>\n",
       "      <th>d</th>\n",
       "      <td>NaN</td>\n",
       "      <td>4.0</td>\n",
       "      <td>NaN</td>\n",
       "    </tr>\n",
       "  </tbody>\n",
       "</table>\n",
       "</div>"
      ],
      "text/plain": [
       "   one  two  three\n",
       "a  1.0  1.0    1.0\n",
       "b  2.0  2.0    4.0\n",
       "c  3.0  3.0    9.0\n",
       "d  NaN  4.0    NaN"
      ]
     },
     "execution_count": 48,
     "metadata": {},
     "output_type": "execute_result"
    }
   ],
   "source": [
    "# create new column from existing columns\n",
    "df3 = df1\n",
    "df3['three'] = df3['one'] * df3['two']\n",
    "df3"
   ]
  },
  {
   "cell_type": "code",
   "execution_count": 49,
   "metadata": {},
   "outputs": [
    {
     "data": {
      "text/html": [
       "<div>\n",
       "<style scoped>\n",
       "    .dataframe tbody tr th:only-of-type {\n",
       "        vertical-align: middle;\n",
       "    }\n",
       "\n",
       "    .dataframe tbody tr th {\n",
       "        vertical-align: top;\n",
       "    }\n",
       "\n",
       "    .dataframe thead th {\n",
       "        text-align: right;\n",
       "    }\n",
       "</style>\n",
       "<table border=\"1\" class=\"dataframe\">\n",
       "  <thead>\n",
       "    <tr style=\"text-align: right;\">\n",
       "      <th></th>\n",
       "      <th>one</th>\n",
       "      <th>two</th>\n",
       "      <th>three</th>\n",
       "      <th>flag</th>\n",
       "    </tr>\n",
       "  </thead>\n",
       "  <tbody>\n",
       "    <tr>\n",
       "      <th>a</th>\n",
       "      <td>1.0</td>\n",
       "      <td>1.0</td>\n",
       "      <td>1.0</td>\n",
       "      <td>False</td>\n",
       "    </tr>\n",
       "    <tr>\n",
       "      <th>b</th>\n",
       "      <td>2.0</td>\n",
       "      <td>2.0</td>\n",
       "      <td>4.0</td>\n",
       "      <td>False</td>\n",
       "    </tr>\n",
       "    <tr>\n",
       "      <th>c</th>\n",
       "      <td>3.0</td>\n",
       "      <td>3.0</td>\n",
       "      <td>9.0</td>\n",
       "      <td>True</td>\n",
       "    </tr>\n",
       "    <tr>\n",
       "      <th>d</th>\n",
       "      <td>NaN</td>\n",
       "      <td>4.0</td>\n",
       "      <td>NaN</td>\n",
       "      <td>False</td>\n",
       "    </tr>\n",
       "  </tbody>\n",
       "</table>\n",
       "</div>"
      ],
      "text/plain": [
       "   one  two  three   flag\n",
       "a  1.0  1.0    1.0  False\n",
       "b  2.0  2.0    4.0  False\n",
       "c  3.0  3.0    9.0   True\n",
       "d  NaN  4.0    NaN  False"
      ]
     },
     "execution_count": 49,
     "metadata": {},
     "output_type": "execute_result"
    }
   ],
   "source": [
    "# append boolean column based on conditional \n",
    "df3['flag'] = df3['one'] > 2\n",
    "df3"
   ]
  },
  {
   "cell_type": "code",
   "execution_count": 50,
   "metadata": {},
   "outputs": [
    {
     "data": {
      "text/html": [
       "<div>\n",
       "<style scoped>\n",
       "    .dataframe tbody tr th:only-of-type {\n",
       "        vertical-align: middle;\n",
       "    }\n",
       "\n",
       "    .dataframe tbody tr th {\n",
       "        vertical-align: top;\n",
       "    }\n",
       "\n",
       "    .dataframe thead th {\n",
       "        text-align: right;\n",
       "    }\n",
       "</style>\n",
       "<table border=\"1\" class=\"dataframe\">\n",
       "  <thead>\n",
       "    <tr style=\"text-align: right;\">\n",
       "      <th></th>\n",
       "      <th>one</th>\n",
       "      <th>two</th>\n",
       "      <th>three</th>\n",
       "      <th>flag</th>\n",
       "      <th>five</th>\n",
       "    </tr>\n",
       "  </thead>\n",
       "  <tbody>\n",
       "    <tr>\n",
       "      <th>a</th>\n",
       "      <td>1.0</td>\n",
       "      <td>1.0</td>\n",
       "      <td>1.0</td>\n",
       "      <td>False</td>\n",
       "      <td>6.0</td>\n",
       "    </tr>\n",
       "    <tr>\n",
       "      <th>b</th>\n",
       "      <td>2.0</td>\n",
       "      <td>2.0</td>\n",
       "      <td>4.0</td>\n",
       "      <td>False</td>\n",
       "      <td>6.0</td>\n",
       "    </tr>\n",
       "    <tr>\n",
       "      <th>c</th>\n",
       "      <td>3.0</td>\n",
       "      <td>3.0</td>\n",
       "      <td>9.0</td>\n",
       "      <td>True</td>\n",
       "      <td>6.0</td>\n",
       "    </tr>\n",
       "    <tr>\n",
       "      <th>d</th>\n",
       "      <td>NaN</td>\n",
       "      <td>4.0</td>\n",
       "      <td>NaN</td>\n",
       "      <td>False</td>\n",
       "      <td>6.0</td>\n",
       "    </tr>\n",
       "  </tbody>\n",
       "</table>\n",
       "</div>"
      ],
      "text/plain": [
       "   one  two  three   flag  five\n",
       "a  1.0  1.0    1.0  False   6.0\n",
       "b  2.0  2.0    4.0  False   6.0\n",
       "c  3.0  3.0    9.0   True   6.0\n",
       "d  NaN  4.0    NaN  False   6.0"
      ]
     },
     "execution_count": 50,
     "metadata": {},
     "output_type": "execute_result"
    }
   ],
   "source": [
    "# append scalar\n",
    "df3['five'] = 6.\n",
    "df3"
   ]
  },
  {
   "cell_type": "code",
   "execution_count": 51,
   "metadata": {},
   "outputs": [
    {
     "data": {
      "text/html": [
       "<div>\n",
       "<style scoped>\n",
       "    .dataframe tbody tr th:only-of-type {\n",
       "        vertical-align: middle;\n",
       "    }\n",
       "\n",
       "    .dataframe tbody tr th {\n",
       "        vertical-align: top;\n",
       "    }\n",
       "\n",
       "    .dataframe thead th {\n",
       "        text-align: right;\n",
       "    }\n",
       "</style>\n",
       "<table border=\"1\" class=\"dataframe\">\n",
       "  <thead>\n",
       "    <tr style=\"text-align: right;\">\n",
       "      <th></th>\n",
       "      <th>one</th>\n",
       "      <th>two</th>\n",
       "      <th>three</th>\n",
       "      <th>flag</th>\n",
       "      <th>five</th>\n",
       "      <th>random</th>\n",
       "    </tr>\n",
       "  </thead>\n",
       "  <tbody>\n",
       "    <tr>\n",
       "      <th>a</th>\n",
       "      <td>1.0</td>\n",
       "      <td>1.0</td>\n",
       "      <td>1.0</td>\n",
       "      <td>False</td>\n",
       "      <td>6.0</td>\n",
       "      <td>-1.892337</td>\n",
       "    </tr>\n",
       "    <tr>\n",
       "      <th>b</th>\n",
       "      <td>2.0</td>\n",
       "      <td>2.0</td>\n",
       "      <td>4.0</td>\n",
       "      <td>False</td>\n",
       "      <td>6.0</td>\n",
       "      <td>0.034537</td>\n",
       "    </tr>\n",
       "    <tr>\n",
       "      <th>c</th>\n",
       "      <td>3.0</td>\n",
       "      <td>3.0</td>\n",
       "      <td>9.0</td>\n",
       "      <td>True</td>\n",
       "      <td>6.0</td>\n",
       "      <td>-1.788798</td>\n",
       "    </tr>\n",
       "    <tr>\n",
       "      <th>d</th>\n",
       "      <td>NaN</td>\n",
       "      <td>4.0</td>\n",
       "      <td>NaN</td>\n",
       "      <td>False</td>\n",
       "      <td>6.0</td>\n",
       "      <td>0.819292</td>\n",
       "    </tr>\n",
       "  </tbody>\n",
       "</table>\n",
       "</div>"
      ],
      "text/plain": [
       "   one  two  three   flag  five    random\n",
       "a  1.0  1.0    1.0  False   6.0 -1.892337\n",
       "b  2.0  2.0    4.0  False   6.0  0.034537\n",
       "c  3.0  3.0    9.0   True   6.0 -1.788798\n",
       "d  NaN  4.0    NaN  False   6.0  0.819292"
      ]
     },
     "execution_count": 51,
     "metadata": {},
     "output_type": "execute_result"
    }
   ],
   "source": [
    "# append random series \n",
    "df3['random'] = pd.Series(np.random.randn(4), index=['a', 'b', 'c', 'd'])\n",
    "df3"
   ]
  },
  {
   "cell_type": "code",
   "execution_count": 52,
   "metadata": {},
   "outputs": [
    {
     "data": {
      "text/html": [
       "<div>\n",
       "<style scoped>\n",
       "    .dataframe tbody tr th:only-of-type {\n",
       "        vertical-align: middle;\n",
       "    }\n",
       "\n",
       "    .dataframe tbody tr th {\n",
       "        vertical-align: top;\n",
       "    }\n",
       "\n",
       "    .dataframe thead th {\n",
       "        text-align: right;\n",
       "    }\n",
       "</style>\n",
       "<table border=\"1\" class=\"dataframe\">\n",
       "  <thead>\n",
       "    <tr style=\"text-align: right;\">\n",
       "      <th></th>\n",
       "      <th>one</th>\n",
       "      <th>two</th>\n",
       "      <th>three</th>\n",
       "      <th>flag</th>\n",
       "      <th>five</th>\n",
       "      <th>random</th>\n",
       "      <th>ratio</th>\n",
       "    </tr>\n",
       "  </thead>\n",
       "  <tbody>\n",
       "    <tr>\n",
       "      <th>a</th>\n",
       "      <td>1.0</td>\n",
       "      <td>1.0</td>\n",
       "      <td>1.0</td>\n",
       "      <td>False</td>\n",
       "      <td>6.0</td>\n",
       "      <td>-1.892337</td>\n",
       "      <td>-0.528447</td>\n",
       "    </tr>\n",
       "    <tr>\n",
       "      <th>b</th>\n",
       "      <td>2.0</td>\n",
       "      <td>2.0</td>\n",
       "      <td>4.0</td>\n",
       "      <td>False</td>\n",
       "      <td>6.0</td>\n",
       "      <td>0.034537</td>\n",
       "      <td>57.908830</td>\n",
       "    </tr>\n",
       "    <tr>\n",
       "      <th>c</th>\n",
       "      <td>3.0</td>\n",
       "      <td>3.0</td>\n",
       "      <td>9.0</td>\n",
       "      <td>True</td>\n",
       "      <td>6.0</td>\n",
       "      <td>-1.788798</td>\n",
       "      <td>-1.677104</td>\n",
       "    </tr>\n",
       "    <tr>\n",
       "      <th>d</th>\n",
       "      <td>NaN</td>\n",
       "      <td>4.0</td>\n",
       "      <td>NaN</td>\n",
       "      <td>False</td>\n",
       "      <td>6.0</td>\n",
       "      <td>0.819292</td>\n",
       "      <td>NaN</td>\n",
       "    </tr>\n",
       "  </tbody>\n",
       "</table>\n",
       "</div>"
      ],
      "text/plain": [
       "   one  two  three   flag  five    random      ratio\n",
       "a  1.0  1.0    1.0  False   6.0 -1.892337  -0.528447\n",
       "b  2.0  2.0    4.0  False   6.0  0.034537  57.908830\n",
       "c  3.0  3.0    9.0   True   6.0 -1.788798  -1.677104\n",
       "d  NaN  4.0    NaN  False   6.0  0.819292        NaN"
      ]
     },
     "execution_count": 52,
     "metadata": {},
     "output_type": "execute_result"
    }
   ],
   "source": [
    "# append using assign from precomputing values (not persistent)\n",
    "df3.assign(ratio = (df3.one / df3.random))"
   ]
  },
  {
   "cell_type": "code",
   "execution_count": 53,
   "metadata": {},
   "outputs": [
    {
     "data": {
      "text/html": [
       "<div>\n",
       "<style scoped>\n",
       "    .dataframe tbody tr th:only-of-type {\n",
       "        vertical-align: middle;\n",
       "    }\n",
       "\n",
       "    .dataframe tbody tr th {\n",
       "        vertical-align: top;\n",
       "    }\n",
       "\n",
       "    .dataframe thead th {\n",
       "        text-align: right;\n",
       "    }\n",
       "</style>\n",
       "<table border=\"1\" class=\"dataframe\">\n",
       "  <thead>\n",
       "    <tr style=\"text-align: right;\">\n",
       "      <th></th>\n",
       "      <th>one</th>\n",
       "      <th>two</th>\n",
       "      <th>three</th>\n",
       "      <th>flag</th>\n",
       "      <th>five</th>\n",
       "      <th>random</th>\n",
       "      <th>ratio_two</th>\n",
       "    </tr>\n",
       "  </thead>\n",
       "  <tbody>\n",
       "    <tr>\n",
       "      <th>a</th>\n",
       "      <td>1.0</td>\n",
       "      <td>1.0</td>\n",
       "      <td>1.0</td>\n",
       "      <td>False</td>\n",
       "      <td>6.0</td>\n",
       "      <td>-1.892337</td>\n",
       "      <td>-0.528447</td>\n",
       "    </tr>\n",
       "    <tr>\n",
       "      <th>b</th>\n",
       "      <td>2.0</td>\n",
       "      <td>2.0</td>\n",
       "      <td>4.0</td>\n",
       "      <td>False</td>\n",
       "      <td>6.0</td>\n",
       "      <td>0.034537</td>\n",
       "      <td>57.908830</td>\n",
       "    </tr>\n",
       "    <tr>\n",
       "      <th>c</th>\n",
       "      <td>3.0</td>\n",
       "      <td>3.0</td>\n",
       "      <td>9.0</td>\n",
       "      <td>True</td>\n",
       "      <td>6.0</td>\n",
       "      <td>-1.788798</td>\n",
       "      <td>-1.677104</td>\n",
       "    </tr>\n",
       "    <tr>\n",
       "      <th>d</th>\n",
       "      <td>NaN</td>\n",
       "      <td>4.0</td>\n",
       "      <td>NaN</td>\n",
       "      <td>False</td>\n",
       "      <td>6.0</td>\n",
       "      <td>0.819292</td>\n",
       "      <td>4.882265</td>\n",
       "    </tr>\n",
       "  </tbody>\n",
       "</table>\n",
       "</div>"
      ],
      "text/plain": [
       "   one  two  three   flag  five    random  ratio_two\n",
       "a  1.0  1.0    1.0  False   6.0 -1.892337  -0.528447\n",
       "b  2.0  2.0    4.0  False   6.0  0.034537  57.908830\n",
       "c  3.0  3.0    9.0   True   6.0 -1.788798  -1.677104\n",
       "d  NaN  4.0    NaN  False   6.0  0.819292   4.882265"
      ]
     },
     "execution_count": 53,
     "metadata": {},
     "output_type": "execute_result"
    }
   ],
   "source": [
    "# assign with lambda (not persistent)\n",
    "df3.assign(ratio_two = lambda x: (x.two / x.random))"
   ]
  },
  {
   "cell_type": "code",
   "execution_count": 54,
   "metadata": {},
   "outputs": [
    {
     "data": {
      "text/html": [
       "<div>\n",
       "<style scoped>\n",
       "    .dataframe tbody tr th:only-of-type {\n",
       "        vertical-align: middle;\n",
       "    }\n",
       "\n",
       "    .dataframe tbody tr th {\n",
       "        vertical-align: top;\n",
       "    }\n",
       "\n",
       "    .dataframe thead th {\n",
       "        text-align: right;\n",
       "    }\n",
       "</style>\n",
       "<table border=\"1\" class=\"dataframe\">\n",
       "  <thead>\n",
       "    <tr style=\"text-align: right;\">\n",
       "      <th></th>\n",
       "      <th>one</th>\n",
       "      <th>two</th>\n",
       "      <th>three</th>\n",
       "      <th>flag</th>\n",
       "      <th>five</th>\n",
       "      <th>random</th>\n",
       "    </tr>\n",
       "  </thead>\n",
       "  <tbody>\n",
       "    <tr>\n",
       "      <th>a</th>\n",
       "      <td>0.0</td>\n",
       "      <td>0.0</td>\n",
       "      <td>0.0</td>\n",
       "      <td>-1.0</td>\n",
       "      <td>5.0</td>\n",
       "      <td>-2.892337</td>\n",
       "    </tr>\n",
       "    <tr>\n",
       "      <th>b</th>\n",
       "      <td>0.0</td>\n",
       "      <td>0.0</td>\n",
       "      <td>2.0</td>\n",
       "      <td>-2.0</td>\n",
       "      <td>4.0</td>\n",
       "      <td>-1.965463</td>\n",
       "    </tr>\n",
       "    <tr>\n",
       "      <th>c</th>\n",
       "      <td>0.0</td>\n",
       "      <td>0.0</td>\n",
       "      <td>6.0</td>\n",
       "      <td>-2.0</td>\n",
       "      <td>3.0</td>\n",
       "      <td>-4.788798</td>\n",
       "    </tr>\n",
       "    <tr>\n",
       "      <th>d</th>\n",
       "      <td>NaN</td>\n",
       "      <td>NaN</td>\n",
       "      <td>NaN</td>\n",
       "      <td>NaN</td>\n",
       "      <td>NaN</td>\n",
       "      <td>NaN</td>\n",
       "    </tr>\n",
       "  </tbody>\n",
       "</table>\n",
       "</div>"
      ],
      "text/plain": [
       "   one  two  three  flag  five    random\n",
       "a  0.0  0.0    0.0  -1.0   5.0 -2.892337\n",
       "b  0.0  0.0    2.0  -2.0   4.0 -1.965463\n",
       "c  0.0  0.0    6.0  -2.0   3.0 -4.788798\n",
       "d  NaN  NaN    NaN   NaN   NaN       NaN"
      ]
     },
     "execution_count": 54,
     "metadata": {},
     "output_type": "execute_result"
    }
   ],
   "source": [
    "# subtract all columns by first column - broadcasting column wise\n",
    "df3.sub(df3['one'], axis=0)"
   ]
  },
  {
   "cell_type": "markdown",
   "metadata": {},
   "source": [
    "### Resizing and Reshaping"
   ]
  },
  {
   "cell_type": "code",
   "execution_count": 55,
   "metadata": {},
   "outputs": [
    {
     "data": {
      "text/plain": [
       "a    1.0\n",
       "b    4.0\n",
       "c    9.0\n",
       "d    NaN\n",
       "Name: three, dtype: float64"
      ]
     },
     "execution_count": 55,
     "metadata": {},
     "output_type": "execute_result"
    }
   ],
   "source": [
    "# pop column (can only run once in notebook)\n",
    "flag = df3.pop('three')\n",
    "flag"
   ]
  },
  {
   "cell_type": "code",
   "execution_count": 56,
   "metadata": {},
   "outputs": [
    {
     "data": {
      "text/html": [
       "<div>\n",
       "<style scoped>\n",
       "    .dataframe tbody tr th:only-of-type {\n",
       "        vertical-align: middle;\n",
       "    }\n",
       "\n",
       "    .dataframe tbody tr th {\n",
       "        vertical-align: top;\n",
       "    }\n",
       "\n",
       "    .dataframe thead th {\n",
       "        text-align: right;\n",
       "    }\n",
       "</style>\n",
       "<table border=\"1\" class=\"dataframe\">\n",
       "  <thead>\n",
       "    <tr style=\"text-align: right;\">\n",
       "      <th></th>\n",
       "      <th>0</th>\n",
       "      <th>1</th>\n",
       "      <th>2</th>\n",
       "      <th>3</th>\n",
       "      <th>4</th>\n",
       "    </tr>\n",
       "  </thead>\n",
       "  <tbody>\n",
       "    <tr>\n",
       "      <th>A</th>\n",
       "      <td>0.420396</td>\n",
       "      <td>-0.113393</td>\n",
       "      <td>0.020974</td>\n",
       "      <td>1.757166</td>\n",
       "      <td>0.889968</td>\n",
       "    </tr>\n",
       "    <tr>\n",
       "      <th>B</th>\n",
       "      <td>-0.372632</td>\n",
       "      <td>-0.600174</td>\n",
       "      <td>-0.915216</td>\n",
       "      <td>0.689963</td>\n",
       "      <td>1.095494</td>\n",
       "    </tr>\n",
       "    <tr>\n",
       "      <th>C</th>\n",
       "      <td>-1.348902</td>\n",
       "      <td>-0.524274</td>\n",
       "      <td>-0.991346</td>\n",
       "      <td>0.587554</td>\n",
       "      <td>1.106142</td>\n",
       "    </tr>\n",
       "    <tr>\n",
       "      <th>D</th>\n",
       "      <td>0.302804</td>\n",
       "      <td>-2.555829</td>\n",
       "      <td>-1.090583</td>\n",
       "      <td>0.360770</td>\n",
       "      <td>-0.440607</td>\n",
       "    </tr>\n",
       "  </tbody>\n",
       "</table>\n",
       "</div>"
      ],
      "text/plain": [
       "          0         1         2         3         4\n",
       "A  0.420396 -0.113393  0.020974  1.757166  0.889968\n",
       "B -0.372632 -0.600174 -0.915216  0.689963  1.095494\n",
       "C -1.348902 -0.524274 -0.991346  0.587554  1.106142\n",
       "D  0.302804 -2.555829 -1.090583  0.360770 -0.440607"
      ]
     },
     "execution_count": 56,
     "metadata": {},
     "output_type": "execute_result"
    }
   ],
   "source": [
    "# transpose column names - get first 5 columns\n",
    "dfr1[:5].T"
   ]
  },
  {
   "cell_type": "code",
   "execution_count": 57,
   "metadata": {},
   "outputs": [
    {
     "data": {
      "text/plain": [
       "array([[ 0.42039592, -0.37263175, -1.34890211,  0.30280384],\n",
       "       [-0.11339275, -0.60017356, -0.52427388, -2.55582925],\n",
       "       [ 0.02097387, -0.91521647, -0.99134583, -1.09058336],\n",
       "       [ 1.75716624,  0.6899635 ,  0.58755433,  0.36076952],\n",
       "       [ 0.88996784,  1.09549403,  1.10614165, -0.44060676],\n",
       "       [ 2.62453472,  0.75332857, -0.74869357,  3.05984178],\n",
       "       [-0.59677785, -0.35274177, -0.67836641, -0.176421  ],\n",
       "       [ 1.11650208, -0.37996923,  1.66941764, -0.52080687],\n",
       "       [ 1.25283266,  0.60448521, -0.89825898, -0.57690855],\n",
       "       [ 0.9410359 ,  0.14046553, -0.91427353, -0.19523668]])"
      ]
     },
     "execution_count": 57,
     "metadata": {},
     "output_type": "execute_result"
    }
   ],
   "source": [
    "# transform into numpy array \n",
    "np.asarray(dfr1)"
   ]
  },
  {
   "cell_type": "markdown",
   "metadata": {},
   "source": [
    "### Filtering"
   ]
  },
  {
   "cell_type": "code",
   "execution_count": 58,
   "metadata": {},
   "outputs": [
    {
     "data": {
      "text/html": [
       "<div>\n",
       "<style scoped>\n",
       "    .dataframe tbody tr th:only-of-type {\n",
       "        vertical-align: middle;\n",
       "    }\n",
       "\n",
       "    .dataframe tbody tr th {\n",
       "        vertical-align: top;\n",
       "    }\n",
       "\n",
       "    .dataframe thead th {\n",
       "        text-align: right;\n",
       "    }\n",
       "</style>\n",
       "<table border=\"1\" class=\"dataframe\">\n",
       "  <thead>\n",
       "    <tr style=\"text-align: right;\">\n",
       "      <th></th>\n",
       "      <th>A</th>\n",
       "      <th>B</th>\n",
       "      <th>C</th>\n",
       "      <th>D</th>\n",
       "    </tr>\n",
       "  </thead>\n",
       "  <tbody>\n",
       "    <tr>\n",
       "      <th>0</th>\n",
       "      <td>False</td>\n",
       "      <td>False</td>\n",
       "      <td>False</td>\n",
       "      <td>False</td>\n",
       "    </tr>\n",
       "    <tr>\n",
       "      <th>1</th>\n",
       "      <td>False</td>\n",
       "      <td>False</td>\n",
       "      <td>False</td>\n",
       "      <td>False</td>\n",
       "    </tr>\n",
       "    <tr>\n",
       "      <th>2</th>\n",
       "      <td>False</td>\n",
       "      <td>False</td>\n",
       "      <td>False</td>\n",
       "      <td>False</td>\n",
       "    </tr>\n",
       "    <tr>\n",
       "      <th>3</th>\n",
       "      <td>True</td>\n",
       "      <td>False</td>\n",
       "      <td>False</td>\n",
       "      <td>False</td>\n",
       "    </tr>\n",
       "    <tr>\n",
       "      <th>4</th>\n",
       "      <td>False</td>\n",
       "      <td>True</td>\n",
       "      <td>True</td>\n",
       "      <td>False</td>\n",
       "    </tr>\n",
       "    <tr>\n",
       "      <th>5</th>\n",
       "      <td>True</td>\n",
       "      <td>False</td>\n",
       "      <td>False</td>\n",
       "      <td>True</td>\n",
       "    </tr>\n",
       "    <tr>\n",
       "      <th>6</th>\n",
       "      <td>False</td>\n",
       "      <td>False</td>\n",
       "      <td>False</td>\n",
       "      <td>False</td>\n",
       "    </tr>\n",
       "    <tr>\n",
       "      <th>7</th>\n",
       "      <td>True</td>\n",
       "      <td>False</td>\n",
       "      <td>True</td>\n",
       "      <td>False</td>\n",
       "    </tr>\n",
       "    <tr>\n",
       "      <th>8</th>\n",
       "      <td>True</td>\n",
       "      <td>False</td>\n",
       "      <td>False</td>\n",
       "      <td>False</td>\n",
       "    </tr>\n",
       "    <tr>\n",
       "      <th>9</th>\n",
       "      <td>False</td>\n",
       "      <td>False</td>\n",
       "      <td>False</td>\n",
       "      <td>False</td>\n",
       "    </tr>\n",
       "  </tbody>\n",
       "</table>\n",
       "</div>"
      ],
      "text/plain": [
       "       A      B      C      D\n",
       "0  False  False  False  False\n",
       "1  False  False  False  False\n",
       "2  False  False  False  False\n",
       "3   True  False  False  False\n",
       "4  False   True   True  False\n",
       "5   True  False  False   True\n",
       "6  False  False  False  False\n",
       "7   True  False   True  False\n",
       "8   True  False  False  False\n",
       "9  False  False  False  False"
      ]
     },
     "execution_count": 58,
     "metadata": {},
     "output_type": "execute_result"
    }
   ],
   "source": [
    "# boolean compare elementwise\n",
    "dfr1.gt(1)"
   ]
  },
  {
   "cell_type": "code",
   "execution_count": 59,
   "metadata": {},
   "outputs": [
    {
     "data": {
      "text/html": [
       "<div>\n",
       "<style scoped>\n",
       "    .dataframe tbody tr th:only-of-type {\n",
       "        vertical-align: middle;\n",
       "    }\n",
       "\n",
       "    .dataframe tbody tr th {\n",
       "        vertical-align: top;\n",
       "    }\n",
       "\n",
       "    .dataframe thead th {\n",
       "        text-align: right;\n",
       "    }\n",
       "</style>\n",
       "<table border=\"1\" class=\"dataframe\">\n",
       "  <thead>\n",
       "    <tr style=\"text-align: right;\">\n",
       "      <th></th>\n",
       "      <th>A</th>\n",
       "      <th>B</th>\n",
       "      <th>C</th>\n",
       "      <th>D</th>\n",
       "    </tr>\n",
       "  </thead>\n",
       "  <tbody>\n",
       "    <tr>\n",
       "      <th>0</th>\n",
       "      <td>False</td>\n",
       "      <td>False</td>\n",
       "      <td>True</td>\n",
       "      <td>True</td>\n",
       "    </tr>\n",
       "    <tr>\n",
       "      <th>1</th>\n",
       "      <td>False</td>\n",
       "      <td>False</td>\n",
       "      <td>False</td>\n",
       "      <td>False</td>\n",
       "    </tr>\n",
       "    <tr>\n",
       "      <th>2</th>\n",
       "      <td>True</td>\n",
       "      <td>False</td>\n",
       "      <td>False</td>\n",
       "      <td>False</td>\n",
       "    </tr>\n",
       "    <tr>\n",
       "      <th>3</th>\n",
       "      <td>True</td>\n",
       "      <td>True</td>\n",
       "      <td>True</td>\n",
       "      <td>True</td>\n",
       "    </tr>\n",
       "    <tr>\n",
       "      <th>4</th>\n",
       "      <td>True</td>\n",
       "      <td>False</td>\n",
       "      <td>True</td>\n",
       "      <td>True</td>\n",
       "    </tr>\n",
       "    <tr>\n",
       "      <th>5</th>\n",
       "      <td>True</td>\n",
       "      <td>True</td>\n",
       "      <td>False</td>\n",
       "      <td>True</td>\n",
       "    </tr>\n",
       "    <tr>\n",
       "      <th>6</th>\n",
       "      <td>False</td>\n",
       "      <td>True</td>\n",
       "      <td>False</td>\n",
       "      <td>True</td>\n",
       "    </tr>\n",
       "    <tr>\n",
       "      <th>7</th>\n",
       "      <td>True</td>\n",
       "      <td>False</td>\n",
       "      <td>True</td>\n",
       "      <td>False</td>\n",
       "    </tr>\n",
       "    <tr>\n",
       "      <th>8</th>\n",
       "      <td>True</td>\n",
       "      <td>True</td>\n",
       "      <td>False</td>\n",
       "      <td>False</td>\n",
       "    </tr>\n",
       "    <tr>\n",
       "      <th>9</th>\n",
       "      <td>False</td>\n",
       "      <td>True</td>\n",
       "      <td>False</td>\n",
       "      <td>False</td>\n",
       "    </tr>\n",
       "  </tbody>\n",
       "</table>\n",
       "</div>"
      ],
      "text/plain": [
       "       A      B      C      D\n",
       "0  False  False   True   True\n",
       "1  False  False  False  False\n",
       "2   True  False  False  False\n",
       "3   True   True   True   True\n",
       "4   True  False   True   True\n",
       "5   True   True  False   True\n",
       "6  False   True  False   True\n",
       "7   True  False   True  False\n",
       "8   True   True  False  False\n",
       "9  False   True  False  False"
      ]
     },
     "execution_count": 59,
     "metadata": {},
     "output_type": "execute_result"
    }
   ],
   "source": [
    "# boolean compare two DFs\n",
    "dfr1.gt(dfr2)"
   ]
  },
  {
   "cell_type": "code",
   "execution_count": 60,
   "metadata": {},
   "outputs": [
    {
     "data": {
      "text/plain": [
       "A    False\n",
       "B    False\n",
       "C    False\n",
       "D    False\n",
       "dtype: bool"
      ]
     },
     "execution_count": 60,
     "metadata": {},
     "output_type": "execute_result"
    }
   ],
   "source": [
    "# boolean column reductions\n",
    "(dfr1 > 1).all()"
   ]
  },
  {
   "cell_type": "code",
   "execution_count": 61,
   "metadata": {},
   "outputs": [
    {
     "data": {
      "text/plain": [
       "A    True\n",
       "B    True\n",
       "C    True\n",
       "D    True\n",
       "dtype: bool"
      ]
     },
     "execution_count": 61,
     "metadata": {},
     "output_type": "execute_result"
    }
   ],
   "source": [
    "(dfr1 > 1).any()"
   ]
  },
  {
   "cell_type": "code",
   "execution_count": 62,
   "metadata": {},
   "outputs": [
    {
     "data": {
      "text/html": [
       "<div>\n",
       "<style scoped>\n",
       "    .dataframe tbody tr th:only-of-type {\n",
       "        vertical-align: middle;\n",
       "    }\n",
       "\n",
       "    .dataframe tbody tr th {\n",
       "        vertical-align: top;\n",
       "    }\n",
       "\n",
       "    .dataframe thead th {\n",
       "        text-align: right;\n",
       "    }\n",
       "</style>\n",
       "<table border=\"1\" class=\"dataframe\">\n",
       "  <thead>\n",
       "    <tr style=\"text-align: right;\">\n",
       "      <th></th>\n",
       "      <th>A</th>\n",
       "      <th>B</th>\n",
       "      <th>C</th>\n",
       "      <th>D</th>\n",
       "    </tr>\n",
       "  </thead>\n",
       "  <tbody>\n",
       "    <tr>\n",
       "      <th>0</th>\n",
       "      <td>0.825178</td>\n",
       "      <td>-0.151552</td>\n",
       "      <td>-1.353973</td>\n",
       "      <td>0.680346</td>\n",
       "    </tr>\n",
       "    <tr>\n",
       "      <th>1</th>\n",
       "      <td>0.764160</td>\n",
       "      <td>0.318690</td>\n",
       "      <td>0.388148</td>\n",
       "      <td>-1.470999</td>\n",
       "    </tr>\n",
       "    <tr>\n",
       "      <th>2</th>\n",
       "      <td>1.485353</td>\n",
       "      <td>-0.332350</td>\n",
       "      <td>-0.480162</td>\n",
       "      <td>-0.672841</td>\n",
       "    </tr>\n",
       "    <tr>\n",
       "      <th>3</th>\n",
       "      <td>1.462735</td>\n",
       "      <td>-0.255893</td>\n",
       "      <td>-0.420813</td>\n",
       "      <td>-0.786029</td>\n",
       "    </tr>\n",
       "    <tr>\n",
       "      <th>4</th>\n",
       "      <td>0.306114</td>\n",
       "      <td>0.583003</td>\n",
       "      <td>0.597348</td>\n",
       "      <td>-1.486465</td>\n",
       "    </tr>\n",
       "    <tr>\n",
       "      <th>5</th>\n",
       "      <td>0.683304</td>\n",
       "      <td>-0.380176</td>\n",
       "      <td>-1.233834</td>\n",
       "      <td>0.930706</td>\n",
       "    </tr>\n",
       "    <tr>\n",
       "      <th>6</th>\n",
       "      <td>-0.634895</td>\n",
       "      <td>0.428496</td>\n",
       "      <td>-0.990418</td>\n",
       "      <td>1.196817</td>\n",
       "    </tr>\n",
       "    <tr>\n",
       "      <th>7</th>\n",
       "      <td>0.592240</td>\n",
       "      <td>-0.781362</td>\n",
       "      <td>1.099758</td>\n",
       "      <td>-0.910636</td>\n",
       "    </tr>\n",
       "    <tr>\n",
       "      <th>8</th>\n",
       "      <td>1.150001</td>\n",
       "      <td>0.505740</td>\n",
       "      <td>-0.987533</td>\n",
       "      <td>-0.668208</td>\n",
       "    </tr>\n",
       "    <tr>\n",
       "      <th>9</th>\n",
       "      <td>1.231081</td>\n",
       "      <td>0.191495</td>\n",
       "      <td>-1.178143</td>\n",
       "      <td>-0.244433</td>\n",
       "    </tr>\n",
       "  </tbody>\n",
       "</table>\n",
       "</div>"
      ],
      "text/plain": [
       "          A         B         C         D\n",
       "0  0.825178 -0.151552 -1.353973  0.680346\n",
       "1  0.764160  0.318690  0.388148 -1.470999\n",
       "2  1.485353 -0.332350 -0.480162 -0.672841\n",
       "3  1.462735 -0.255893 -0.420813 -0.786029\n",
       "4  0.306114  0.583003  0.597348 -1.486465\n",
       "5  0.683304 -0.380176 -1.233834  0.930706\n",
       "6 -0.634895  0.428496 -0.990418  1.196817\n",
       "7  0.592240 -0.781362  1.099758 -0.910636\n",
       "8  1.150001  0.505740 -0.987533 -0.668208\n",
       "9  1.231081  0.191495 -1.178143 -0.244433"
      ]
     },
     "execution_count": 62,
     "metadata": {},
     "output_type": "execute_result"
    }
   ],
   "source": [
    "# same does not work \n",
    "# TODO - what do (1) mean?\n",
    "dfr1.sub(dfr1.mean(1), axis=0).div(dfr1.std(1), axis=0)"
   ]
  },
  {
   "cell_type": "code",
   "execution_count": 63,
   "metadata": {},
   "outputs": [
    {
     "data": {
      "text/plain": [
       "0   -0.249584\n",
       "1   -0.948417\n",
       "2   -0.744043\n",
       "3    0.848863\n",
       "4    0.662749\n",
       "5    1.422253\n",
       "6   -0.451077\n",
       "7    0.471286\n",
       "8    0.095538\n",
       "9   -0.007002\n",
       "dtype: float64"
      ]
     },
     "execution_count": 63,
     "metadata": {},
     "output_type": "execute_result"
    }
   ],
   "source": [
    "# use apply to get mean on rows\n",
    "dfr1.apply(np.mean, axis=1)"
   ]
  },
  {
   "cell_type": "code",
   "execution_count": 64,
   "metadata": {},
   "outputs": [
    {
     "data": {
      "text/plain": [
       "A    3.221313\n",
       "B    2.010710\n",
       "C    3.018320\n",
       "D    5.615671\n",
       "dtype: float64"
      ]
     },
     "execution_count": 64,
     "metadata": {},
     "output_type": "execute_result"
    }
   ],
   "source": [
    "# get diff min and max on columns\n",
    "dfr1.apply(lambda x: x.max() - x.min())"
   ]
  },
  {
   "cell_type": "code",
   "execution_count": 65,
   "metadata": {},
   "outputs": [
    {
     "data": {
      "text/plain": [
       "A    5\n",
       "B    4\n",
       "C    7\n",
       "D    5\n",
       "dtype: int64"
      ]
     },
     "execution_count": 65,
     "metadata": {},
     "output_type": "execute_result"
    }
   ],
   "source": [
    "# get row with max value on columns\n",
    "dfr1.apply(lambda x: x.idxmax())"
   ]
  },
  {
   "cell_type": "code",
   "execution_count": 66,
   "metadata": {},
   "outputs": [
    {
     "data": {
      "text/html": [
       "<div>\n",
       "<style scoped>\n",
       "    .dataframe tbody tr th:only-of-type {\n",
       "        vertical-align: middle;\n",
       "    }\n",
       "\n",
       "    .dataframe tbody tr th {\n",
       "        vertical-align: top;\n",
       "    }\n",
       "\n",
       "    .dataframe thead th {\n",
       "        text-align: right;\n",
       "    }\n",
       "</style>\n",
       "<table border=\"1\" class=\"dataframe\">\n",
       "  <thead>\n",
       "    <tr style=\"text-align: right;\">\n",
       "      <th></th>\n",
       "      <th>A</th>\n",
       "      <th>B</th>\n",
       "      <th>C</th>\n",
       "      <th>D</th>\n",
       "    </tr>\n",
       "  </thead>\n",
       "  <tbody>\n",
       "    <tr>\n",
       "      <th>0</th>\n",
       "      <td>-1.526535</td>\n",
       "      <td>-1.790877</td>\n",
       "      <td>-2.116301</td>\n",
       "      <td>-1.565732</td>\n",
       "    </tr>\n",
       "    <tr>\n",
       "      <th>1</th>\n",
       "      <td>-1.704464</td>\n",
       "      <td>-1.866725</td>\n",
       "      <td>-1.841425</td>\n",
       "      <td>-2.518610</td>\n",
       "    </tr>\n",
       "    <tr>\n",
       "      <th>2</th>\n",
       "      <td>-1.659675</td>\n",
       "      <td>-1.971739</td>\n",
       "      <td>-1.997115</td>\n",
       "      <td>-2.030194</td>\n",
       "    </tr>\n",
       "    <tr>\n",
       "      <th>3</th>\n",
       "      <td>-1.080945</td>\n",
       "      <td>-1.436679</td>\n",
       "      <td>-1.470815</td>\n",
       "      <td>-1.546410</td>\n",
       "    </tr>\n",
       "    <tr>\n",
       "      <th>4</th>\n",
       "      <td>-1.370011</td>\n",
       "      <td>-1.301502</td>\n",
       "      <td>-1.297953</td>\n",
       "      <td>-1.813536</td>\n",
       "    </tr>\n",
       "    <tr>\n",
       "      <th>5</th>\n",
       "      <td>-0.791822</td>\n",
       "      <td>-1.415557</td>\n",
       "      <td>-1.916231</td>\n",
       "      <td>-0.646719</td>\n",
       "    </tr>\n",
       "    <tr>\n",
       "      <th>6</th>\n",
       "      <td>-1.865593</td>\n",
       "      <td>-1.784247</td>\n",
       "      <td>-1.892789</td>\n",
       "      <td>-1.725474</td>\n",
       "    </tr>\n",
       "    <tr>\n",
       "      <th>7</th>\n",
       "      <td>-1.294499</td>\n",
       "      <td>-1.793323</td>\n",
       "      <td>-1.110194</td>\n",
       "      <td>-1.840269</td>\n",
       "    </tr>\n",
       "    <tr>\n",
       "      <th>8</th>\n",
       "      <td>-1.249056</td>\n",
       "      <td>-1.465172</td>\n",
       "      <td>-1.966086</td>\n",
       "      <td>-1.858970</td>\n",
       "    </tr>\n",
       "    <tr>\n",
       "      <th>9</th>\n",
       "      <td>-1.352988</td>\n",
       "      <td>-1.619845</td>\n",
       "      <td>-1.971425</td>\n",
       "      <td>-1.731746</td>\n",
       "    </tr>\n",
       "  </tbody>\n",
       "</table>\n",
       "</div>"
      ],
      "text/plain": [
       "          A         B         C         D\n",
       "0 -1.526535 -1.790877 -2.116301 -1.565732\n",
       "1 -1.704464 -1.866725 -1.841425 -2.518610\n",
       "2 -1.659675 -1.971739 -1.997115 -2.030194\n",
       "3 -1.080945 -1.436679 -1.470815 -1.546410\n",
       "4 -1.370011 -1.301502 -1.297953 -1.813536\n",
       "5 -0.791822 -1.415557 -1.916231 -0.646719\n",
       "6 -1.865593 -1.784247 -1.892789 -1.725474\n",
       "7 -1.294499 -1.793323 -1.110194 -1.840269\n",
       "8 -1.249056 -1.465172 -1.966086 -1.858970\n",
       "9 -1.352988 -1.619845 -1.971425 -1.731746"
      ]
     },
     "execution_count": 66,
     "metadata": {},
     "output_type": "execute_result"
    }
   ],
   "source": [
    "# apply custom function\n",
    "def subtract_and_divide(x, sub, divide=1):\n",
    "    return (x - sub) / divide\n",
    "dfr1.apply(subtract_and_divide, args=(5,), divide=3)"
   ]
  },
  {
   "cell_type": "code",
   "execution_count": 67,
   "metadata": {},
   "outputs": [
    {
     "data": {
      "text/plain": [
       "A    8.313239\n",
       "B    0.663004\n",
       "C   -2.741001\n",
       "D   -1.832977\n",
       "dtype: float64"
      ]
     },
     "execution_count": 67,
     "metadata": {},
     "output_type": "execute_result"
    }
   ],
   "source": [
    "dfr1.agg(np.sum)"
   ]
  },
  {
   "cell_type": "code",
   "execution_count": 68,
   "metadata": {},
   "outputs": [
    {
     "data": {
      "text/plain": [
       "A    8.313239\n",
       "B    0.066300\n",
       "dtype: float64"
      ]
     },
     "execution_count": 68,
     "metadata": {},
     "output_type": "execute_result"
    }
   ],
   "source": [
    "# aggegrate - general form of sum(), here map functions to columns\n",
    "def mymean(x):\n",
    "    return x.mean()\n",
    "dfr1.agg({'A': 'sum', 'B': mymean})"
   ]
  },
  {
   "cell_type": "code",
   "execution_count": 69,
   "metadata": {},
   "outputs": [
    {
     "data": {
      "text/html": [
       "<div>\n",
       "<style scoped>\n",
       "    .dataframe tbody tr th:only-of-type {\n",
       "        vertical-align: middle;\n",
       "    }\n",
       "\n",
       "    .dataframe tbody tr th {\n",
       "        vertical-align: top;\n",
       "    }\n",
       "\n",
       "    .dataframe thead th {\n",
       "        text-align: right;\n",
       "    }\n",
       "</style>\n",
       "<table border=\"1\" class=\"dataframe\">\n",
       "  <thead>\n",
       "    <tr style=\"text-align: right;\">\n",
       "      <th></th>\n",
       "      <th>A</th>\n",
       "      <th>B</th>\n",
       "      <th>C</th>\n",
       "      <th>D</th>\n",
       "    </tr>\n",
       "  </thead>\n",
       "  <tbody>\n",
       "    <tr>\n",
       "      <th>0</th>\n",
       "      <td>0.420396</td>\n",
       "      <td>0.372632</td>\n",
       "      <td>1.348902</td>\n",
       "      <td>0.302804</td>\n",
       "    </tr>\n",
       "    <tr>\n",
       "      <th>1</th>\n",
       "      <td>0.113393</td>\n",
       "      <td>0.600174</td>\n",
       "      <td>0.524274</td>\n",
       "      <td>2.555829</td>\n",
       "    </tr>\n",
       "    <tr>\n",
       "      <th>2</th>\n",
       "      <td>0.020974</td>\n",
       "      <td>0.915216</td>\n",
       "      <td>0.991346</td>\n",
       "      <td>1.090583</td>\n",
       "    </tr>\n",
       "    <tr>\n",
       "      <th>3</th>\n",
       "      <td>1.757166</td>\n",
       "      <td>0.689963</td>\n",
       "      <td>0.587554</td>\n",
       "      <td>0.360770</td>\n",
       "    </tr>\n",
       "    <tr>\n",
       "      <th>4</th>\n",
       "      <td>0.889968</td>\n",
       "      <td>1.095494</td>\n",
       "      <td>1.106142</td>\n",
       "      <td>0.440607</td>\n",
       "    </tr>\n",
       "    <tr>\n",
       "      <th>5</th>\n",
       "      <td>2.624535</td>\n",
       "      <td>0.753329</td>\n",
       "      <td>0.748694</td>\n",
       "      <td>3.059842</td>\n",
       "    </tr>\n",
       "    <tr>\n",
       "      <th>6</th>\n",
       "      <td>0.596778</td>\n",
       "      <td>0.352742</td>\n",
       "      <td>0.678366</td>\n",
       "      <td>0.176421</td>\n",
       "    </tr>\n",
       "    <tr>\n",
       "      <th>7</th>\n",
       "      <td>1.116502</td>\n",
       "      <td>0.379969</td>\n",
       "      <td>1.669418</td>\n",
       "      <td>0.520807</td>\n",
       "    </tr>\n",
       "    <tr>\n",
       "      <th>8</th>\n",
       "      <td>1.252833</td>\n",
       "      <td>0.604485</td>\n",
       "      <td>0.898259</td>\n",
       "      <td>0.576909</td>\n",
       "    </tr>\n",
       "    <tr>\n",
       "      <th>9</th>\n",
       "      <td>0.941036</td>\n",
       "      <td>0.140466</td>\n",
       "      <td>0.914274</td>\n",
       "      <td>0.195237</td>\n",
       "    </tr>\n",
       "  </tbody>\n",
       "</table>\n",
       "</div>"
      ],
      "text/plain": [
       "          A         B         C         D\n",
       "0  0.420396  0.372632  1.348902  0.302804\n",
       "1  0.113393  0.600174  0.524274  2.555829\n",
       "2  0.020974  0.915216  0.991346  1.090583\n",
       "3  1.757166  0.689963  0.587554  0.360770\n",
       "4  0.889968  1.095494  1.106142  0.440607\n",
       "5  2.624535  0.753329  0.748694  3.059842\n",
       "6  0.596778  0.352742  0.678366  0.176421\n",
       "7  1.116502  0.379969  1.669418  0.520807\n",
       "8  1.252833  0.604485  0.898259  0.576909\n",
       "9  0.941036  0.140466  0.914274  0.195237"
      ]
     },
     "execution_count": 69,
     "metadata": {},
     "output_type": "execute_result"
    }
   ],
   "source": [
    "# Transform - convert to absolute\n",
    "dfr1.transform(np.abs)"
   ]
  },
  {
   "cell_type": "code",
   "execution_count": 70,
   "metadata": {},
   "outputs": [
    {
     "data": {
      "text/plain": [
       "0    0.420396\n",
       "1    0.113393\n",
       "2    0.020974\n",
       "3    1.757166\n",
       "4    0.889968\n",
       "5    2.624535\n",
       "6    0.596778\n",
       "7    1.116502\n",
       "8    1.252833\n",
       "9    0.941036\n",
       "Name: A, dtype: float64"
      ]
     },
     "execution_count": 70,
     "metadata": {},
     "output_type": "execute_result"
    }
   ],
   "source": [
    "# and for series\n",
    "dfr1.A.transform(np.abs)"
   ]
  },
  {
   "cell_type": "code",
   "execution_count": 71,
   "metadata": {},
   "outputs": [
    {
     "data": {
      "text/html": [
       "<div>\n",
       "<style scoped>\n",
       "    .dataframe tbody tr th:only-of-type {\n",
       "        vertical-align: middle;\n",
       "    }\n",
       "\n",
       "    .dataframe tbody tr th {\n",
       "        vertical-align: top;\n",
       "    }\n",
       "\n",
       "    .dataframe thead th {\n",
       "        text-align: right;\n",
       "    }\n",
       "</style>\n",
       "<table border=\"1\" class=\"dataframe\">\n",
       "  <thead>\n",
       "    <tr style=\"text-align: right;\">\n",
       "      <th></th>\n",
       "      <th>A</th>\n",
       "      <th>B</th>\n",
       "      <th>C</th>\n",
       "      <th>D</th>\n",
       "    </tr>\n",
       "  </thead>\n",
       "  <tbody>\n",
       "    <tr>\n",
       "      <th>0</th>\n",
       "      <td>100.420396</td>\n",
       "      <td>99.627368</td>\n",
       "      <td>98.651098</td>\n",
       "      <td>100.302804</td>\n",
       "    </tr>\n",
       "    <tr>\n",
       "      <th>1</th>\n",
       "      <td>99.886607</td>\n",
       "      <td>99.399826</td>\n",
       "      <td>99.475726</td>\n",
       "      <td>97.444171</td>\n",
       "    </tr>\n",
       "    <tr>\n",
       "      <th>2</th>\n",
       "      <td>100.020974</td>\n",
       "      <td>99.084784</td>\n",
       "      <td>99.008654</td>\n",
       "      <td>98.909417</td>\n",
       "    </tr>\n",
       "    <tr>\n",
       "      <th>3</th>\n",
       "      <td>101.757166</td>\n",
       "      <td>100.689963</td>\n",
       "      <td>100.587554</td>\n",
       "      <td>100.360770</td>\n",
       "    </tr>\n",
       "    <tr>\n",
       "      <th>4</th>\n",
       "      <td>100.889968</td>\n",
       "      <td>101.095494</td>\n",
       "      <td>101.106142</td>\n",
       "      <td>99.559393</td>\n",
       "    </tr>\n",
       "    <tr>\n",
       "      <th>5</th>\n",
       "      <td>102.624535</td>\n",
       "      <td>100.753329</td>\n",
       "      <td>99.251306</td>\n",
       "      <td>103.059842</td>\n",
       "    </tr>\n",
       "    <tr>\n",
       "      <th>6</th>\n",
       "      <td>99.403222</td>\n",
       "      <td>99.647258</td>\n",
       "      <td>99.321634</td>\n",
       "      <td>99.823579</td>\n",
       "    </tr>\n",
       "    <tr>\n",
       "      <th>7</th>\n",
       "      <td>101.116502</td>\n",
       "      <td>99.620031</td>\n",
       "      <td>101.669418</td>\n",
       "      <td>99.479193</td>\n",
       "    </tr>\n",
       "    <tr>\n",
       "      <th>8</th>\n",
       "      <td>101.252833</td>\n",
       "      <td>100.604485</td>\n",
       "      <td>99.101741</td>\n",
       "      <td>99.423091</td>\n",
       "    </tr>\n",
       "    <tr>\n",
       "      <th>9</th>\n",
       "      <td>100.941036</td>\n",
       "      <td>100.140466</td>\n",
       "      <td>99.085726</td>\n",
       "      <td>99.804763</td>\n",
       "    </tr>\n",
       "  </tbody>\n",
       "</table>\n",
       "</div>"
      ],
      "text/plain": [
       "            A           B           C           D\n",
       "0  100.420396   99.627368   98.651098  100.302804\n",
       "1   99.886607   99.399826   99.475726   97.444171\n",
       "2  100.020974   99.084784   99.008654   98.909417\n",
       "3  101.757166  100.689963  100.587554  100.360770\n",
       "4  100.889968  101.095494  101.106142   99.559393\n",
       "5  102.624535  100.753329   99.251306  103.059842\n",
       "6   99.403222   99.647258   99.321634   99.823579\n",
       "7  101.116502   99.620031  101.669418   99.479193\n",
       "8  101.252833  100.604485   99.101741   99.423091\n",
       "9  100.941036  100.140466   99.085726   99.804763"
      ]
     },
     "execution_count": 71,
     "metadata": {},
     "output_type": "execute_result"
    }
   ],
   "source": [
    "# map()\n",
    "f = lambda x: x+100\n",
    "dfr1.A.map(f)\n",
    "dfr1.applymap(f)"
   ]
  },
  {
   "cell_type": "markdown",
   "metadata": {},
   "source": [
    "## Matplotlib Examples"
   ]
  },
  {
   "cell_type": "code",
   "execution_count": 72,
   "metadata": {},
   "outputs": [
    {
     "data": {
      "image/png": "[encoded data removed]",
      "text/plain": [
       "<Figure size 432x288 with 1 Axes>"
      ]
     },
     "metadata": {
      "needs_background": "light"
     },
     "output_type": "display_data"
    }
   ],
   "source": [
    "# normal distribution histogram\n",
    "gaussian_numbers = np.random.randn(10000)\n",
    "plt.hist(gaussian_numbers)\n",
    "plt.title(\"Gaussian Histogram\")\n",
    "plt.xlabel(\"Value\")\n",
    "plt.ylabel(\"Frequency\")\n",
    "plt.show()"
   ]
  },
  {
   "cell_type": "code",
   "execution_count": 73,
   "metadata": {},
   "outputs": [
    {
     "data": {
      "image/png": "[encoded data removed]",
      "text/plain": [
       "<Figure size 432x288 with 1 Axes>"
      ]
     },
     "metadata": {
      "needs_background": "light"
     },
     "output_type": "display_data"
    }
   ],
   "source": [
    "# line plot \n",
    "x = np.arange(0, 10, 0.2)\n",
    "y = np.sin(x)\n",
    "fig, ax = plt.subplots()\n",
    "ax.plot(x, y)\n",
    "plt.show()"
   ]
  },
  {
   "cell_type": "code",
   "execution_count": 74,
   "metadata": {},
   "outputs": [
    {
     "data": {
      "image/png": "[encoded data removed]",
      "text/plain": [
       "<Figure size 432x288 with 1 Axes>"
      ]
     },
     "metadata": {
      "needs_background": "light"
     },
     "output_type": "display_data"
    }
   ],
   "source": [
    "# Multiple plots\n",
    "x = np.linspace(0, 2, 100)\n",
    "\n",
    "plt.plot(x, x, label='linear')\n",
    "plt.plot(x, x**2, label='quadratic')\n",
    "plt.plot(x, x**3, label='cubic')\n",
    "\n",
    "plt.xlabel('x label')\n",
    "plt.ylabel('y label')\n",
    "\n",
    "plt.title(\"Title of plot\")\n",
    "\n",
    "plt.legend()\n",
    "plt.show()"
   ]
  },
  {
   "cell_type": "code",
   "execution_count": 75,
   "metadata": {},
   "outputs": [
    {
     "data": {
      "image/png": "[encoded data removed]",
      "text/plain": [
       "<Figure size 648x216 with 3 Axes>"
      ]
     },
     "metadata": {
      "needs_background": "light"
     },
     "output_type": "display_data"
    }
   ],
   "source": [
    "x = np.linspace(0, 2, 100)\n",
    "\n",
    "plt.figure(1, figsize=(9, 3)) \n",
    "\n",
    "plt.subplot(131)\n",
    "plt.xlabel('x label')\n",
    "plt.ylabel('y label')\n",
    "plt.plot(x, x, label='linear', linewidth=3)\n",
    "\n",
    "plt.subplot(132)\n",
    "plt.xlabel('x label')\n",
    "plt.ylabel('y label')\n",
    "plt.plot(x, x**2, 'r--', label='quadratic')\n",
    "\n",
    "plt.subplot(133)\n",
    "plt.xlabel('x label')\n",
    "plt.ylabel('y label')\n",
    "plt.plot(x, x**3, label='cubic')\n",
    "\n",
    "plt.show()"
   ]
  },
  {
   "cell_type": "code",
   "execution_count": 76,
   "metadata": {},
   "outputs": [
    {
     "data": {
      "image/png": "[encoded data removed]",
      "text/plain": [
       "<Figure size 432x288 with 1 Axes>"
      ]
     },
     "metadata": {
      "needs_background": "light"
     },
     "output_type": "display_data"
    }
   ],
   "source": [
    "# evenly sampled time at 200ms intervals\n",
    "t = np.arange(0., 5., 0.2)\n",
    "\n",
    "# red dashes, blue squares and green triangles\n",
    "plt.plot(t, t, 'r--', t, t**2, 'bs', t, t**3, 'g^')\n",
    "plt.show()"
   ]
  }
 ],
 "metadata": {
  "kernelspec": {
   "display_name": "Python 3 (ipykernel)",
   "language": "python",
   "name": "python3"
  },
  "language_info": {
   "codemirror_mode": {
    "name": "ipython",
    "version": 3
   },
   "file_extension": ".py",
   "mimetype": "text/x-python",
   "name": "python",
   "nbconvert_exporter": "python",
   "pygments_lexer": "ipython3",
   "version": "3.7.10"
  }
 },
 "nbformat": 4,
 "nbformat_minor": 2
}
