{
 "cells": [
  {
   "cell_type": "code",
   "execution_count": 1,
   "id": "ddf9967f",
   "metadata": {},
   "outputs": [],
   "source": [
    "import numpy as np\n",
    "import scipy.optimize as Optim\n",
    "import matplotlib.pyplot as plt\n",
    "from iminuit import Minuit as Min\n"
   ]
  },
  {
   "cell_type": "markdown",
   "id": "127faf98",
   "metadata": {},
   "source": [
    "---\n",
    "PART I"
   ]
  },
  {
   "cell_type": "code",
   "execution_count": 2,
   "id": "d6dc24d3",
   "metadata": {},
   "outputs": [],
   "source": [
    "data = np.loadtxt('datafile-exp.txt')"
   ]
  },
  {
   "cell_type": "code",
   "execution_count": 3,
   "id": "990770f0",
   "metadata": {},
   "outputs": [
    {
     "data": {
      "text/plain": [
       "array([4.30037023, 7.01717053, 1.50516787, ..., 7.95496438, 0.44902867,\n",
       "       0.67637281])"
      ]
     },
     "execution_count": 3,
     "metadata": {},
     "output_type": "execute_result"
    }
   ],
   "source": [
    "data"
   ]
  },
  {
   "cell_type": "code",
   "execution_count": 4,
   "id": "5ca8b3ba",
   "metadata": {},
   "outputs": [
    {
     "data": {
      "text/plain": [
       "(10000,)"
      ]
     },
     "execution_count": 4,
     "metadata": {},
     "output_type": "execute_result"
    }
   ],
   "source": [
    "data.shape"
   ]
  },
  {
   "cell_type": "code",
   "execution_count": 5,
   "id": "91a00d3c",
   "metadata": {},
   "outputs": [
    {
     "data": {
      "image/png": "[encoded data removed]",
      "text/plain": [
       "<Figure size 360x360 with 1 Axes>"
      ]
     },
     "metadata": {
      "needs_background": "light"
     },
     "output_type": "display_data"
    }
   ],
   "source": [
    "plt.figure(figsize = (5,5))\n",
    "freq, lifetime, _ = plt.hist(data, bins = int(np.sqrt(data.shape[0])))\n",
    "plt.xlabel('lifetime')\n",
    "plt.ylabel('freq.')\n",
    "plt.title('lifetime histogram')\n",
    "plt.show()"
   ]
  },
  {
   "cell_type": "code",
   "execution_count": 6,
   "id": "08e537af",
   "metadata": {},
   "outputs": [],
   "source": [
    "min_tau = 0.\n",
    "max_tau = 10."
   ]
  },
  {
   "cell_type": "code",
   "execution_count": 7,
   "id": "8afa5bcb",
   "metadata": {},
   "outputs": [],
   "source": [
    "def pdf(t, tau):\n",
    "    if tau == 0:\n",
    "        return 0.\n",
    "    norm = tau*(np.exp(-min_tau/tau)-np.exp(-max_tau/tau))\n",
    "    return np.exp(-t/tau)/norm\n",
    "\n",
    "def L(t, tau):\n",
    "    return np.prod(pdf(t,tau))\n",
    "\n",
    "def NLL(t,tau):\n",
    "    return -np.sum(np.log(pdf(t,tau)))\n",
    "\n",
    "def NLLfit(tau):\n",
    "    return NLL(data,tau)\n",
    "\n"
   ]
  },
  {
   "cell_type": "code",
   "execution_count": 8,
   "id": "7ca410e0",
   "metadata": {},
   "outputs": [
    {
     "name": "stdout",
     "output_type": "stream",
     "text": [
      "[2.20434542]\n"
     ]
    },
    {
     "data": {
      "image/png": "[encoded data removed]",
      "text/plain": [
       "<Figure size 432x288 with 1 Axes>"
      ]
     },
     "metadata": {
      "needs_background": "light"
     },
     "output_type": "display_data"
    }
   ],
   "source": [
    "#scipy attempt, errors difficult\n",
    "res = Optim.minimize(NLLfit, x0 = [2.], )\n",
    "\n",
    "print(res.x)\n",
    "\n",
    "errs = np.abs(data - res.x)\n",
    "\n",
    "plt.hist(errs, bins = int(np.sqrt(len(errs))))\n",
    "plt.xlabel('residual from predicted')\n",
    "plt.ylabel('freq.')\n",
    "plt.plot()\n",
    "\n",
    "minNLL = NLL(data, res.x)"
   ]
  },
  {
   "cell_type": "code",
   "execution_count": 9,
   "id": "fc353a2b",
   "metadata": {},
   "outputs": [
    {
     "data": {
      "text/html": [
       "<table>\n",
       "    <tr>\n",
       "        <th colspan=\"5\" style=\"text-align:center\" title=\"Minimizer\"> Migrad </th>\n",
       "    </tr>\n",
       "    <tr>\n",
       "        <td colspan=\"2\" style=\"text-align:left\" title=\"Minimum value of function\"> FCN = 1.731e+04 </td>\n",
       "        <td colspan=\"3\" style=\"text-align:center\" title=\"No. of function evaluations in last call and total number\"> Nfcn = 21 </td>\n",
       "    </tr>\n",
       "    <tr>\n",
       "        <td colspan=\"2\" style=\"text-align:left\" title=\"Estimated distance to minimum and goal\"> EDM = 6.59e-08 (Goal: 0.0001) </td>\n",
       "        <td colspan=\"3\" style=\"text-align:center\" title=\"No. of gradient evaluations in last call and total number\">  </td>\n",
       "    </tr>\n",
       "    <tr>\n",
       "        <td colspan=\"2\" style=\"text-align:center;background-color:#92CCA6;color:black\"> Valid Minimum </td>\n",
       "        <td colspan=\"3\" style=\"text-align:center;background-color:#92CCA6;color:black\"> No Parameters at limit </td>\n",
       "    </tr>\n",
       "    <tr>\n",
       "        <td colspan=\"2\" style=\"text-align:center;background-color:#92CCA6;color:black\"> Below EDM threshold (goal x 10) </td>\n",
       "        <td colspan=\"3\" style=\"text-align:center;background-color:#92CCA6;color:black\"> Below call limit </td>\n",
       "    </tr>\n",
       "    <tr>\n",
       "        <td style=\"text-align:center;background-color:#92CCA6;color:black\"> Covariance </td>\n",
       "        <td style=\"text-align:center;background-color:#92CCA6;color:black\"> Hesse ok </td>\n",
       "        <td style=\"text-align:center;background-color:#92CCA6;color:black\" title=\"Is covariance matrix accurate?\"> Accurate </td>\n",
       "        <td style=\"text-align:center;background-color:#92CCA6;color:black\" title=\"Is covariance matrix positive definite?\"> Pos. def. </td>\n",
       "        <td style=\"text-align:center;background-color:#92CCA6;color:black\" title=\"Was positive definiteness enforced by Minuit?\"> Not forced </td>\n",
       "    </tr>\n",
       "</table><table>\n",
       "    <tr>\n",
       "        <td></td>\n",
       "        <th title=\"Variable name\"> Name </th>\n",
       "        <th title=\"Value of parameter\"> Value </th>\n",
       "        <th title=\"Hesse error\"> Hesse Error </th>\n",
       "        <th title=\"Minos lower error\"> Minos Error- </th>\n",
       "        <th title=\"Minos upper error\"> Minos Error+ </th>\n",
       "        <th title=\"Lower limit of the parameter\"> Limit- </th>\n",
       "        <th title=\"Upper limit of the parameter\"> Limit+ </th>\n",
       "        <th title=\"Is the parameter fixed in the fit\"> Fixed </th>\n",
       "    </tr>\n",
       "    <tr>\n",
       "        <th> 0 </th>\n",
       "        <td> tau </td>\n",
       "        <td> 2.204 </td>\n",
       "        <td> 0.025 </td>\n",
       "        <td>  </td>\n",
       "        <td>  </td>\n",
       "        <td> 0 </td>\n",
       "        <td>  </td>\n",
       "        <td>  </td>\n",
       "    </tr>\n",
       "</table><table>\n",
       "    <tr>\n",
       "        <td></td>\n",
       "        <th> tau </th>\n",
       "    </tr>\n",
       "    <tr>\n",
       "        <th> tau </th>\n",
       "        <td> 0.000627 </td>\n",
       "    </tr>\n",
       "</table>"
      ],
      "text/plain": [
       "┌─────────────────────────────────────────────────────────────────────────┐\n",
       "│                                Migrad                                   │\n",
       "├──────────────────────────────────┬──────────────────────────────────────┤\n",
       "│ FCN = 1.731e+04                  │              Nfcn = 21               │\n",
       "│ EDM = 6.59e-08 (Goal: 0.0001)    │                                      │\n",
       "├──────────────────────────────────┼──────────────────────────────────────┤\n",
       "│          Valid Minimum           │        No Parameters at limit        │\n",
       "├──────────────────────────────────┼──────────────────────────────────────┤\n",
       "│ Below EDM threshold (goal x 10)  │           Below call limit           │\n",
       "├───────────────┬──────────────────┼───────────┬─────────────┬────────────┤\n",
       "│  Covariance   │     Hesse ok     │ Accurate  │  Pos. def.  │ Not forced │\n",
       "└───────────────┴──────────────────┴───────────┴─────────────┴────────────┘\n",
       "┌───┬──────┬───────────┬───────────┬────────────┬────────────┬─────────┬─────────┬───────┐\n",
       "│   │ Name │   Value   │ Hesse Err │ Minos Err- │ Minos Err+ │ Limit-  │ Limit+  │ Fixed │\n",
       "├───┼──────┼───────────┼───────────┼────────────┼────────────┼─────────┼─────────┼───────┤\n",
       "│ 0 │ tau  │   2.204   │   0.025   │            │            │    0    │         │       │\n",
       "└───┴──────┴───────────┴───────────┴────────────┴────────────┴─────────┴─────────┴───────┘\n",
       "┌─────┬──────────┐\n",
       "│     │      tau │\n",
       "├─────┼──────────┤\n",
       "│ tau │ 0.000627 │\n",
       "└─────┴──────────┘"
      ]
     },
     "execution_count": 9,
     "metadata": {},
     "output_type": "execute_result"
    }
   ],
   "source": [
    "#Minuit solution, with error\n",
    "pNames = ['tau']\n",
    "start = {\n",
    "    pNames[0]: 2.,\n",
    "}\n",
    "theMin = Min(NLLfit,**start)\n",
    "theMin.errors = [0.1]\n",
    "theMin.errordef = 0.5\n",
    "theMin.limits = [(0,None)]\n",
    "result = theMin.migrad()\n",
    "result"
   ]
  },
  {
   "cell_type": "code",
   "execution_count": 10,
   "id": "7cd2a1e8",
   "metadata": {},
   "outputs": [
    {
     "data": {
      "text/plain": [
       "<ValueView tau=2.204336281167105>"
      ]
     },
     "execution_count": 10,
     "metadata": {},
     "output_type": "execute_result"
    }
   ],
   "source": [
    "result.values"
   ]
  },
  {
   "cell_type": "code",
   "execution_count": 11,
   "id": "4feada28",
   "metadata": {},
   "outputs": [
    {
     "data": {
      "text/plain": [
       "<ErrorView tau=0.025042997158954527>"
      ]
     },
     "execution_count": 11,
     "metadata": {},
     "output_type": "execute_result"
    }
   ],
   "source": [
    "result.errors"
   ]
  },
  {
   "cell_type": "markdown",
   "id": "4897e101",
   "metadata": {},
   "source": [
    "---"
   ]
  },
  {
   "cell_type": "markdown",
   "id": "27d21773",
   "metadata": {},
   "source": [
    "PART 2"
   ]
  },
  {
   "cell_type": "code",
   "execution_count": 12,
   "id": "5e998b91",
   "metadata": {},
   "outputs": [],
   "source": [
    "data2 = np.loadtxt('datafile-expresonance.txt')"
   ]
  },
  {
   "cell_type": "code",
   "execution_count": 13,
   "id": "7ebe2271",
   "metadata": {},
   "outputs": [
    {
     "data": {
      "text/plain": [
       "array([3.65247717, 5.51613443, 1.34167698, ..., 4.38368558, 2.47191837,\n",
       "       4.86731043])"
      ]
     },
     "execution_count": 13,
     "metadata": {},
     "output_type": "execute_result"
    }
   ],
   "source": [
    "data2"
   ]
  },
  {
   "cell_type": "code",
   "execution_count": 14,
   "id": "6e0d59fb",
   "metadata": {},
   "outputs": [
    {
     "data": {
      "text/plain": [
       "10000"
      ]
     },
     "execution_count": 14,
     "metadata": {},
     "output_type": "execute_result"
    }
   ],
   "source": [
    "nevents = len(data2)\n",
    "nevents"
   ]
  },
  {
   "cell_type": "code",
   "execution_count": 15,
   "id": "0c7629fe",
   "metadata": {},
   "outputs": [
    {
     "data": {
      "text/plain": [
       "[]"
      ]
     },
     "execution_count": 15,
     "metadata": {},
     "output_type": "execute_result"
    },
    {
     "data": {
      "image/png": "[encoded data removed]",
      "text/plain": [
       "<Figure size 432x288 with 1 Axes>"
      ]
     },
     "metadata": {
      "needs_background": "light"
     },
     "output_type": "display_data"
    }
   ],
   "source": [
    "plt.hist(data2,bins = int(np.sqrt(nevents)))\n",
    "plt.xlabel('measurement')\n",
    "plt.ylabel('freq.')\n",
    "plt.plot()"
   ]
  },
  {
   "cell_type": "code",
   "execution_count": 16,
   "id": "f251b707",
   "metadata": {},
   "outputs": [],
   "source": [
    "#Setting fixed parameters\n",
    "width = 0.2\n",
    "exp_mean = 2.5\n",
    "exp_life = 5.\n",
    "min_life = 0.\n",
    "max_life = 10.\n",
    "frac_expo = 0.9\n",
    "frac_gauss = 0.1"
   ]
  },
  {
   "cell_type": "code",
   "execution_count": 17,
   "id": "7501a20b",
   "metadata": {},
   "outputs": [],
   "source": [
    "def gauss(x,mean,sigma):\n",
    "    #Gaussian part\n",
    "    res = np.exp(-0.5*(x-mean)**2/sigma**2)/(sigma*np.sqrt(2*np.pi))\n",
    "    return res #/np.sum(res)\n",
    "\n",
    "def exponential(x, tau):\n",
    "    #Exponential part\n",
    "    res = np.exp(-x/tau)\n",
    "    #Normalisation over interval min_life to max_life\n",
    "    norm = tau*(np.exp(-min_life/tau)-np.exp(-max_life/tau))\n",
    "    return res/norm #/np.sum(res)\n",
    "    \n",
    "def pdf(x, tau, mean, F):\n",
    "    #Total = Weighted sum of parts\n",
    "    P = (1-F)*gauss(x, mean, width) + F*exponential(x,tau)\n",
    "    P[P<=0] = 1e-8\n",
    "    return P\n",
    "\n",
    "def NLL2(x,tau, mean, F):\n",
    "    #negative log likelihood\n",
    "    return -np.sum(np.log(pdf(x, tau,mean,F)))\n",
    "\n",
    "def NLL2fit(tau,mean,F):\n",
    "    #function to fit for minuit\n",
    "    #print(tau,' ',mean, ' ', F)\n",
    "    return NLL2(data2,tau,mean,F)\n",
    "\n",
    "def NLL2fit_scipy(args):\n",
    "    #function to fit scipy\n",
    "    tau = args[0]\n",
    "    mean = args[1]\n",
    "    F = args[2]\n",
    "    return NLL2(data2,tau,mean,F)\n"
   ]
  },
  {
   "cell_type": "code",
   "execution_count": 18,
   "id": "195b1af5",
   "metadata": {},
   "outputs": [
    {
     "data": {
      "text/plain": [
       "      fun: 21015.307517707777\n",
       " hess_inv: <3x3 LbfgsInvHessProduct with dtype=float64>\n",
       "      jac: array([-0.32232492, -3.7292921 , -0.05711627])\n",
       "  message: 'CONVERGENCE: REL_REDUCTION_OF_F_<=_FACTR*EPSMCH'\n",
       "     nfev: 76\n",
       "      nit: 12\n",
       "     njev: 19\n",
       "   status: 0\n",
       "  success: True\n",
       "        x: array([5.03994143, 2.49934998, 0.90287439])"
      ]
     },
     "execution_count": 18,
     "metadata": {},
     "output_type": "execute_result"
    }
   ],
   "source": [
    "#scipy, no errors\n",
    "res2 = Optim.minimize(NLL2fit_scipy, x0 = [4.,2.,0.5], method = 'L-BFGS-B',tol = 1e-6)\n",
    "res2"
   ]
  },
  {
   "cell_type": "code",
   "execution_count": 19,
   "id": "6fe679bd",
   "metadata": {},
   "outputs": [
    {
     "data": {
      "text/html": [
       "<table>\n",
       "    <tr>\n",
       "        <th colspan=\"5\" style=\"text-align:center\" title=\"Minimizer\"> Migrad </th>\n",
       "    </tr>\n",
       "    <tr>\n",
       "        <td colspan=\"2\" style=\"text-align:left\" title=\"Minimum value of function\"> FCN = 2.102e+04 </td>\n",
       "        <td colspan=\"3\" style=\"text-align:center\" title=\"No. of function evaluations in last call and total number\"> Nfcn = 110 </td>\n",
       "    </tr>\n",
       "    <tr>\n",
       "        <td colspan=\"2\" style=\"text-align:left\" title=\"Estimated distance to minimum and goal\"> EDM = 3.07e-05 (Goal: 0.0001) </td>\n",
       "        <td colspan=\"3\" style=\"text-align:center\" title=\"No. of gradient evaluations in last call and total number\">  </td>\n",
       "    </tr>\n",
       "    <tr>\n",
       "        <td colspan=\"2\" style=\"text-align:center;background-color:#92CCA6;color:black\"> Valid Minimum </td>\n",
       "        <td colspan=\"3\" style=\"text-align:center;background-color:#92CCA6;color:black\"> No Parameters at limit </td>\n",
       "    </tr>\n",
       "    <tr>\n",
       "        <td colspan=\"2\" style=\"text-align:center;background-color:#92CCA6;color:black\"> Below EDM threshold (goal x 10) </td>\n",
       "        <td colspan=\"3\" style=\"text-align:center;background-color:#92CCA6;color:black\"> Below call limit </td>\n",
       "    </tr>\n",
       "    <tr>\n",
       "        <td style=\"text-align:center;background-color:#92CCA6;color:black\"> Covariance </td>\n",
       "        <td style=\"text-align:center;background-color:#92CCA6;color:black\"> Hesse ok </td>\n",
       "        <td style=\"text-align:center;background-color:#92CCA6;color:black\" title=\"Is covariance matrix accurate?\"> Accurate </td>\n",
       "        <td style=\"text-align:center;background-color:#92CCA6;color:black\" title=\"Is covariance matrix positive definite?\"> Pos. def. </td>\n",
       "        <td style=\"text-align:center;background-color:#92CCA6;color:black\" title=\"Was positive definiteness enforced by Minuit?\"> Not forced </td>\n",
       "    </tr>\n",
       "</table><table>\n",
       "    <tr>\n",
       "        <td></td>\n",
       "        <th title=\"Variable name\"> Name </th>\n",
       "        <th title=\"Value of parameter\"> Value </th>\n",
       "        <th title=\"Hesse error\"> Hesse Error </th>\n",
       "        <th title=\"Minos lower error\"> Minos Error- </th>\n",
       "        <th title=\"Minos upper error\"> Minos Error+ </th>\n",
       "        <th title=\"Lower limit of the parameter\"> Limit- </th>\n",
       "        <th title=\"Upper limit of the parameter\"> Limit+ </th>\n",
       "        <th title=\"Is the parameter fixed in the fit\"> Fixed </th>\n",
       "    </tr>\n",
       "    <tr>\n",
       "        <th> 0 </th>\n",
       "        <td> tau </td>\n",
       "        <td> 5.04 </td>\n",
       "        <td> 0.10 </td>\n",
       "        <td>  </td>\n",
       "        <td>  </td>\n",
       "        <td> 0 </td>\n",
       "        <td>  </td>\n",
       "        <td>  </td>\n",
       "    </tr>\n",
       "    <tr>\n",
       "        <th> 1 </th>\n",
       "        <td> mean </td>\n",
       "        <td> 2.500 </td>\n",
       "        <td> 0.012 </td>\n",
       "        <td>  </td>\n",
       "        <td>  </td>\n",
       "        <td>  </td>\n",
       "        <td>  </td>\n",
       "        <td>  </td>\n",
       "    </tr>\n",
       "    <tr>\n",
       "        <th> 2 </th>\n",
       "        <td> F </td>\n",
       "        <td> 0.903 </td>\n",
       "        <td> 0.005 </td>\n",
       "        <td>  </td>\n",
       "        <td>  </td>\n",
       "        <td> 0 </td>\n",
       "        <td> 1 </td>\n",
       "        <td>  </td>\n",
       "    </tr>\n",
       "</table><table>\n",
       "    <tr>\n",
       "        <td></td>\n",
       "        <th> tau </th>\n",
       "        <th> mean </th>\n",
       "        <th> F </th>\n",
       "    </tr>\n",
       "    <tr>\n",
       "        <th> tau </th>\n",
       "        <td> 0.0106 </td>\n",
       "        <td style=\"background-color:rgb(246,246,250);color:black\"> -4.18e-05 <strong>(-0.035)</strong> </td>\n",
       "        <td style=\"background-color:rgb(237,237,250);color:black\"> -4.48e-05 <strong>(-0.097)</strong> </td>\n",
       "    </tr>\n",
       "    <tr>\n",
       "        <th> mean </th>\n",
       "        <td style=\"background-color:rgb(246,246,250);color:black\"> -4.18e-05 <strong>(-0.035)</strong> </td>\n",
       "        <td> 0.000139 </td>\n",
       "        <td style=\"background-color:rgb(250,248,248);color:black\"> 8.39e-07 <strong>(0.016)</strong> </td>\n",
       "    </tr>\n",
       "    <tr>\n",
       "        <th> F </th>\n",
       "        <td style=\"background-color:rgb(237,237,250);color:black\"> -4.48e-05 <strong>(-0.097)</strong> </td>\n",
       "        <td style=\"background-color:rgb(250,248,248);color:black\"> 8.39e-07 <strong>(0.016)</strong> </td>\n",
       "        <td> 2.03e-05 </td>\n",
       "    </tr>\n",
       "</table>"
      ],
      "text/plain": [
       "┌─────────────────────────────────────────────────────────────────────────┐\n",
       "│                                Migrad                                   │\n",
       "├──────────────────────────────────┬──────────────────────────────────────┤\n",
       "│ FCN = 2.102e+04                  │              Nfcn = 110              │\n",
       "│ EDM = 3.07e-05 (Goal: 0.0001)    │                                      │\n",
       "├──────────────────────────────────┼──────────────────────────────────────┤\n",
       "│          Valid Minimum           │        No Parameters at limit        │\n",
       "├──────────────────────────────────┼──────────────────────────────────────┤\n",
       "│ Below EDM threshold (goal x 10)  │           Below call limit           │\n",
       "├───────────────┬──────────────────┼───────────┬─────────────┬────────────┤\n",
       "│  Covariance   │     Hesse ok     │ Accurate  │  Pos. def.  │ Not forced │\n",
       "└───────────────┴──────────────────┴───────────┴─────────────┴────────────┘\n",
       "┌───┬──────┬───────────┬───────────┬────────────┬────────────┬─────────┬─────────┬───────┐\n",
       "│   │ Name │   Value   │ Hesse Err │ Minos Err- │ Minos Err+ │ Limit-  │ Limit+  │ Fixed │\n",
       "├───┼──────┼───────────┼───────────┼────────────┼────────────┼─────────┼─────────┼───────┤\n",
       "│ 0 │ tau  │   5.04    │   0.10    │            │            │    0    │         │       │\n",
       "│ 1 │ mean │   2.500   │   0.012   │            │            │         │         │       │\n",
       "│ 2 │ F    │   0.903   │   0.005   │            │            │    0    │    1    │       │\n",
       "└───┴──────┴───────────┴───────────┴────────────┴────────────┴─────────┴─────────┴───────┘\n",
       "┌──────┬───────────────────────────────┐\n",
       "│      │       tau      mean         F │\n",
       "├──────┼───────────────────────────────┤\n",
       "│  tau │    0.0106 -4.18e-05 -4.48e-05 │\n",
       "│ mean │ -4.18e-05  0.000139  8.39e-07 │\n",
       "│    F │ -4.48e-05  8.39e-07  2.03e-05 │\n",
       "└──────┴───────────────────────────────┘"
      ]
     },
     "execution_count": 19,
     "metadata": {},
     "output_type": "execute_result"
    }
   ],
   "source": [
    "#Minuit, with errors\n",
    "pNames = ['tau', 'mean','F']\n",
    "start = {\n",
    "    pNames[0]:2,\n",
    "    pNames[1]:2.,\n",
    "    pNames[2]:0.5\n",
    "}\n",
    "theMin2 = Min(NLL2fit,**start)\n",
    "theMin2.errors = [0.1,0.1,0.01]\n",
    "theMin2.errordef = 0.5\n",
    "theMin2.limits = [(0,None),None, (0,1)]\n",
    "result2 = theMin2.migrad()\n",
    "result2"
   ]
  },
  {
   "cell_type": "code",
   "execution_count": null,
   "id": "a15992b4",
   "metadata": {},
   "outputs": [],
   "source": []
  },
  {
   "cell_type": "code",
   "execution_count": null,
   "id": "a5e1085f",
   "metadata": {},
   "outputs": [],
   "source": []
  }
 ],
 "metadata": {
  "kernelspec": {
   "display_name": "Python 3 (ipykernel)",
   "language": "python",
   "name": "python3"
  },
  "language_info": {
   "codemirror_mode": {
    "name": "ipython",
    "version": 3
   },
   "file_extension": ".py",
   "mimetype": "text/x-python",
   "name": "python",
   "nbconvert_exporter": "python",
   "pygments_lexer": "ipython3",
   "version": "3.7.10"
  }
 },
 "nbformat": 4,
 "nbformat_minor": 5
}
